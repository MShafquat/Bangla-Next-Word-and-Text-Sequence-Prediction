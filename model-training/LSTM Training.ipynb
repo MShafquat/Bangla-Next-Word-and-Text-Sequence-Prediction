{
 "cells": [
  {
   "cell_type": "markdown",
   "id": "2a9ae416",
   "metadata": {},
   "source": [
    "# Training an LSTM model on books dataset"
   ]
  },
  {
   "cell_type": "markdown",
   "id": "9d9c2898",
   "metadata": {},
   "source": [
    "First we import necessary packages for our project"
   ]
  },
  {
   "cell_type": "code",
   "execution_count": 1,
   "id": "045b4369",
   "metadata": {},
   "outputs": [],
   "source": [
    "from matplotlib import pyplot as plt\n",
    "import numpy as np\n",
    "import os\n",
    "from pathlib import Path\n",
    "import pickle\n",
    "import random\n",
    "import tensorflow as tf\n",
    "from tensorflow.keras.preprocessing.text import Tokenizer\n",
    "from tqdm import tqdm"
   ]
  },
  {
   "cell_type": "markdown",
   "id": "47bd9188",
   "metadata": {},
   "source": [
    "## Preparing Dataset"
   ]
  },
  {
   "cell_type": "markdown",
   "id": "211961f7",
   "metadata": {},
   "source": [
    "Initialize the project root, data, and model directories."
   ]
  },
  {
   "cell_type": "code",
   "execution_count": 2,
   "id": "cca9255e",
   "metadata": {},
   "outputs": [],
   "source": [
    "# get data and model directories\n",
    "project_root = Path('__file__').resolve().parents[1]\n",
    "data_dir = project_root / 'data/'\n",
    "model_dir = project_root / 'models/bn_lstm'\n",
    "os.makedirs(model_dir, exist_ok=True) # Create if does not exist"
   ]
  },
  {
   "cell_type": "markdown",
   "id": "82779262",
   "metadata": {},
   "source": [
    "Get list of files in the data directory"
   ]
  },
  {
   "cell_type": "code",
   "execution_count": 3,
   "id": "07e0c682",
   "metadata": {},
   "outputs": [],
   "source": [
    "filenames = [str(file) for file in Path(data_dir).glob('**/*.txt')]"
   ]
  },
  {
   "cell_type": "markdown",
   "id": "5b1ad487",
   "metadata": {},
   "source": [
    "Split the files for training and testing. We are randomly shuffling the files and selecting only first 40 for training and next 10 for testing."
   ]
  },
  {
   "cell_type": "code",
   "execution_count": 4,
   "id": "2d66250c",
   "metadata": {},
   "outputs": [],
   "source": [
    "random.shuffle(filenames) # randomly shuffle the data\n",
    "training_filenames = filenames[:40]\n",
    "test_filenames = filenames[:10]"
   ]
  },
  {
   "cell_type": "markdown",
   "id": "e9f20131",
   "metadata": {},
   "source": [
    "Now we create a function that creates a tokenizer with `max_words`, fit it on training files and save to `model_dir`."
   ]
  },
  {
   "cell_type": "code",
   "execution_count": 5,
   "id": "b79d3447",
   "metadata": {},
   "outputs": [],
   "source": [
    "def create_tokenizer(files, max_words, model_dir):\n",
    "    tokenizer = Tokenizer(num_words=max_words)\n",
    "    for file in tqdm(files):\n",
    "        with open(file, 'r') as f:\n",
    "            lines = f.read().split('\\n')\n",
    "            tokenizer.fit_on_texts(lines)\n",
    "    save_path = model_dir / 'tokenizer.pickle'\n",
    "    # save the tokenizer in model dir\n",
    "    with open(save_path, 'wb') as handle:\n",
    "        pickle.dump(tokenizer, handle, protocol=pickle.HIGHEST_PROTOCOL)\n",
    "    return tokenizer"
   ]
  },
  {
   "cell_type": "markdown",
   "id": "3b979e29",
   "metadata": {},
   "source": [
    "Define max words and max sequence length"
   ]
  },
  {
   "cell_type": "code",
   "execution_count": 6,
   "id": "986ac017",
   "metadata": {},
   "outputs": [],
   "source": [
    "MAX_WORDS = 10000\n",
    "MAX_SEQUENCE_LENGTH = 100"
   ]
  },
  {
   "cell_type": "markdown",
   "id": "45c506eb",
   "metadata": {},
   "source": [
    "Now create the tokenizer calling the function and passing the defined constants"
   ]
  },
  {
   "cell_type": "code",
   "execution_count": 7,
   "id": "3c356bb9",
   "metadata": {},
   "outputs": [
    {
     "name": "stderr",
     "output_type": "stream",
     "text": [
      "100%|███████████████████████████████████████████| 40/40 [00:03<00:00, 10.21it/s]\n"
     ]
    }
   ],
   "source": [
    "tokenizer = create_tokenizer(training_filenames, MAX_WORDS, model_dir)"
   ]
  },
  {
   "cell_type": "markdown",
   "id": "f3666967",
   "metadata": {},
   "source": [
    "`create_dataset` creates a dataset from given `files` and returns two variables - `predictors` which is a sequence of previous words of length `max_sequence_length - 1` and `labels` which is an integer between 0 to `max_words + 1`.\n",
    "Note that, converting to categorical variables leads to `MemoryError` since it tries to create a sequence of `number of elements in training or test set * (MAX_WORDS + 1)` shape. We are following [this blog](https://medium.com/deep-learning-with-keras/which-activation-loss-functions-in-multi-class-clasification-4cd599e4e61f) and keeping the label as an integer."
   ]
  },
  {
   "cell_type": "code",
   "execution_count": 35,
   "id": "84f61d16",
   "metadata": {},
   "outputs": [],
   "source": [
    "def create_dataset(tokenizer, files, max_words, max_sequence_length):\n",
    "    input_sequences = []\n",
    "\n",
    "    for file in tqdm(files):\n",
    "        with open(file, 'r') as f:\n",
    "            lines = f.read().split('\\n')\n",
    "            token_list = tokenizer.texts_to_sequences(lines)\n",
    "            for tokens in token_list:\n",
    "                for i in range(1, len(tokens)):\n",
    "                    # keep only sequences of length <= max_sequence_length\n",
    "                    n_gram_sequence = tokens[max(0, i+1-max_sequence_length):i+1]\n",
    "                    input_sequences.append(n_gram_sequence)\n",
    "\n",
    "    # pad sequences with 0s so that all sequences have same length\n",
    "    input_sequences = tf.keras.preprocessing.sequence.pad_sequences(\n",
    "        input_sequences, maxlen=max_sequence_length, padding='pre')\n",
    "\n",
    "    predictors, label = input_sequences[:, :-1], input_sequences[:, -1]\n",
    "    del input_sequences\n",
    "    return predictors, label"
   ]
  },
  {
   "cell_type": "markdown",
   "id": "cefa8634",
   "metadata": {},
   "source": [
    "Now we create training dataset `X_train` and `y_train` from training files and test dataset `X_test` and `y_test` from test files."
   ]
  },
  {
   "cell_type": "code",
   "execution_count": 36,
   "id": "615e2248",
   "metadata": {},
   "outputs": [
    {
     "name": "stderr",
     "output_type": "stream",
     "text": [
      "100%|███████████████████████████████████████████| 40/40 [00:02<00:00, 14.96it/s]\n",
      "100%|███████████████████████████████████████████| 10/10 [00:00<00:00, 14.85it/s]\n"
     ]
    }
   ],
   "source": [
    "X_train, y_train = create_dataset(tokenizer, training_filenames, MAX_WORDS, MAX_SEQUENCE_LENGTH)\n",
    "X_test, y_test = create_dataset(tokenizer, test_filenames, MAX_WORDS, MAX_SEQUENCE_LENGTH)"
   ]
  },
  {
   "cell_type": "markdown",
   "id": "9ff8d701",
   "metadata": {},
   "source": [
    "## Creating and Training Model"
   ]
  },
  {
   "cell_type": "markdown",
   "id": "379ffeff",
   "metadata": {},
   "source": [
    "Create a sequential LSTM model and compile the model with loss `sparse_categorical_crossentropy`, optimizer `adam` and metric `sparse_categorical_accuracy`. We are using sparse categorical crossentropy since the values are integers, not one-hot encoded, see this question on [stackexchange](https://stats.stackexchange.com/questions/326065/cross-entropy-vs-sparse-cross-entropy-when-to-use-one-over-the-other) for details."
   ]
  },
  {
   "cell_type": "code",
   "execution_count": 49,
   "id": "9a4a4f4b",
   "metadata": {},
   "outputs": [],
   "source": [
    "model = tf.keras.Sequential([\n",
    "    tf.keras.layers.Embedding(\n",
    "        MAX_WORDS+1, MAX_SEQUENCE_LENGTH-1, input_length=MAX_SEQUENCE_LENGTH-1),\n",
    "    tf.keras.layers.LSTM(64, return_sequences=True, name='lstm_1'),\n",
    "    tf.keras.layers.LSTM(32, name='lstm_2'),\n",
    "    tf.keras.layers.Dense(MAX_WORDS+1, activation='softmax')\n",
    "])\n",
    "model.compile(loss='sparse_categorical_crossentropy',\n",
    "              optimizer='adam', metrics=['sparse_categorical_accuracy'])"
   ]
  },
  {
   "cell_type": "markdown",
   "id": "7aa84d61",
   "metadata": {},
   "source": [
    "Create callbacks `EarlyStopping` which monitors `val_loss` for 10 epochs, and `ModelCheckpoint` which saves best model to `model_dir`."
   ]
  },
  {
   "cell_type": "code",
   "execution_count": 50,
   "id": "d3542bf6",
   "metadata": {},
   "outputs": [],
   "source": [
    "earlystop = tf.keras.callbacks.EarlyStopping(\n",
    "    monitor='val_loss', min_delta=0, patience=10, mode='auto')\n",
    "checkpoint = tf.keras.callbacks.ModelCheckpoint(\n",
    "    str(model_dir), monitor='val_loss', verbose=1, save_best_only=True, mode='min')"
   ]
  },
  {
   "cell_type": "markdown",
   "id": "f5cec6e2",
   "metadata": {},
   "source": [
    "Start training the model and store the training results in `history`."
   ]
  },
  {
   "cell_type": "code",
   "execution_count": 52,
   "id": "d748bffc",
   "metadata": {},
   "outputs": [
    {
     "name": "stdout",
     "output_type": "stream",
     "text": [
      "Epoch 1/10\n",
      "2974/2975 [============================>.] - ETA: 0s - loss: 7.6793 - sparse_categorical_accuracy: 0.0163\n",
      "Epoch 1: val_loss improved from inf to 7.55498, saving model to /home/shafquat/bangla-next-word-prediction/models/bn_lstm\n"
     ]
    },
    {
     "name": "stderr",
     "output_type": "stream",
     "text": [
      "WARNING:absl:Found untraced functions such as lstm_cell_10_layer_call_fn, lstm_cell_10_layer_call_and_return_conditional_losses, lstm_cell_11_layer_call_fn, lstm_cell_11_layer_call_and_return_conditional_losses while saving (showing 4 of 4). These functions will not be directly callable after loading.\n"
     ]
    },
    {
     "name": "stdout",
     "output_type": "stream",
     "text": [
      "INFO:tensorflow:Assets written to: /home/shafquat/bangla-next-word-prediction/models/bn_lstm/assets\n"
     ]
    },
    {
     "name": "stderr",
     "output_type": "stream",
     "text": [
      "INFO:tensorflow:Assets written to: /home/shafquat/bangla-next-word-prediction/models/bn_lstm/assets\n",
      "WARNING:absl:<keras.layers.recurrent.LSTMCell object at 0x7fa1459b7970> has the same name 'LSTMCell' as a built-in Keras object. Consider renaming <class 'keras.layers.recurrent.LSTMCell'> to avoid naming conflicts when loading with `tf.keras.models.load_model`. If renaming is not possible, pass the object in the `custom_objects` parameter of the load function.\n",
      "WARNING:absl:<keras.layers.recurrent.LSTMCell object at 0x7fa39c389e50> has the same name 'LSTMCell' as a built-in Keras object. Consider renaming <class 'keras.layers.recurrent.LSTMCell'> to avoid naming conflicts when loading with `tf.keras.models.load_model`. If renaming is not possible, pass the object in the `custom_objects` parameter of the load function.\n"
     ]
    },
    {
     "name": "stdout",
     "output_type": "stream",
     "text": [
      "2975/2975 [==============================] - 67s 22ms/step - loss: 7.6793 - sparse_categorical_accuracy: 0.0163 - val_loss: 7.5550 - val_sparse_categorical_accuracy: 0.0265\n",
      "Epoch 2/10\n",
      "2974/2975 [============================>.] - ETA: 0s - loss: 7.2964 - sparse_categorical_accuracy: 0.0322\n",
      "Epoch 2: val_loss improved from 7.55498 to 7.37281, saving model to /home/shafquat/bangla-next-word-prediction/models/bn_lstm\n"
     ]
    },
    {
     "name": "stderr",
     "output_type": "stream",
     "text": [
      "WARNING:absl:Found untraced functions such as lstm_cell_10_layer_call_fn, lstm_cell_10_layer_call_and_return_conditional_losses, lstm_cell_11_layer_call_fn, lstm_cell_11_layer_call_and_return_conditional_losses while saving (showing 4 of 4). These functions will not be directly callable after loading.\n"
     ]
    },
    {
     "name": "stdout",
     "output_type": "stream",
     "text": [
      "INFO:tensorflow:Assets written to: /home/shafquat/bangla-next-word-prediction/models/bn_lstm/assets\n"
     ]
    },
    {
     "name": "stderr",
     "output_type": "stream",
     "text": [
      "INFO:tensorflow:Assets written to: /home/shafquat/bangla-next-word-prediction/models/bn_lstm/assets\n",
      "WARNING:absl:<keras.layers.recurrent.LSTMCell object at 0x7fa1459b7970> has the same name 'LSTMCell' as a built-in Keras object. Consider renaming <class 'keras.layers.recurrent.LSTMCell'> to avoid naming conflicts when loading with `tf.keras.models.load_model`. If renaming is not possible, pass the object in the `custom_objects` parameter of the load function.\n",
      "WARNING:absl:<keras.layers.recurrent.LSTMCell object at 0x7fa39c389e50> has the same name 'LSTMCell' as a built-in Keras object. Consider renaming <class 'keras.layers.recurrent.LSTMCell'> to avoid naming conflicts when loading with `tf.keras.models.load_model`. If renaming is not possible, pass the object in the `custom_objects` parameter of the load function.\n"
     ]
    },
    {
     "name": "stdout",
     "output_type": "stream",
     "text": [
      "2975/2975 [==============================] - 65s 22ms/step - loss: 7.2964 - sparse_categorical_accuracy: 0.0322 - val_loss: 7.3728 - val_sparse_categorical_accuracy: 0.0375\n",
      "Epoch 3/10\n",
      "2974/2975 [============================>.] - ETA: 0s - loss: 7.0297 - sparse_categorical_accuracy: 0.0419\n",
      "Epoch 3: val_loss improved from 7.37281 to 7.32600, saving model to /home/shafquat/bangla-next-word-prediction/models/bn_lstm\n"
     ]
    },
    {
     "name": "stderr",
     "output_type": "stream",
     "text": [
      "WARNING:absl:Found untraced functions such as lstm_cell_10_layer_call_fn, lstm_cell_10_layer_call_and_return_conditional_losses, lstm_cell_11_layer_call_fn, lstm_cell_11_layer_call_and_return_conditional_losses while saving (showing 4 of 4). These functions will not be directly callable after loading.\n"
     ]
    },
    {
     "name": "stdout",
     "output_type": "stream",
     "text": [
      "INFO:tensorflow:Assets written to: /home/shafquat/bangla-next-word-prediction/models/bn_lstm/assets\n"
     ]
    },
    {
     "name": "stderr",
     "output_type": "stream",
     "text": [
      "INFO:tensorflow:Assets written to: /home/shafquat/bangla-next-word-prediction/models/bn_lstm/assets\n",
      "WARNING:absl:<keras.layers.recurrent.LSTMCell object at 0x7fa1459b7970> has the same name 'LSTMCell' as a built-in Keras object. Consider renaming <class 'keras.layers.recurrent.LSTMCell'> to avoid naming conflicts when loading with `tf.keras.models.load_model`. If renaming is not possible, pass the object in the `custom_objects` parameter of the load function.\n",
      "WARNING:absl:<keras.layers.recurrent.LSTMCell object at 0x7fa39c389e50> has the same name 'LSTMCell' as a built-in Keras object. Consider renaming <class 'keras.layers.recurrent.LSTMCell'> to avoid naming conflicts when loading with `tf.keras.models.load_model`. If renaming is not possible, pass the object in the `custom_objects` parameter of the load function.\n"
     ]
    },
    {
     "name": "stdout",
     "output_type": "stream",
     "text": [
      "2975/2975 [==============================] - 66s 22ms/step - loss: 7.0297 - sparse_categorical_accuracy: 0.0419 - val_loss: 7.3260 - val_sparse_categorical_accuracy: 0.0390\n",
      "Epoch 4/10\n",
      "2974/2975 [============================>.] - ETA: 0s - loss: 6.8423 - sparse_categorical_accuracy: 0.0488\n",
      "Epoch 4: val_loss improved from 7.32600 to 7.30998, saving model to /home/shafquat/bangla-next-word-prediction/models/bn_lstm\n"
     ]
    },
    {
     "name": "stderr",
     "output_type": "stream",
     "text": [
      "WARNING:absl:Found untraced functions such as lstm_cell_10_layer_call_fn, lstm_cell_10_layer_call_and_return_conditional_losses, lstm_cell_11_layer_call_fn, lstm_cell_11_layer_call_and_return_conditional_losses while saving (showing 4 of 4). These functions will not be directly callable after loading.\n"
     ]
    },
    {
     "name": "stdout",
     "output_type": "stream",
     "text": [
      "INFO:tensorflow:Assets written to: /home/shafquat/bangla-next-word-prediction/models/bn_lstm/assets\n"
     ]
    },
    {
     "name": "stderr",
     "output_type": "stream",
     "text": [
      "INFO:tensorflow:Assets written to: /home/shafquat/bangla-next-word-prediction/models/bn_lstm/assets\n",
      "WARNING:absl:<keras.layers.recurrent.LSTMCell object at 0x7fa1459b7970> has the same name 'LSTMCell' as a built-in Keras object. Consider renaming <class 'keras.layers.recurrent.LSTMCell'> to avoid naming conflicts when loading with `tf.keras.models.load_model`. If renaming is not possible, pass the object in the `custom_objects` parameter of the load function.\n",
      "WARNING:absl:<keras.layers.recurrent.LSTMCell object at 0x7fa39c389e50> has the same name 'LSTMCell' as a built-in Keras object. Consider renaming <class 'keras.layers.recurrent.LSTMCell'> to avoid naming conflicts when loading with `tf.keras.models.load_model`. If renaming is not possible, pass the object in the `custom_objects` parameter of the load function.\n"
     ]
    },
    {
     "name": "stdout",
     "output_type": "stream",
     "text": [
      "2975/2975 [==============================] - 64s 22ms/step - loss: 6.8423 - sparse_categorical_accuracy: 0.0488 - val_loss: 7.3100 - val_sparse_categorical_accuracy: 0.0402\n",
      "Epoch 5/10\n",
      "2974/2975 [============================>.] - ETA: 0s - loss: 6.7050 - sparse_categorical_accuracy: 0.0545\n",
      "Epoch 5: val_loss improved from 7.30998 to 7.30042, saving model to /home/shafquat/bangla-next-word-prediction/models/bn_lstm\n"
     ]
    },
    {
     "name": "stderr",
     "output_type": "stream",
     "text": [
      "WARNING:absl:Found untraced functions such as lstm_cell_10_layer_call_fn, lstm_cell_10_layer_call_and_return_conditional_losses, lstm_cell_11_layer_call_fn, lstm_cell_11_layer_call_and_return_conditional_losses while saving (showing 4 of 4). These functions will not be directly callable after loading.\n"
     ]
    },
    {
     "name": "stdout",
     "output_type": "stream",
     "text": [
      "INFO:tensorflow:Assets written to: /home/shafquat/bangla-next-word-prediction/models/bn_lstm/assets\n"
     ]
    },
    {
     "name": "stderr",
     "output_type": "stream",
     "text": [
      "INFO:tensorflow:Assets written to: /home/shafquat/bangla-next-word-prediction/models/bn_lstm/assets\n",
      "WARNING:absl:<keras.layers.recurrent.LSTMCell object at 0x7fa1459b7970> has the same name 'LSTMCell' as a built-in Keras object. Consider renaming <class 'keras.layers.recurrent.LSTMCell'> to avoid naming conflicts when loading with `tf.keras.models.load_model`. If renaming is not possible, pass the object in the `custom_objects` parameter of the load function.\n",
      "WARNING:absl:<keras.layers.recurrent.LSTMCell object at 0x7fa39c389e50> has the same name 'LSTMCell' as a built-in Keras object. Consider renaming <class 'keras.layers.recurrent.LSTMCell'> to avoid naming conflicts when loading with `tf.keras.models.load_model`. If renaming is not possible, pass the object in the `custom_objects` parameter of the load function.\n"
     ]
    },
    {
     "name": "stdout",
     "output_type": "stream",
     "text": [
      "2975/2975 [==============================] - 65s 22ms/step - loss: 6.7050 - sparse_categorical_accuracy: 0.0545 - val_loss: 7.3004 - val_sparse_categorical_accuracy: 0.0466\n",
      "Epoch 6/10\n",
      "2974/2975 [============================>.] - ETA: 0s - loss: 6.5812 - sparse_categorical_accuracy: 0.0603\n",
      "Epoch 6: val_loss improved from 7.30042 to 7.28492, saving model to /home/shafquat/bangla-next-word-prediction/models/bn_lstm\n"
     ]
    },
    {
     "name": "stderr",
     "output_type": "stream",
     "text": [
      "WARNING:absl:Found untraced functions such as lstm_cell_10_layer_call_fn, lstm_cell_10_layer_call_and_return_conditional_losses, lstm_cell_11_layer_call_fn, lstm_cell_11_layer_call_and_return_conditional_losses while saving (showing 4 of 4). These functions will not be directly callable after loading.\n"
     ]
    },
    {
     "name": "stdout",
     "output_type": "stream",
     "text": [
      "INFO:tensorflow:Assets written to: /home/shafquat/bangla-next-word-prediction/models/bn_lstm/assets\n"
     ]
    },
    {
     "name": "stderr",
     "output_type": "stream",
     "text": [
      "INFO:tensorflow:Assets written to: /home/shafquat/bangla-next-word-prediction/models/bn_lstm/assets\n",
      "WARNING:absl:<keras.layers.recurrent.LSTMCell object at 0x7fa1459b7970> has the same name 'LSTMCell' as a built-in Keras object. Consider renaming <class 'keras.layers.recurrent.LSTMCell'> to avoid naming conflicts when loading with `tf.keras.models.load_model`. If renaming is not possible, pass the object in the `custom_objects` parameter of the load function.\n",
      "WARNING:absl:<keras.layers.recurrent.LSTMCell object at 0x7fa39c389e50> has the same name 'LSTMCell' as a built-in Keras object. Consider renaming <class 'keras.layers.recurrent.LSTMCell'> to avoid naming conflicts when loading with `tf.keras.models.load_model`. If renaming is not possible, pass the object in the `custom_objects` parameter of the load function.\n"
     ]
    },
    {
     "name": "stdout",
     "output_type": "stream",
     "text": [
      "2975/2975 [==============================] - 65s 22ms/step - loss: 6.5812 - sparse_categorical_accuracy: 0.0603 - val_loss: 7.2849 - val_sparse_categorical_accuracy: 0.0472\n",
      "Epoch 7/10\n",
      "2974/2975 [============================>.] - ETA: 0s - loss: 6.4750 - sparse_categorical_accuracy: 0.0659\n",
      "Epoch 7: val_loss did not improve from 7.28492\n",
      "2975/2975 [==============================] - 62s 21ms/step - loss: 6.4750 - sparse_categorical_accuracy: 0.0659 - val_loss: 7.2953 - val_sparse_categorical_accuracy: 0.0487\n",
      "Epoch 8/10\n",
      "2974/2975 [============================>.] - ETA: 0s - loss: 6.3916 - sparse_categorical_accuracy: 0.0708\n",
      "Epoch 8: val_loss improved from 7.28492 to 7.28369, saving model to /home/shafquat/bangla-next-word-prediction/models/bn_lstm\n"
     ]
    },
    {
     "name": "stderr",
     "output_type": "stream",
     "text": [
      "WARNING:absl:Found untraced functions such as lstm_cell_10_layer_call_fn, lstm_cell_10_layer_call_and_return_conditional_losses, lstm_cell_11_layer_call_fn, lstm_cell_11_layer_call_and_return_conditional_losses while saving (showing 4 of 4). These functions will not be directly callable after loading.\n"
     ]
    },
    {
     "name": "stdout",
     "output_type": "stream",
     "text": [
      "INFO:tensorflow:Assets written to: /home/shafquat/bangla-next-word-prediction/models/bn_lstm/assets\n"
     ]
    },
    {
     "name": "stderr",
     "output_type": "stream",
     "text": [
      "INFO:tensorflow:Assets written to: /home/shafquat/bangla-next-word-prediction/models/bn_lstm/assets\n",
      "WARNING:absl:<keras.layers.recurrent.LSTMCell object at 0x7fa1459b7970> has the same name 'LSTMCell' as a built-in Keras object. Consider renaming <class 'keras.layers.recurrent.LSTMCell'> to avoid naming conflicts when loading with `tf.keras.models.load_model`. If renaming is not possible, pass the object in the `custom_objects` parameter of the load function.\n",
      "WARNING:absl:<keras.layers.recurrent.LSTMCell object at 0x7fa39c389e50> has the same name 'LSTMCell' as a built-in Keras object. Consider renaming <class 'keras.layers.recurrent.LSTMCell'> to avoid naming conflicts when loading with `tf.keras.models.load_model`. If renaming is not possible, pass the object in the `custom_objects` parameter of the load function.\n"
     ]
    },
    {
     "name": "stdout",
     "output_type": "stream",
     "text": [
      "2975/2975 [==============================] - 69s 23ms/step - loss: 6.3916 - sparse_categorical_accuracy: 0.0708 - val_loss: 7.2837 - val_sparse_categorical_accuracy: 0.0507\n",
      "Epoch 9/10\n",
      "2974/2975 [============================>.] - ETA: 0s - loss: 6.3213 - sparse_categorical_accuracy: 0.0750\n",
      "Epoch 9: val_loss did not improve from 7.28369\n",
      "2975/2975 [==============================] - 62s 21ms/step - loss: 6.3213 - sparse_categorical_accuracy: 0.0750 - val_loss: 7.3153 - val_sparse_categorical_accuracy: 0.0506\n",
      "Epoch 10/10\n",
      "2974/2975 [============================>.] - ETA: 0s - loss: 6.2600 - sparse_categorical_accuracy: 0.0785\n",
      "Epoch 10: val_loss did not improve from 7.28369\n",
      "2975/2975 [==============================] - 62s 21ms/step - loss: 6.2600 - sparse_categorical_accuracy: 0.0785 - val_loss: 7.3238 - val_sparse_categorical_accuracy: 0.0529\n"
     ]
    }
   ],
   "source": [
    "history = model.fit(X_train, y_train, batch_size=256,\n",
    "                    epochs=10, validation_split=0.2,\n",
    "                    callbacks=[earlystop, checkpoint])"
   ]
  },
  {
   "cell_type": "markdown",
   "id": "3b86ca9a",
   "metadata": {},
   "source": [
    "Next, we plot the training accuracy and loss from `history.history`."
   ]
  },
  {
   "cell_type": "code",
   "execution_count": 53,
   "id": "9bf24fd4",
   "metadata": {},
   "outputs": [
    {
     "data": {
      "image/png": "[encoded data removed]",
      "text/plain": [
       "<Figure size 720x432 with 1 Axes>"
      ]
     },
     "metadata": {
      "needs_background": "light"
     },
     "output_type": "display_data"
    },
    {
     "data": {
      "image/png": "[encoded data removed]",
      "text/plain": [
       "<Figure size 720x432 with 1 Axes>"
      ]
     },
     "metadata": {
      "needs_background": "light"
     },
     "output_type": "display_data"
    }
   ],
   "source": [
    "fig = plt.figure(figsize=(10, 6))\n",
    "plt.plot(history.history['sparse_categorical_accuracy'], label='sparse_categorical_accuracy')\n",
    "plt.plot(history.history['val_sparse_categorical_accuracy'], label='val_sparse_categorical_accuracy')\n",
    "plt.xlabel('Epoch')\n",
    "plt.ylabel('Sparse Categorical Accuracy')\n",
    "plt.legend(loc='lower right')\n",
    "plt.show()\n",
    "fig.savefig(str(model_dir / f'sparse_categorical_accuracy.png'), dpi=fig.dpi)\n",
    "\n",
    "fig = plt.figure(figsize=(10, 6))\n",
    "plt.plot(history.history['loss'], label='loss')\n",
    "plt.plot(history.history['val_loss'], label='val_loss')\n",
    "plt.xlabel('Epoch')\n",
    "plt.ylabel('Loss')\n",
    "plt.legend(loc='lower right')\n",
    "plt.show()\n",
    "fig.savefig(str(model_dir / f'sparse_categorical_loss.png'), dpi=fig.dpi)"
   ]
  },
  {
   "cell_type": "markdown",
   "id": "8c48fffa",
   "metadata": {},
   "source": [
    "Finally we evaluate the model on test data."
   ]
  },
  {
   "cell_type": "code",
   "execution_count": 55,
   "id": "2ed06111",
   "metadata": {},
   "outputs": [
    {
     "name": "stdout",
     "output_type": "stream",
     "text": [
      "2259/2259 [==============================] - 17s 7ms/step - loss: 6.0375 - sparse_categorical_accuracy: 0.0909\n"
     ]
    },
    {
     "data": {
      "text/plain": [
       "[6.037466049194336, 0.09086915105581284]"
      ]
     },
     "execution_count": 55,
     "metadata": {},
     "output_type": "execute_result"
    }
   ],
   "source": [
    "model.evaluate(X_test, y_test, batch_size=128)"
   ]
  }
 ],
 "metadata": {
  "kernelspec": {
   "display_name": "Python 3 (ipykernel)",
   "language": "python",
   "name": "python3"
  },
  "language_info": {
   "codemirror_mode": {
    "name": "ipython",
    "version": 3
   },
   "file_extension": ".py",
   "mimetype": "text/x-python",
   "name": "python",
   "nbconvert_exporter": "python",
   "pygments_lexer": "ipython3",
   "version": "3.8.10"
  }
 },
 "nbformat": 4,
 "nbformat_minor": 5
}
