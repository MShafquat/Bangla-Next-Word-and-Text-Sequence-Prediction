{
 "cells": [
  {
   "cell_type": "markdown",
   "id": "2a9ae416",
   "metadata": {},
   "source": [
    "# Training an LSTM model on books dataset"
   ]
  },
  {
   "cell_type": "markdown",
   "id": "9d9c2898",
   "metadata": {},
   "source": [
    "First we import necessary packages for our project"
   ]
  },
  {
   "cell_type": "code",
   "execution_count": 1,
   "id": "045b4369",
   "metadata": {},
   "outputs": [],
   "source": [
    "from matplotlib import pyplot as plt\n",
    "import numpy as np\n",
    "import os\n",
    "from pathlib import Path\n",
    "import pickle\n",
    "import random\n",
    "import tensorflow as tf\n",
    "from tensorflow.keras.preprocessing.text import Tokenizer\n",
    "from tqdm import tqdm"
   ]
  },
  {
   "cell_type": "markdown",
   "id": "47bd9188",
   "metadata": {},
   "source": [
    "## Preparing Dataset"
   ]
  },
  {
   "cell_type": "markdown",
   "id": "211961f7",
   "metadata": {},
   "source": [
    "Initialize the project root, data, and model directories. `processed_data` directory contains selected books from renowned authors only."
   ]
  },
  {
   "cell_type": "code",
   "execution_count": 2,
   "id": "cca9255e",
   "metadata": {},
   "outputs": [],
   "source": [
    "# get data and model directories\n",
    "project_root = Path('__file__').resolve().parents[1]\n",
    "data_dir = project_root / 'processed_data/'\n",
    "model_dir = project_root / 'models/bn_lstm'\n",
    "os.makedirs(model_dir, exist_ok=True) # Create if does not exist"
   ]
  },
  {
   "cell_type": "markdown",
   "id": "82779262",
   "metadata": {},
   "source": [
    "Get list of files in the data directory"
   ]
  },
  {
   "cell_type": "code",
   "execution_count": 3,
   "id": "07e0c682",
   "metadata": {},
   "outputs": [],
   "source": [
    "filenames = [str(file) for file in Path(data_dir).glob('**/*.txt')]"
   ]
  },
  {
   "cell_type": "markdown",
   "id": "fcd575e2",
   "metadata": {},
   "source": [
    "Then we randomly shuffle the filenames list and select 100 files."
   ]
  },
  {
   "cell_type": "code",
   "execution_count": 4,
   "id": "22100c7f",
   "metadata": {},
   "outputs": [],
   "source": [
    "random.shuffle(filenames)\n",
    "filenames = filenames[:100]"
   ]
  },
  {
   "cell_type": "markdown",
   "id": "5b1ad487",
   "metadata": {},
   "source": [
    "Split the files for training and testing. We are keeping 20% for testing and 80% for training."
   ]
  },
  {
   "cell_type": "code",
   "execution_count": 5,
   "id": "52251f92",
   "metadata": {},
   "outputs": [],
   "source": [
    "train_test_split = 0.2\n",
    "train_size = int(len(filenames) * train_test_split)\n",
    "training_filenames = filenames[:-train_size]\n",
    "test_filenames = filenames[-train_size:]"
   ]
  },
  {
   "cell_type": "markdown",
   "id": "b5310e62",
   "metadata": {},
   "source": [
    "Now we create a function that creates a tokenizer with `max_words`, fit it on training files and save to `model_dir`."
   ]
  },
  {
   "cell_type": "code",
   "execution_count": 6,
   "id": "7a632471",
   "metadata": {},
   "outputs": [],
   "source": [
    "def create_tokenizer(files, max_words, model_dir):\n",
    "    tokenizer = Tokenizer(num_words=max_words)\n",
    "    for file in tqdm(files):\n",
    "        with open(file, 'r') as f:\n",
    "            lines = f.read().split('\\n')\n",
    "            tokenizer.fit_on_texts(lines)\n",
    "    save_path = model_dir / f'tokenizer_{max_words}_words.pickle'\n",
    "    # save the tokenizer in model dir\n",
    "    with open(save_path, 'wb') as handle:\n",
    "        pickle.dump(tokenizer, handle, protocol=pickle.HIGHEST_PROTOCOL)\n",
    "    return tokenizer"
   ]
  },
  {
   "cell_type": "markdown",
   "id": "8a8fde39",
   "metadata": {},
   "source": [
    "Define max words and max sequence length"
   ]
  },
  {
   "cell_type": "code",
   "execution_count": 7,
   "id": "95f09482",
   "metadata": {},
   "outputs": [],
   "source": [
    "MAX_WORDS = 10000\n",
    "MAX_SEQUENCE_LENGTH = 200"
   ]
  },
  {
   "cell_type": "markdown",
   "id": "43313ee9",
   "metadata": {},
   "source": [
    "Now create the tokenizer calling the function and passing the defined constants"
   ]
  },
  {
   "cell_type": "code",
   "execution_count": 8,
   "id": "205231dd",
   "metadata": {},
   "outputs": [
    {
     "name": "stderr",
     "output_type": "stream",
     "text": [
      "100%|███████████████████████████████████████████| 80/80 [00:10<00:00,  7.71it/s]\n"
     ]
    }
   ],
   "source": [
    "tokenizer = create_tokenizer(training_filenames, MAX_WORDS, model_dir)"
   ]
  },
  {
   "cell_type": "markdown",
   "id": "ec2f98d5",
   "metadata": {},
   "source": [
    "`create_dataset` creates a dataset from given `files` and returns two variables - `predictors` which is a sequence of previous words of length `max_sequence_length - 1` and `labels` which is an integer between 0 to `max_words + 1`.\n",
    "Note that, converting to categorical variables leads to `MemoryError` since it tries to create a sequence of `number of elements in training or test set * (MAX_WORDS + 1)` shape. We are following [this blog](https://medium.com/deep-learning-with-keras/which-activation-loss-functions-in-multi-class-clasification-4cd599e4e61f) and keeping the label as an integer."
   ]
  },
  {
   "cell_type": "code",
   "execution_count": 9,
   "id": "84f61d16",
   "metadata": {},
   "outputs": [],
   "source": [
    "def create_dataset(tokenizer, files, max_sequence_length):\n",
    "    input_sequences = []\n",
    "\n",
    "    for file in tqdm(files):\n",
    "        with open(file, 'r') as f:\n",
    "            lines = f.read().split('\\n')\n",
    "            token_list = tokenizer.texts_to_sequences(lines)\n",
    "            for tokens in token_list:\n",
    "                for i in range(1, len(tokens)):\n",
    "                    # keep only sequences of length <= max_sequence_length\n",
    "                    n_gram_sequence = tokens[max(0, i+1-max_sequence_length):i+1]\n",
    "                    input_sequences.append(n_gram_sequence)\n",
    "\n",
    "    # pad sequences with 0s so that all sequences have same length\n",
    "    input_sequences = tf.keras.preprocessing.sequence.pad_sequences(\n",
    "        input_sequences, maxlen=max_sequence_length, padding='pre')\n",
    "\n",
    "    predictors, label = input_sequences[:, :-1], input_sequences[:, -1]\n",
    "    del input_sequences\n",
    "    return predictors, label"
   ]
  },
  {
   "cell_type": "markdown",
   "id": "a6246d72",
   "metadata": {},
   "source": [
    "Now we create training dataset `X_train` and `y_train` from training files and test dataset `X_test` and `y_test` from test files."
   ]
  },
  {
   "cell_type": "code",
   "execution_count": 10,
   "id": "9e946960",
   "metadata": {},
   "outputs": [
    {
     "name": "stderr",
     "output_type": "stream",
     "text": [
      "100%|███████████████████████████████████████████| 80/80 [00:10<00:00,  7.60it/s]\n",
      "100%|███████████████████████████████████████████| 20/20 [00:00<00:00, 23.84it/s]\n"
     ]
    }
   ],
   "source": [
    "X_train, y_train = create_dataset(tokenizer, training_filenames, MAX_SEQUENCE_LENGTH)\n",
    "X_test, y_test = create_dataset(tokenizer, test_filenames, MAX_SEQUENCE_LENGTH)"
   ]
  },
  {
   "cell_type": "markdown",
   "id": "9ff8d701",
   "metadata": {},
   "source": [
    "## Creating and Training Model"
   ]
  },
  {
   "cell_type": "markdown",
   "id": "379ffeff",
   "metadata": {},
   "source": [
    "We create three sequential LSTM models with different parameters and architectures, and compile the models with loss `sparse_categorical_crossentropy`, optimizer `adam` and metric `sparse_categorical_accuracy`. We are using sparse categorical crossentropy since the values are integers, not one-hot encoded, see this question on [stackexchange](https://stats.stackexchange.com/questions/326065/cross-entropy-vs-sparse-cross-entropy-when-to-use-one-over-the-other) for details."
   ]
  },
  {
   "cell_type": "code",
   "execution_count": 15,
   "id": "9a4a4f4b",
   "metadata": {},
   "outputs": [],
   "source": [
    "model1 = tf.keras.Sequential([\n",
    "    tf.keras.layers.Embedding(\n",
    "        MAX_WORDS+1, MAX_SEQUENCE_LENGTH-1, input_length=MAX_SEQUENCE_LENGTH-1),\n",
    "    tf.keras.layers.LSTM(150),\n",
    "    tf.keras.layers.Dense(MAX_WORDS+1, activation='softmax')\n",
    "])\n",
    "model1.compile(loss='sparse_categorical_crossentropy',\n",
    "               optimizer='adam', metrics=['sparse_categorical_accuracy'])\n",
    "\n",
    "model2 = tf.keras.Sequential([\n",
    "    tf.keras.layers.Embedding(\n",
    "        MAX_WORDS+1, MAX_SEQUENCE_LENGTH-1, input_length=MAX_SEQUENCE_LENGTH-1),\n",
    "    tf.keras.layers.LSTM(150, dropout=0.2, return_sequences=True),\n",
    "    tf.keras.layers.LSTM(150, dropout=0.2),\n",
    "    tf.keras.layers.Dense(MAX_WORDS+1, activation='softmax')\n",
    "])\n",
    "model2.compile(loss='sparse_categorical_crossentropy',\n",
    "               optimizer='adam', metrics=['sparse_categorical_accuracy'])\n",
    "\n",
    "model3 = tf.keras.Sequential([\n",
    "    tf.keras.layers.Embedding(\n",
    "        MAX_WORDS+1, MAX_SEQUENCE_LENGTH-1, input_length=MAX_SEQUENCE_LENGTH-1),\n",
    "    tf.keras.layers.LSTM(64, dropout=0.2, return_sequences=True),\n",
    "    tf.keras.layers.LSTM(64, dropout=0.2),\n",
    "    tf.keras.layers.Dense(MAX_WORDS+1, activation='softmax')\n",
    "])\n",
    "model3.compile(loss='sparse_categorical_crossentropy',\n",
    "               optimizer='adam', metrics=['sparse_categorical_accuracy'])"
   ]
  },
  {
   "cell_type": "markdown",
   "id": "7aa84d61",
   "metadata": {},
   "source": [
    "We set callback `EarlyStopping` that monitors `val_loss` for 10 epochs and stops training if it does not improve."
   ]
  },
  {
   "cell_type": "code",
   "execution_count": 16,
   "id": "d3542bf6",
   "metadata": {},
   "outputs": [],
   "source": [
    "earlystop = tf.keras.callbacks.EarlyStopping(\n",
    "    monitor='val_loss', min_delta=0, patience=10, mode='auto')"
   ]
  },
  {
   "cell_type": "markdown",
   "id": "274f83e5",
   "metadata": {},
   "source": [
    "Start training the models and store the training results. We are using a batch size of 1024 and using 20% of training data for validation. We are running the training for 50 epochs and using `EarlyStopping` callback."
   ]
  },
  {
   "cell_type": "code",
   "execution_count": 17,
   "id": "d748bffc",
   "metadata": {},
   "outputs": [
    {
     "name": "stdout",
     "output_type": "stream",
     "text": [
      "Epoch 1/50\n"
     ]
    },
    {
     "name": "stderr",
     "output_type": "stream",
     "text": [
      "2022-04-06 17:42:53.734709: W tensorflow/core/framework/cpu_allocator_impl.cc:82] Allocation of 1517870112 exceeds 10% of free system memory.\n",
      "2022-04-06 17:42:57.062313: I tensorflow/stream_executor/cuda/cuda_dnn.cc:368] Loaded cuDNN version 8400\n"
     ]
    },
    {
     "name": "stdout",
     "output_type": "stream",
     "text": [
      "1862/1863 [============================>.] - ETA: 0s - loss: 7.4560 - sparse_categorical_accuracy: 0.0300\n",
      "Epoch 1: val_loss improved from inf to 7.15031, saving model to /home/shafquat/bangla-next-word-prediction/models/bn_lstm\n"
     ]
    },
    {
     "name": "stderr",
     "output_type": "stream",
     "text": [
      "2022-04-06 17:47:54.617543: W tensorflow/python/util/util.cc:368] Sets are not currently considered sequences, but this may change in the future, so consider avoiding using them.\n",
      "WARNING:absl:Found untraced functions such as lstm_cell_6_layer_call_fn, lstm_cell_6_layer_call_and_return_conditional_losses while saving (showing 2 of 2). These functions will not be directly callable after loading.\n"
     ]
    },
    {
     "name": "stdout",
     "output_type": "stream",
     "text": [
      "INFO:tensorflow:Assets written to: /home/shafquat/bangla-next-word-prediction/models/bn_lstm/assets\n"
     ]
    },
    {
     "name": "stderr",
     "output_type": "stream",
     "text": [
      "INFO:tensorflow:Assets written to: /home/shafquat/bangla-next-word-prediction/models/bn_lstm/assets\n",
      "WARNING:absl:<keras.layers.recurrent.LSTMCell object at 0x7f07460ae0a0> has the same name 'LSTMCell' as a built-in Keras object. Consider renaming <class 'keras.layers.recurrent.LSTMCell'> to avoid naming conflicts when loading with `tf.keras.models.load_model`. If renaming is not possible, pass the object in the `custom_objects` parameter of the load function.\n"
     ]
    },
    {
     "name": "stdout",
     "output_type": "stream",
     "text": [
      "1863/1863 [==============================] - 302s 160ms/step - loss: 7.4560 - sparse_categorical_accuracy: 0.0300 - val_loss: 7.1503 - val_sparse_categorical_accuracy: 0.0492\n",
      "Epoch 2/50\n",
      "1862/1863 [============================>.] - ETA: 0s - loss: 6.7406 - sparse_categorical_accuracy: 0.0637\n",
      "Epoch 2: val_loss improved from 7.15031 to 6.89255, saving model to /home/shafquat/bangla-next-word-prediction/models/bn_lstm\n"
     ]
    },
    {
     "name": "stderr",
     "output_type": "stream",
     "text": [
      "WARNING:absl:Found untraced functions such as lstm_cell_6_layer_call_fn, lstm_cell_6_layer_call_and_return_conditional_losses while saving (showing 2 of 2). These functions will not be directly callable after loading.\n"
     ]
    },
    {
     "name": "stdout",
     "output_type": "stream",
     "text": [
      "INFO:tensorflow:Assets written to: /home/shafquat/bangla-next-word-prediction/models/bn_lstm/assets\n"
     ]
    },
    {
     "name": "stderr",
     "output_type": "stream",
     "text": [
      "INFO:tensorflow:Assets written to: /home/shafquat/bangla-next-word-prediction/models/bn_lstm/assets\n",
      "WARNING:absl:<keras.layers.recurrent.LSTMCell object at 0x7f07460ae0a0> has the same name 'LSTMCell' as a built-in Keras object. Consider renaming <class 'keras.layers.recurrent.LSTMCell'> to avoid naming conflicts when loading with `tf.keras.models.load_model`. If renaming is not possible, pass the object in the `custom_objects` parameter of the load function.\n"
     ]
    },
    {
     "name": "stdout",
     "output_type": "stream",
     "text": [
      "1863/1863 [==============================] - 298s 160ms/step - loss: 6.7406 - sparse_categorical_accuracy: 0.0637 - val_loss: 6.8925 - val_sparse_categorical_accuracy: 0.0663\n",
      "Epoch 3/50\n",
      "1862/1863 [============================>.] - ETA: 0s - loss: 6.4439 - sparse_categorical_accuracy: 0.0796\n",
      "Epoch 3: val_loss improved from 6.89255 to 6.78022, saving model to /home/shafquat/bangla-next-word-prediction/models/bn_lstm\n"
     ]
    },
    {
     "name": "stderr",
     "output_type": "stream",
     "text": [
      "WARNING:absl:Found untraced functions such as lstm_cell_6_layer_call_fn, lstm_cell_6_layer_call_and_return_conditional_losses while saving (showing 2 of 2). These functions will not be directly callable after loading.\n"
     ]
    },
    {
     "name": "stdout",
     "output_type": "stream",
     "text": [
      "INFO:tensorflow:Assets written to: /home/shafquat/bangla-next-word-prediction/models/bn_lstm/assets\n"
     ]
    },
    {
     "name": "stderr",
     "output_type": "stream",
     "text": [
      "INFO:tensorflow:Assets written to: /home/shafquat/bangla-next-word-prediction/models/bn_lstm/assets\n",
      "WARNING:absl:<keras.layers.recurrent.LSTMCell object at 0x7f07460ae0a0> has the same name 'LSTMCell' as a built-in Keras object. Consider renaming <class 'keras.layers.recurrent.LSTMCell'> to avoid naming conflicts when loading with `tf.keras.models.load_model`. If renaming is not possible, pass the object in the `custom_objects` parameter of the load function.\n"
     ]
    },
    {
     "name": "stdout",
     "output_type": "stream",
     "text": [
      "1863/1863 [==============================] - 296s 159ms/step - loss: 6.4439 - sparse_categorical_accuracy: 0.0796 - val_loss: 6.7802 - val_sparse_categorical_accuracy: 0.0726\n",
      "Epoch 4/50\n",
      "1862/1863 [============================>.] - ETA: 0s - loss: 6.2501 - sparse_categorical_accuracy: 0.0889\n",
      "Epoch 4: val_loss improved from 6.78022 to 6.71337, saving model to /home/shafquat/bangla-next-word-prediction/models/bn_lstm\n"
     ]
    },
    {
     "name": "stderr",
     "output_type": "stream",
     "text": [
      "WARNING:absl:Found untraced functions such as lstm_cell_6_layer_call_fn, lstm_cell_6_layer_call_and_return_conditional_losses while saving (showing 2 of 2). These functions will not be directly callable after loading.\n"
     ]
    },
    {
     "name": "stdout",
     "output_type": "stream",
     "text": [
      "INFO:tensorflow:Assets written to: /home/shafquat/bangla-next-word-prediction/models/bn_lstm/assets\n"
     ]
    },
    {
     "name": "stderr",
     "output_type": "stream",
     "text": [
      "INFO:tensorflow:Assets written to: /home/shafquat/bangla-next-word-prediction/models/bn_lstm/assets\n",
      "WARNING:absl:<keras.layers.recurrent.LSTMCell object at 0x7f07460ae0a0> has the same name 'LSTMCell' as a built-in Keras object. Consider renaming <class 'keras.layers.recurrent.LSTMCell'> to avoid naming conflicts when loading with `tf.keras.models.load_model`. If renaming is not possible, pass the object in the `custom_objects` parameter of the load function.\n"
     ]
    },
    {
     "name": "stdout",
     "output_type": "stream",
     "text": [
      "1863/1863 [==============================] - 296s 159ms/step - loss: 6.2501 - sparse_categorical_accuracy: 0.0889 - val_loss: 6.7134 - val_sparse_categorical_accuracy: 0.0766\n",
      "Epoch 5/50\n",
      "1862/1863 [============================>.] - ETA: 0s - loss: 6.0987 - sparse_categorical_accuracy: 0.0962\n",
      "Epoch 5: val_loss improved from 6.71337 to 6.67940, saving model to /home/shafquat/bangla-next-word-prediction/models/bn_lstm\n"
     ]
    },
    {
     "name": "stderr",
     "output_type": "stream",
     "text": [
      "WARNING:absl:Found untraced functions such as lstm_cell_6_layer_call_fn, lstm_cell_6_layer_call_and_return_conditional_losses while saving (showing 2 of 2). These functions will not be directly callable after loading.\n"
     ]
    },
    {
     "name": "stdout",
     "output_type": "stream",
     "text": [
      "INFO:tensorflow:Assets written to: /home/shafquat/bangla-next-word-prediction/models/bn_lstm/assets\n"
     ]
    },
    {
     "name": "stderr",
     "output_type": "stream",
     "text": [
      "INFO:tensorflow:Assets written to: /home/shafquat/bangla-next-word-prediction/models/bn_lstm/assets\n",
      "WARNING:absl:<keras.layers.recurrent.LSTMCell object at 0x7f07460ae0a0> has the same name 'LSTMCell' as a built-in Keras object. Consider renaming <class 'keras.layers.recurrent.LSTMCell'> to avoid naming conflicts when loading with `tf.keras.models.load_model`. If renaming is not possible, pass the object in the `custom_objects` parameter of the load function.\n"
     ]
    },
    {
     "name": "stdout",
     "output_type": "stream",
     "text": [
      "1863/1863 [==============================] - 296s 159ms/step - loss: 6.0987 - sparse_categorical_accuracy: 0.0962 - val_loss: 6.6794 - val_sparse_categorical_accuracy: 0.0791\n",
      "Epoch 6/50\n",
      "1862/1863 [============================>.] - ETA: 0s - loss: 5.9775 - sparse_categorical_accuracy: 0.1021\n",
      "Epoch 6: val_loss improved from 6.67940 to 6.66253, saving model to /home/shafquat/bangla-next-word-prediction/models/bn_lstm\n"
     ]
    },
    {
     "name": "stderr",
     "output_type": "stream",
     "text": [
      "WARNING:absl:Found untraced functions such as lstm_cell_6_layer_call_fn, lstm_cell_6_layer_call_and_return_conditional_losses while saving (showing 2 of 2). These functions will not be directly callable after loading.\n"
     ]
    },
    {
     "name": "stdout",
     "output_type": "stream",
     "text": [
      "INFO:tensorflow:Assets written to: /home/shafquat/bangla-next-word-prediction/models/bn_lstm/assets\n"
     ]
    },
    {
     "name": "stderr",
     "output_type": "stream",
     "text": [
      "INFO:tensorflow:Assets written to: /home/shafquat/bangla-next-word-prediction/models/bn_lstm/assets\n",
      "WARNING:absl:<keras.layers.recurrent.LSTMCell object at 0x7f07460ae0a0> has the same name 'LSTMCell' as a built-in Keras object. Consider renaming <class 'keras.layers.recurrent.LSTMCell'> to avoid naming conflicts when loading with `tf.keras.models.load_model`. If renaming is not possible, pass the object in the `custom_objects` parameter of the load function.\n"
     ]
    },
    {
     "name": "stdout",
     "output_type": "stream",
     "text": [
      "1863/1863 [==============================] - 296s 159ms/step - loss: 5.9775 - sparse_categorical_accuracy: 0.1021 - val_loss: 6.6625 - val_sparse_categorical_accuracy: 0.0816\n",
      "Epoch 7/50\n",
      "1862/1863 [============================>.] - ETA: 0s - loss: 5.8765 - sparse_categorical_accuracy: 0.1074\n",
      "Epoch 7: val_loss improved from 6.66253 to 6.66054, saving model to /home/shafquat/bangla-next-word-prediction/models/bn_lstm\n"
     ]
    },
    {
     "name": "stderr",
     "output_type": "stream",
     "text": [
      "WARNING:absl:Found untraced functions such as lstm_cell_6_layer_call_fn, lstm_cell_6_layer_call_and_return_conditional_losses while saving (showing 2 of 2). These functions will not be directly callable after loading.\n"
     ]
    },
    {
     "name": "stdout",
     "output_type": "stream",
     "text": [
      "INFO:tensorflow:Assets written to: /home/shafquat/bangla-next-word-prediction/models/bn_lstm/assets\n"
     ]
    },
    {
     "name": "stderr",
     "output_type": "stream",
     "text": [
      "INFO:tensorflow:Assets written to: /home/shafquat/bangla-next-word-prediction/models/bn_lstm/assets\n",
      "WARNING:absl:<keras.layers.recurrent.LSTMCell object at 0x7f07460ae0a0> has the same name 'LSTMCell' as a built-in Keras object. Consider renaming <class 'keras.layers.recurrent.LSTMCell'> to avoid naming conflicts when loading with `tf.keras.models.load_model`. If renaming is not possible, pass the object in the `custom_objects` parameter of the load function.\n"
     ]
    },
    {
     "name": "stdout",
     "output_type": "stream",
     "text": [
      "1863/1863 [==============================] - 296s 159ms/step - loss: 5.8765 - sparse_categorical_accuracy: 0.1074 - val_loss: 6.6605 - val_sparse_categorical_accuracy: 0.0818\n",
      "Epoch 8/50\n",
      "1862/1863 [============================>.] - ETA: 0s - loss: 5.7901 - sparse_categorical_accuracy: 0.1117\n",
      "Epoch 8: val_loss did not improve from 6.66054\n",
      "1863/1863 [==============================] - 294s 158ms/step - loss: 5.7900 - sparse_categorical_accuracy: 0.1117 - val_loss: 6.6722 - val_sparse_categorical_accuracy: 0.0822\n",
      "Epoch 9/50\n",
      "1862/1863 [============================>.] - ETA: 0s - loss: 5.7122 - sparse_categorical_accuracy: 0.1164\n",
      "Epoch 9: val_loss did not improve from 6.66054\n",
      "1863/1863 [==============================] - 294s 158ms/step - loss: 5.7123 - sparse_categorical_accuracy: 0.1164 - val_loss: 6.6833 - val_sparse_categorical_accuracy: 0.0824\n",
      "Epoch 10/50\n",
      "1862/1863 [============================>.] - ETA: 0s - loss: 5.6418 - sparse_categorical_accuracy: 0.1207\n",
      "Epoch 10: val_loss did not improve from 6.66054\n",
      "1863/1863 [==============================] - 294s 158ms/step - loss: 5.6418 - sparse_categorical_accuracy: 0.1207 - val_loss: 6.6963 - val_sparse_categorical_accuracy: 0.0830\n",
      "Epoch 11/50\n",
      "1862/1863 [============================>.] - ETA: 0s - loss: 5.5771 - sparse_categorical_accuracy: 0.1252\n",
      "Epoch 11: val_loss did not improve from 6.66054\n",
      "1863/1863 [==============================] - 294s 158ms/step - loss: 5.5771 - sparse_categorical_accuracy: 0.1252 - val_loss: 6.7138 - val_sparse_categorical_accuracy: 0.0832\n",
      "Epoch 12/50\n",
      "1862/1863 [============================>.] - ETA: 0s - loss: 5.5174 - sparse_categorical_accuracy: 0.1294\n",
      "Epoch 12: val_loss did not improve from 6.66054\n",
      "1863/1863 [==============================] - 294s 158ms/step - loss: 5.5174 - sparse_categorical_accuracy: 0.1294 - val_loss: 6.7380 - val_sparse_categorical_accuracy: 0.0833\n",
      "Epoch 13/50\n",
      "1862/1863 [============================>.] - ETA: 0s - loss: 5.4619 - sparse_categorical_accuracy: 0.1335\n",
      "Epoch 13: val_loss did not improve from 6.66054\n",
      "1863/1863 [==============================] - 294s 158ms/step - loss: 5.4619 - sparse_categorical_accuracy: 0.1335 - val_loss: 6.7638 - val_sparse_categorical_accuracy: 0.0825\n",
      "Epoch 14/50\n",
      "1862/1863 [============================>.] - ETA: 0s - loss: 5.4098 - sparse_categorical_accuracy: 0.1378\n",
      "Epoch 14: val_loss did not improve from 6.66054\n",
      "1863/1863 [==============================] - 294s 158ms/step - loss: 5.4099 - sparse_categorical_accuracy: 0.1378 - val_loss: 6.7938 - val_sparse_categorical_accuracy: 0.0826\n",
      "Epoch 15/50\n",
      "1862/1863 [============================>.] - ETA: 0s - loss: 5.3612 - sparse_categorical_accuracy: 0.1421\n",
      "Epoch 15: val_loss did not improve from 6.66054\n",
      "1863/1863 [==============================] - 294s 158ms/step - loss: 5.3612 - sparse_categorical_accuracy: 0.1421 - val_loss: 6.8238 - val_sparse_categorical_accuracy: 0.0819\n",
      "Epoch 16/50\n",
      "1862/1863 [============================>.] - ETA: 0s - loss: 5.3153 - sparse_categorical_accuracy: 0.1463\n",
      "Epoch 16: val_loss did not improve from 6.66054\n",
      "1863/1863 [==============================] - 294s 158ms/step - loss: 5.3153 - sparse_categorical_accuracy: 0.1463 - val_loss: 6.8527 - val_sparse_categorical_accuracy: 0.0821\n",
      "Epoch 17/50\n",
      "1862/1863 [============================>.] - ETA: 0s - loss: 5.2724 - sparse_categorical_accuracy: 0.1501\n",
      "Epoch 17: val_loss did not improve from 6.66054\n",
      "1863/1863 [==============================] - 294s 158ms/step - loss: 5.2724 - sparse_categorical_accuracy: 0.1501 - val_loss: 6.8822 - val_sparse_categorical_accuracy: 0.0818\n",
      "Epoch 1/50\n"
     ]
    },
    {
     "name": "stderr",
     "output_type": "stream",
     "text": [
      "2022-04-06 19:06:31.986462: W tensorflow/core/framework/cpu_allocator_impl.cc:82] Allocation of 1517870112 exceeds 10% of free system memory.\n"
     ]
    },
    {
     "name": "stdout",
     "output_type": "stream",
     "text": [
      "1863/1863 [==============================] - ETA: 0s - loss: 7.5646 - sparse_categorical_accuracy: 0.0220\n",
      "Epoch 1: val_loss did not improve from 6.66054\n",
      "1863/1863 [==============================] - 542s 290ms/step - loss: 7.5646 - sparse_categorical_accuracy: 0.0220 - val_loss: 7.2939 - val_sparse_categorical_accuracy: 0.0383\n",
      "Epoch 2/50\n",
      "1863/1863 [==============================] - ETA: 0s - loss: 6.9224 - sparse_categorical_accuracy: 0.0472\n",
      "Epoch 2: val_loss did not improve from 6.66054\n",
      "1863/1863 [==============================] - 541s 290ms/step - loss: 6.9224 - sparse_categorical_accuracy: 0.0472 - val_loss: 7.0453 - val_sparse_categorical_accuracy: 0.0523\n",
      "Epoch 3/50\n",
      "1863/1863 [==============================] - ETA: 0s - loss: 6.6501 - sparse_categorical_accuracy: 0.0611\n",
      "Epoch 3: val_loss did not improve from 6.66054\n",
      "1863/1863 [==============================] - 541s 290ms/step - loss: 6.6501 - sparse_categorical_accuracy: 0.0611 - val_loss: 6.9252 - val_sparse_categorical_accuracy: 0.0615\n",
      "Epoch 4/50\n",
      "1863/1863 [==============================] - ETA: 0s - loss: 6.4782 - sparse_categorical_accuracy: 0.0707\n",
      "Epoch 4: val_loss did not improve from 6.66054\n",
      "1863/1863 [==============================] - 541s 290ms/step - loss: 6.4782 - sparse_categorical_accuracy: 0.0707 - val_loss: 6.8422 - val_sparse_categorical_accuracy: 0.0667\n",
      "Epoch 5/50\n",
      "1863/1863 [==============================] - ETA: 0s - loss: 6.3426 - sparse_categorical_accuracy: 0.0779\n",
      "Epoch 5: val_loss did not improve from 6.66054\n",
      "1863/1863 [==============================] - 541s 290ms/step - loss: 6.3426 - sparse_categorical_accuracy: 0.0779 - val_loss: 6.7956 - val_sparse_categorical_accuracy: 0.0706\n",
      "Epoch 6/50\n",
      "1863/1863 [==============================] - ETA: 0s - loss: 6.2324 - sparse_categorical_accuracy: 0.0834\n",
      "Epoch 6: val_loss did not improve from 6.66054\n",
      "1863/1863 [==============================] - 544s 292ms/step - loss: 6.2324 - sparse_categorical_accuracy: 0.0834 - val_loss: 6.7564 - val_sparse_categorical_accuracy: 0.0737\n",
      "Epoch 7/50\n",
      "1863/1863 [==============================] - ETA: 0s - loss: 6.1411 - sparse_categorical_accuracy: 0.0878\n",
      "Epoch 7: val_loss did not improve from 6.66054\n",
      "1863/1863 [==============================] - 546s 293ms/step - loss: 6.1411 - sparse_categorical_accuracy: 0.0878 - val_loss: 6.7286 - val_sparse_categorical_accuracy: 0.0755\n",
      "Epoch 8/50\n",
      "1863/1863 [==============================] - ETA: 0s - loss: 6.0639 - sparse_categorical_accuracy: 0.0917\n",
      "Epoch 8: val_loss did not improve from 6.66054\n",
      "1863/1863 [==============================] - 546s 293ms/step - loss: 6.0639 - sparse_categorical_accuracy: 0.0917 - val_loss: 6.7186 - val_sparse_categorical_accuracy: 0.0771\n",
      "Epoch 9/50\n",
      "1863/1863 [==============================] - ETA: 0s - loss: 5.9983 - sparse_categorical_accuracy: 0.0951\n",
      "Epoch 9: val_loss did not improve from 6.66054\n",
      "1863/1863 [==============================] - 549s 295ms/step - loss: 5.9983 - sparse_categorical_accuracy: 0.0951 - val_loss: 6.7083 - val_sparse_categorical_accuracy: 0.0783\n",
      "Epoch 10/50\n",
      "1863/1863 [==============================] - ETA: 0s - loss: 5.9433 - sparse_categorical_accuracy: 0.0979\n",
      "Epoch 10: val_loss did not improve from 6.66054\n",
      "1863/1863 [==============================] - 560s 301ms/step - loss: 5.9433 - sparse_categorical_accuracy: 0.0979 - val_loss: 6.7013 - val_sparse_categorical_accuracy: 0.0789\n",
      "Epoch 11/50\n",
      "1863/1863 [==============================] - ETA: 0s - loss: 5.8905 - sparse_categorical_accuracy: 0.1007\n",
      "Epoch 11: val_loss did not improve from 6.66054\n",
      "1863/1863 [==============================] - 546s 293ms/step - loss: 5.8905 - sparse_categorical_accuracy: 0.1007 - val_loss: 6.6963 - val_sparse_categorical_accuracy: 0.0796\n",
      "Epoch 12/50\n",
      "1863/1863 [==============================] - ETA: 0s - loss: 5.8466 - sparse_categorical_accuracy: 0.1030\n",
      "Epoch 12: val_loss did not improve from 6.66054\n",
      "1863/1863 [==============================] - 549s 295ms/step - loss: 5.8466 - sparse_categorical_accuracy: 0.1030 - val_loss: 6.7091 - val_sparse_categorical_accuracy: 0.0801\n",
      "Epoch 13/50\n",
      "1863/1863 [==============================] - ETA: 0s - loss: 5.8063 - sparse_categorical_accuracy: 0.1051\n",
      "Epoch 13: val_loss did not improve from 6.66054\n",
      "1863/1863 [==============================] - 548s 294ms/step - loss: 5.8063 - sparse_categorical_accuracy: 0.1051 - val_loss: 6.7080 - val_sparse_categorical_accuracy: 0.0813\n",
      "Epoch 14/50\n",
      "1863/1863 [==============================] - ETA: 0s - loss: 5.7694 - sparse_categorical_accuracy: 0.1072\n",
      "Epoch 14: val_loss did not improve from 6.66054\n",
      "1863/1863 [==============================] - 543s 291ms/step - loss: 5.7694 - sparse_categorical_accuracy: 0.1072 - val_loss: 6.7168 - val_sparse_categorical_accuracy: 0.0811\n",
      "Epoch 15/50\n",
      "1863/1863 [==============================] - ETA: 0s - loss: 5.7359 - sparse_categorical_accuracy: 0.1092\n",
      "Epoch 15: val_loss did not improve from 6.66054\n",
      "1863/1863 [==============================] - 576s 309ms/step - loss: 5.7359 - sparse_categorical_accuracy: 0.1092 - val_loss: 6.7189 - val_sparse_categorical_accuracy: 0.0818\n",
      "Epoch 16/50\n",
      "1863/1863 [==============================] - ETA: 0s - loss: 5.7054 - sparse_categorical_accuracy: 0.1110\n",
      "Epoch 16: val_loss did not improve from 6.66054\n",
      "1863/1863 [==============================] - 554s 297ms/step - loss: 5.7054 - sparse_categorical_accuracy: 0.1110 - val_loss: 6.7235 - val_sparse_categorical_accuracy: 0.0817\n",
      "Epoch 17/50\n",
      "1863/1863 [==============================] - ETA: 0s - loss: 5.6774 - sparse_categorical_accuracy: 0.1130\n",
      "Epoch 17: val_loss did not improve from 6.66054\n",
      "1863/1863 [==============================] - 550s 295ms/step - loss: 5.6774 - sparse_categorical_accuracy: 0.1130 - val_loss: 6.7337 - val_sparse_categorical_accuracy: 0.0818\n",
      "Epoch 18/50\n",
      "1863/1863 [==============================] - ETA: 0s - loss: 5.6514 - sparse_categorical_accuracy: 0.1146\n",
      "Epoch 18: val_loss did not improve from 6.66054\n",
      "1863/1863 [==============================] - 550s 295ms/step - loss: 5.6514 - sparse_categorical_accuracy: 0.1146 - val_loss: 6.7367 - val_sparse_categorical_accuracy: 0.0819\n",
      "Epoch 19/50\n",
      "1863/1863 [==============================] - ETA: 0s - loss: 5.6274 - sparse_categorical_accuracy: 0.1163\n",
      "Epoch 19: val_loss did not improve from 6.66054\n",
      "1863/1863 [==============================] - 560s 300ms/step - loss: 5.6274 - sparse_categorical_accuracy: 0.1163 - val_loss: 6.7534 - val_sparse_categorical_accuracy: 0.0818\n",
      "Epoch 20/50\n",
      "1863/1863 [==============================] - ETA: 0s - loss: 5.6040 - sparse_categorical_accuracy: 0.1175\n",
      "Epoch 20: val_loss did not improve from 6.66054\n",
      "1863/1863 [==============================] - 559s 300ms/step - loss: 5.6040 - sparse_categorical_accuracy: 0.1175 - val_loss: 6.7603 - val_sparse_categorical_accuracy: 0.0815\n",
      "Epoch 21/50\n",
      "1863/1863 [==============================] - ETA: 0s - loss: 5.5825 - sparse_categorical_accuracy: 0.1191\n",
      "Epoch 21: val_loss did not improve from 6.66054\n",
      "1863/1863 [==============================] - 548s 294ms/step - loss: 5.5825 - sparse_categorical_accuracy: 0.1191 - val_loss: 6.7665 - val_sparse_categorical_accuracy: 0.0813\n",
      "Epoch 1/50\n"
     ]
    },
    {
     "name": "stderr",
     "output_type": "stream",
     "text": [
      "2022-04-06 22:18:45.607906: W tensorflow/core/framework/cpu_allocator_impl.cc:82] Allocation of 1517870112 exceeds 10% of free system memory.\n"
     ]
    },
    {
     "name": "stdout",
     "output_type": "stream",
     "text": [
      "1862/1863 [============================>.] - ETA: 0s - loss: 7.7130 - sparse_categorical_accuracy: 0.0172\n",
      "Epoch 1: val_loss did not improve from 6.66054\n",
      "1863/1863 [==============================] - 284s 151ms/step - loss: 7.7130 - sparse_categorical_accuracy: 0.0172 - val_loss: 7.4863 - val_sparse_categorical_accuracy: 0.0303\n",
      "Epoch 2/50\n",
      "1862/1863 [============================>.] - ETA: 0s - loss: 7.1774 - sparse_categorical_accuracy: 0.0382\n",
      "Epoch 2: val_loss did not improve from 6.66054\n",
      "1863/1863 [==============================] - 281s 151ms/step - loss: 7.1774 - sparse_categorical_accuracy: 0.0382 - val_loss: 7.1665 - val_sparse_categorical_accuracy: 0.0467\n",
      "Epoch 3/50\n",
      "1862/1863 [============================>.] - ETA: 0s - loss: 6.8663 - sparse_categorical_accuracy: 0.0523\n",
      "Epoch 3: val_loss did not improve from 6.66054\n",
      "1863/1863 [==============================] - 281s 151ms/step - loss: 6.8663 - sparse_categorical_accuracy: 0.0523 - val_loss: 7.0396 - val_sparse_categorical_accuracy: 0.0550\n",
      "Epoch 4/50\n",
      "1862/1863 [============================>.] - ETA: 0s - loss: 6.7050 - sparse_categorical_accuracy: 0.0598\n",
      "Epoch 4: val_loss did not improve from 6.66054\n",
      "1863/1863 [==============================] - 282s 152ms/step - loss: 6.7050 - sparse_categorical_accuracy: 0.0598 - val_loss: 6.9626 - val_sparse_categorical_accuracy: 0.0597\n",
      "Epoch 5/50\n",
      "1862/1863 [============================>.] - ETA: 0s - loss: 6.5975 - sparse_categorical_accuracy: 0.0652\n",
      "Epoch 5: val_loss did not improve from 6.66054\n",
      "1863/1863 [==============================] - 279s 150ms/step - loss: 6.5975 - sparse_categorical_accuracy: 0.0652 - val_loss: 6.9203 - val_sparse_categorical_accuracy: 0.0617\n",
      "Epoch 6/50\n",
      "1862/1863 [============================>.] - ETA: 0s - loss: 6.5148 - sparse_categorical_accuracy: 0.0696\n",
      "Epoch 6: val_loss did not improve from 6.66054\n",
      "1863/1863 [==============================] - 277s 149ms/step - loss: 6.5148 - sparse_categorical_accuracy: 0.0696 - val_loss: 6.8827 - val_sparse_categorical_accuracy: 0.0654\n",
      "Epoch 7/50\n",
      "1862/1863 [============================>.] - ETA: 0s - loss: 6.4458 - sparse_categorical_accuracy: 0.0732\n",
      "Epoch 7: val_loss did not improve from 6.66054\n",
      "1863/1863 [==============================] - 278s 149ms/step - loss: 6.4458 - sparse_categorical_accuracy: 0.0732 - val_loss: 6.8585 - val_sparse_categorical_accuracy: 0.0669\n",
      "Epoch 8/50\n",
      "1862/1863 [============================>.] - ETA: 0s - loss: 6.3861 - sparse_categorical_accuracy: 0.0766\n",
      "Epoch 8: val_loss did not improve from 6.66054\n",
      "1863/1863 [==============================] - 277s 149ms/step - loss: 6.3861 - sparse_categorical_accuracy: 0.0766 - val_loss: 6.8352 - val_sparse_categorical_accuracy: 0.0687\n",
      "Epoch 9/50\n",
      "1862/1863 [============================>.] - ETA: 0s - loss: 6.3319 - sparse_categorical_accuracy: 0.0793\n",
      "Epoch 9: val_loss did not improve from 6.66054\n",
      "1863/1863 [==============================] - 277s 149ms/step - loss: 6.3319 - sparse_categorical_accuracy: 0.0793 - val_loss: 6.8172 - val_sparse_categorical_accuracy: 0.0705\n",
      "Epoch 10/50\n",
      "1862/1863 [============================>.] - ETA: 0s - loss: 6.2857 - sparse_categorical_accuracy: 0.0819\n",
      "Epoch 10: val_loss did not improve from 6.66054\n",
      "1863/1863 [==============================] - 277s 149ms/step - loss: 6.2857 - sparse_categorical_accuracy: 0.0819 - val_loss: 6.7998 - val_sparse_categorical_accuracy: 0.0718\n",
      "Epoch 11/50\n",
      "1862/1863 [============================>.] - ETA: 0s - loss: 6.2454 - sparse_categorical_accuracy: 0.0840\n",
      "Epoch 11: val_loss did not improve from 6.66054\n",
      "1863/1863 [==============================] - 277s 149ms/step - loss: 6.2454 - sparse_categorical_accuracy: 0.0840 - val_loss: 6.7904 - val_sparse_categorical_accuracy: 0.0725\n",
      "Epoch 12/50\n",
      "1862/1863 [============================>.] - ETA: 0s - loss: 6.2100 - sparse_categorical_accuracy: 0.0856\n",
      "Epoch 12: val_loss did not improve from 6.66054\n",
      "1863/1863 [==============================] - 277s 149ms/step - loss: 6.2100 - sparse_categorical_accuracy: 0.0856 - val_loss: 6.7794 - val_sparse_categorical_accuracy: 0.0736\n",
      "Epoch 13/50\n",
      "1862/1863 [============================>.] - ETA: 0s - loss: 6.1788 - sparse_categorical_accuracy: 0.0873\n",
      "Epoch 13: val_loss did not improve from 6.66054\n",
      "1863/1863 [==============================] - 277s 149ms/step - loss: 6.1788 - sparse_categorical_accuracy: 0.0873 - val_loss: 6.7710 - val_sparse_categorical_accuracy: 0.0742\n",
      "Epoch 14/50\n",
      "1862/1863 [============================>.] - ETA: 0s - loss: 6.1507 - sparse_categorical_accuracy: 0.0886\n",
      "Epoch 14: val_loss did not improve from 6.66054\n",
      "1863/1863 [==============================] - 277s 149ms/step - loss: 6.1507 - sparse_categorical_accuracy: 0.0886 - val_loss: 6.7681 - val_sparse_categorical_accuracy: 0.0743\n",
      "Epoch 15/50\n",
      "1862/1863 [============================>.] - ETA: 0s - loss: 6.1247 - sparse_categorical_accuracy: 0.0901\n",
      "Epoch 15: val_loss did not improve from 6.66054\n",
      "1863/1863 [==============================] - 277s 149ms/step - loss: 6.1247 - sparse_categorical_accuracy: 0.0901 - val_loss: 6.7661 - val_sparse_categorical_accuracy: 0.0750\n",
      "Epoch 16/50\n",
      "1862/1863 [============================>.] - ETA: 0s - loss: 6.1003 - sparse_categorical_accuracy: 0.0912\n",
      "Epoch 16: val_loss did not improve from 6.66054\n",
      "1863/1863 [==============================] - 277s 149ms/step - loss: 6.1003 - sparse_categorical_accuracy: 0.0912 - val_loss: 6.7589 - val_sparse_categorical_accuracy: 0.0753\n",
      "Epoch 17/50\n",
      "1862/1863 [============================>.] - ETA: 0s - loss: 6.0789 - sparse_categorical_accuracy: 0.0926\n",
      "Epoch 17: val_loss did not improve from 6.66054\n",
      "1863/1863 [==============================] - 277s 149ms/step - loss: 6.0789 - sparse_categorical_accuracy: 0.0926 - val_loss: 6.7545 - val_sparse_categorical_accuracy: 0.0760\n",
      "Epoch 18/50\n",
      "1862/1863 [============================>.] - ETA: 0s - loss: 6.0579 - sparse_categorical_accuracy: 0.0936\n",
      "Epoch 18: val_loss did not improve from 6.66054\n",
      "1863/1863 [==============================] - 277s 149ms/step - loss: 6.0579 - sparse_categorical_accuracy: 0.0936 - val_loss: 6.7500 - val_sparse_categorical_accuracy: 0.0764\n",
      "Epoch 19/50\n",
      "1862/1863 [============================>.] - ETA: 0s - loss: 6.0392 - sparse_categorical_accuracy: 0.0945\n",
      "Epoch 19: val_loss did not improve from 6.66054\n",
      "1863/1863 [==============================] - 277s 149ms/step - loss: 6.0392 - sparse_categorical_accuracy: 0.0945 - val_loss: 6.7552 - val_sparse_categorical_accuracy: 0.0761\n",
      "Epoch 20/50\n",
      "1862/1863 [============================>.] - ETA: 0s - loss: 6.0216 - sparse_categorical_accuracy: 0.0953\n",
      "Epoch 20: val_loss did not improve from 6.66054\n",
      "1863/1863 [==============================] - 277s 149ms/step - loss: 6.0216 - sparse_categorical_accuracy: 0.0952 - val_loss: 6.7513 - val_sparse_categorical_accuracy: 0.0765\n",
      "Epoch 21/50\n",
      "1862/1863 [============================>.] - ETA: 0s - loss: 6.0048 - sparse_categorical_accuracy: 0.0960\n",
      "Epoch 21: val_loss did not improve from 6.66054\n",
      "1863/1863 [==============================] - 277s 149ms/step - loss: 6.0048 - sparse_categorical_accuracy: 0.0960 - val_loss: 6.7530 - val_sparse_categorical_accuracy: 0.0771\n",
      "Epoch 22/50\n",
      "1862/1863 [============================>.] - ETA: 0s - loss: 5.9902 - sparse_categorical_accuracy: 0.0969\n",
      "Epoch 22: val_loss did not improve from 6.66054\n",
      "1863/1863 [==============================] - 277s 148ms/step - loss: 5.9902 - sparse_categorical_accuracy: 0.0969 - val_loss: 6.7519 - val_sparse_categorical_accuracy: 0.0769\n",
      "Epoch 23/50\n",
      "1862/1863 [============================>.] - ETA: 0s - loss: 5.9759 - sparse_categorical_accuracy: 0.0975\n",
      "Epoch 23: val_loss did not improve from 6.66054\n",
      "1863/1863 [==============================] - 277s 149ms/step - loss: 5.9759 - sparse_categorical_accuracy: 0.0975 - val_loss: 6.7497 - val_sparse_categorical_accuracy: 0.0773\n",
      "Epoch 24/50\n",
      "1862/1863 [============================>.] - ETA: 0s - loss: 5.9612 - sparse_categorical_accuracy: 0.0986\n",
      "Epoch 24: val_loss did not improve from 6.66054\n",
      "1863/1863 [==============================] - 277s 149ms/step - loss: 5.9612 - sparse_categorical_accuracy: 0.0986 - val_loss: 6.7527 - val_sparse_categorical_accuracy: 0.0773\n",
      "Epoch 25/50\n"
     ]
    },
    {
     "name": "stdout",
     "output_type": "stream",
     "text": [
      "1862/1863 [============================>.] - ETA: 0s - loss: 5.9483 - sparse_categorical_accuracy: 0.0992\n",
      "Epoch 25: val_loss did not improve from 6.66054\n",
      "1863/1863 [==============================] - 277s 149ms/step - loss: 5.9483 - sparse_categorical_accuracy: 0.0992 - val_loss: 6.7564 - val_sparse_categorical_accuracy: 0.0775\n",
      "Epoch 26/50\n",
      "1862/1863 [============================>.] - ETA: 0s - loss: 5.9351 - sparse_categorical_accuracy: 0.0999\n",
      "Epoch 26: val_loss did not improve from 6.66054\n",
      "1863/1863 [==============================] - 277s 149ms/step - loss: 5.9351 - sparse_categorical_accuracy: 0.0999 - val_loss: 6.7554 - val_sparse_categorical_accuracy: 0.0779\n",
      "Epoch 27/50\n",
      "1862/1863 [============================>.] - ETA: 0s - loss: 5.9239 - sparse_categorical_accuracy: 0.1004\n",
      "Epoch 27: val_loss did not improve from 6.66054\n",
      "1863/1863 [==============================] - 277s 149ms/step - loss: 5.9239 - sparse_categorical_accuracy: 0.1004 - val_loss: 6.7526 - val_sparse_categorical_accuracy: 0.0778\n",
      "Epoch 28/50\n",
      "1862/1863 [============================>.] - ETA: 0s - loss: 5.9128 - sparse_categorical_accuracy: 0.1013\n",
      "Epoch 28: val_loss did not improve from 6.66054\n",
      "1863/1863 [==============================] - 277s 149ms/step - loss: 5.9128 - sparse_categorical_accuracy: 0.1013 - val_loss: 6.7551 - val_sparse_categorical_accuracy: 0.0778\n",
      "Epoch 29/50\n",
      "1862/1863 [============================>.] - ETA: 0s - loss: 5.9022 - sparse_categorical_accuracy: 0.1017\n",
      "Epoch 29: val_loss did not improve from 6.66054\n",
      "1863/1863 [==============================] - 277s 149ms/step - loss: 5.9022 - sparse_categorical_accuracy: 0.1017 - val_loss: 6.7562 - val_sparse_categorical_accuracy: 0.0778\n",
      "Epoch 30/50\n",
      "1862/1863 [============================>.] - ETA: 0s - loss: 5.8924 - sparse_categorical_accuracy: 0.1023\n",
      "Epoch 30: val_loss did not improve from 6.66054\n",
      "1863/1863 [==============================] - 277s 149ms/step - loss: 5.8924 - sparse_categorical_accuracy: 0.1023 - val_loss: 6.7550 - val_sparse_categorical_accuracy: 0.0784\n",
      "Epoch 31/50\n",
      "1862/1863 [============================>.] - ETA: 0s - loss: 5.8832 - sparse_categorical_accuracy: 0.1025\n",
      "Epoch 31: val_loss did not improve from 6.66054\n",
      "1863/1863 [==============================] - 278s 149ms/step - loss: 5.8831 - sparse_categorical_accuracy: 0.1025 - val_loss: 6.7555 - val_sparse_categorical_accuracy: 0.0785\n",
      "Epoch 32/50\n",
      "1862/1863 [============================>.] - ETA: 0s - loss: 5.8735 - sparse_categorical_accuracy: 0.1034\n",
      "Epoch 32: val_loss did not improve from 6.66054\n",
      "1863/1863 [==============================] - 282s 151ms/step - loss: 5.8735 - sparse_categorical_accuracy: 0.1034 - val_loss: 6.7518 - val_sparse_categorical_accuracy: 0.0788\n",
      "Epoch 33/50\n",
      "1862/1863 [============================>.] - ETA: 0s - loss: 5.8651 - sparse_categorical_accuracy: 0.1036\n",
      "Epoch 33: val_loss did not improve from 6.66054\n",
      "1863/1863 [==============================] - 279s 150ms/step - loss: 5.8651 - sparse_categorical_accuracy: 0.1036 - val_loss: 6.7617 - val_sparse_categorical_accuracy: 0.0784\n"
     ]
    }
   ],
   "source": [
    "history1 = model1.fit(X_train, y_train, batch_size=1024, epochs=50,\n",
    "                      validation_split=0.2, callbacks=[earlystop])\n",
    "\n",
    "history2 = model2.fit(X_train, y_train, batch_size=1024, epochs=50,\n",
    "                      validation_split=0.2, callbacks=[earlystop])\n",
    "\n",
    "history3 = model3.fit(X_train, y_train, batch_size=1024, epochs=50,\n",
    "                      validation_split=0.2, callbacks=[earlystop])"
   ]
  },
  {
   "cell_type": "markdown",
   "id": "59998ebf",
   "metadata": {},
   "source": [
    "Save the history objects for later uses."
   ]
  },
  {
   "cell_type": "code",
   "execution_count": 19,
   "id": "fdfc1fdc",
   "metadata": {},
   "outputs": [
    {
     "name": "stderr",
     "output_type": "stream",
     "text": [
      "WARNING:absl:Found untraced functions such as lstm_cell_6_layer_call_fn, lstm_cell_6_layer_call_and_return_conditional_losses while saving (showing 2 of 2). These functions will not be directly callable after loading.\n"
     ]
    },
    {
     "name": "stdout",
     "output_type": "stream",
     "text": [
      "INFO:tensorflow:Assets written to: ram://8b4cd81f-b734-473e-9d73-18dec6a3af41/assets\n"
     ]
    },
    {
     "name": "stderr",
     "output_type": "stream",
     "text": [
      "INFO:tensorflow:Assets written to: ram://8b4cd81f-b734-473e-9d73-18dec6a3af41/assets\n",
      "WARNING:absl:<keras.layers.recurrent.LSTMCell object at 0x7f07460ae0a0> has the same name 'LSTMCell' as a built-in Keras object. Consider renaming <class 'keras.layers.recurrent.LSTMCell'> to avoid naming conflicts when loading with `tf.keras.models.load_model`. If renaming is not possible, pass the object in the `custom_objects` parameter of the load function.\n",
      "WARNING:absl:Found untraced functions such as lstm_cell_7_layer_call_fn, lstm_cell_7_layer_call_and_return_conditional_losses, lstm_cell_8_layer_call_fn, lstm_cell_8_layer_call_and_return_conditional_losses while saving (showing 4 of 4). These functions will not be directly callable after loading.\n"
     ]
    },
    {
     "name": "stdout",
     "output_type": "stream",
     "text": [
      "INFO:tensorflow:Assets written to: ram://425f64b2-92ea-49d4-9ee7-cb71306df022/assets\n"
     ]
    },
    {
     "name": "stderr",
     "output_type": "stream",
     "text": [
      "INFO:tensorflow:Assets written to: ram://425f64b2-92ea-49d4-9ee7-cb71306df022/assets\n",
      "WARNING:absl:<keras.layers.recurrent.LSTMCell object at 0x7f073545e6a0> has the same name 'LSTMCell' as a built-in Keras object. Consider renaming <class 'keras.layers.recurrent.LSTMCell'> to avoid naming conflicts when loading with `tf.keras.models.load_model`. If renaming is not possible, pass the object in the `custom_objects` parameter of the load function.\n",
      "WARNING:absl:<keras.layers.recurrent.LSTMCell object at 0x7f0735394550> has the same name 'LSTMCell' as a built-in Keras object. Consider renaming <class 'keras.layers.recurrent.LSTMCell'> to avoid naming conflicts when loading with `tf.keras.models.load_model`. If renaming is not possible, pass the object in the `custom_objects` parameter of the load function.\n",
      "WARNING:absl:Found untraced functions such as lstm_cell_9_layer_call_fn, lstm_cell_9_layer_call_and_return_conditional_losses, lstm_cell_10_layer_call_fn, lstm_cell_10_layer_call_and_return_conditional_losses while saving (showing 4 of 4). These functions will not be directly callable after loading.\n"
     ]
    },
    {
     "name": "stdout",
     "output_type": "stream",
     "text": [
      "INFO:tensorflow:Assets written to: ram://ebb99041-5414-46b5-baee-ead4deac2b77/assets\n"
     ]
    },
    {
     "name": "stderr",
     "output_type": "stream",
     "text": [
      "INFO:tensorflow:Assets written to: ram://ebb99041-5414-46b5-baee-ead4deac2b77/assets\n",
      "WARNING:absl:<keras.layers.recurrent.LSTMCell object at 0x7f0735361790> has the same name 'LSTMCell' as a built-in Keras object. Consider renaming <class 'keras.layers.recurrent.LSTMCell'> to avoid naming conflicts when loading with `tf.keras.models.load_model`. If renaming is not possible, pass the object in the `custom_objects` parameter of the load function.\n",
      "WARNING:absl:<keras.layers.recurrent.LSTMCell object at 0x7f07352d8220> has the same name 'LSTMCell' as a built-in Keras object. Consider renaming <class 'keras.layers.recurrent.LSTMCell'> to avoid naming conflicts when loading with `tf.keras.models.load_model`. If renaming is not possible, pass the object in the `custom_objects` parameter of the load function.\n"
     ]
    }
   ],
   "source": [
    "with open(str(model_dir / 'model_1_history'), 'wb') as history_pkl:\n",
    "    pickle.dump(history1, history_pkl)\n",
    "    \n",
    "with open(str(model_dir / 'model_2_history'), 'wb') as history_pkl:\n",
    "    pickle.dump(history2, history_pkl)\n",
    "\n",
    "with open(str(model_dir / 'model_3_history'), 'wb') as history_pkl:\n",
    "    pickle.dump(history3, history_pkl)\n"
   ]
  },
  {
   "cell_type": "markdown",
   "id": "7e98b400",
   "metadata": {},
   "source": [
    "Finally we evaluate the models on test data with batch size of 1024"
   ]
  },
  {
   "cell_type": "code",
   "execution_count": 20,
   "id": "0604270d",
   "metadata": {},
   "outputs": [
    {
     "name": "stdout",
     "output_type": "stream",
     "text": [
      "318/318 [==============================] - 17s 53ms/step - loss: 7.0373 - sparse_categorical_accuracy: 0.0633\n",
      "Model 1: [7.037341117858887, 0.06326504051685333]\n",
      "318/318 [==============================] - 30s 93ms/step - loss: 6.9048 - sparse_categorical_accuracy: 0.0644\n",
      "Model 2: [6.904751777648926, 0.06438510119915009]\n",
      "318/318 [==============================] - 15s 46ms/step - loss: 6.9106 - sparse_categorical_accuracy: 0.0618\n",
      "Model 3: [6.9105544090271, 0.06180649995803833]\n"
     ]
    }
   ],
   "source": [
    "eval1 = model1.evaluate(X_test, y_test, batch_size=1024)\n",
    "print(\"Model 1:\", eval1)\n",
    "eval2 = model2.evaluate(X_test, y_test, batch_size=1024)\n",
    "print(\"Model 2:\", eval2)\n",
    "eval3 = model3.evaluate(X_test, y_test, batch_size=1024)\n",
    "print(\"Model 3:\", eval3)"
   ]
  },
  {
   "cell_type": "markdown",
   "id": "0f549b3b",
   "metadata": {},
   "source": [
    "And save the best `model`."
   ]
  },
  {
   "cell_type": "code",
   "execution_count": 21,
   "id": "30243c20",
   "metadata": {
    "scrolled": true
   },
   "outputs": [
    {
     "name": "stderr",
     "output_type": "stream",
     "text": [
      "WARNING:absl:Found untraced functions such as lstm_cell_7_layer_call_fn, lstm_cell_7_layer_call_and_return_conditional_losses, lstm_cell_8_layer_call_fn, lstm_cell_8_layer_call_and_return_conditional_losses while saving (showing 4 of 4). These functions will not be directly callable after loading.\n"
     ]
    },
    {
     "name": "stdout",
     "output_type": "stream",
     "text": [
      "INFO:tensorflow:Assets written to: /home/shafquat/bangla-next-word-prediction/models/bn_lstm/assets\n"
     ]
    },
    {
     "name": "stderr",
     "output_type": "stream",
     "text": [
      "INFO:tensorflow:Assets written to: /home/shafquat/bangla-next-word-prediction/models/bn_lstm/assets\n",
      "WARNING:absl:<keras.layers.recurrent.LSTMCell object at 0x7f073545e6a0> has the same name 'LSTMCell' as a built-in Keras object. Consider renaming <class 'keras.layers.recurrent.LSTMCell'> to avoid naming conflicts when loading with `tf.keras.models.load_model`. If renaming is not possible, pass the object in the `custom_objects` parameter of the load function.\n",
      "WARNING:absl:<keras.layers.recurrent.LSTMCell object at 0x7f0735394550> has the same name 'LSTMCell' as a built-in Keras object. Consider renaming <class 'keras.layers.recurrent.LSTMCell'> to avoid naming conflicts when loading with `tf.keras.models.load_model`. If renaming is not possible, pass the object in the `custom_objects` parameter of the load function.\n"
     ]
    }
   ],
   "source": [
    "model2.save(str(model_dir))"
   ]
  },
  {
   "cell_type": "markdown",
   "id": "cd1d58b8",
   "metadata": {},
   "source": [
    "## Visualizing accuracy and loss changes per epochs on training and validation data"
   ]
  },
  {
   "cell_type": "markdown",
   "id": "b81ac60d",
   "metadata": {},
   "source": [
    "Next, we plot the training accuracy and loss for each model. The function `plot_history` takes a history object and a title and creates plots for its validation and training accuracy and loss and saves it."
   ]
  },
  {
   "cell_type": "code",
   "execution_count": 22,
   "id": "30b23d93",
   "metadata": {},
   "outputs": [],
   "source": [
    "def plot_history(history, title):\n",
    "    fig = plt.figure(figsize=(10, 6))\n",
    "    plt.plot(history.history['sparse_categorical_accuracy'], label='sparse_categorical_accuracy')\n",
    "    plt.plot(history.history['val_sparse_categorical_accuracy'], label='val_sparse_categorical_accuracy')\n",
    "    plt.title(title + ' Accuracy')\n",
    "    plt.xlabel('Epoch')\n",
    "    plt.ylabel('Sparse Categorical Accuracy')\n",
    "    plt.legend(loc='lower right')\n",
    "    plt.show()\n",
    "    fig.savefig(str(model_dir / f'{title}_sparse_categorical_accuracy.png'), dpi=fig.dpi)\n",
    "\n",
    "    fig = plt.figure(figsize=(10, 6))\n",
    "    plt.plot(history.history['loss'], label='loss')\n",
    "    plt.plot(history.history['val_loss'], label='val_loss')\n",
    "    plt.title(title + ' Loss')\n",
    "    plt.xlabel('Epoch')\n",
    "    plt.ylabel('Loss')\n",
    "    plt.legend(loc='lower right')\n",
    "    plt.show()\n",
    "    fig.savefig(str(model_dir / f'{title}_sparse_categorical_loss.png'), dpi=fig.dpi)"
   ]
  },
  {
   "cell_type": "markdown",
   "id": "8a6b145f",
   "metadata": {},
   "source": [
    "Now we pass three history objects with their titles to the function"
   ]
  },
  {
   "cell_type": "code",
   "execution_count": 23,
   "id": "6db7ef5c",
   "metadata": {},
   "outputs": [
    {
     "data": {
      "image/png": "[encoded data removed]",
      "text/plain": [
       "<Figure size 720x432 with 1 Axes>"
      ]
     },
     "metadata": {
      "needs_background": "light"
     },
     "output_type": "display_data"
    },
    {
     "data": {
      "image/png": "[encoded data removed]",
      "text/plain": [
       "<Figure size 720x432 with 1 Axes>"
      ]
     },
     "metadata": {
      "needs_background": "light"
     },
     "output_type": "display_data"
    },
    {
     "data": {
      "image/png": "[encoded data removed]",
      "text/plain": [
       "<Figure size 720x432 with 1 Axes>"
      ]
     },
     "metadata": {
      "needs_background": "light"
     },
     "output_type": "display_data"
    },
    {
     "data": {
      "image/png": "[encoded data removed]",
      "text/plain": [
       "<Figure size 720x432 with 1 Axes>"
      ]
     },
     "metadata": {
      "needs_background": "light"
     },
     "output_type": "display_data"
    },
    {
     "data": {
      "image/png": "[encoded data removed]",
      "text/plain": [
       "<Figure size 720x432 with 1 Axes>"
      ]
     },
     "metadata": {
      "needs_background": "light"
     },
     "output_type": "display_data"
    },
    {
     "data": {
      "image/png": "[encoded data removed]",
      "text/plain": [
       "<Figure size 720x432 with 1 Axes>"
      ]
     },
     "metadata": {
      "needs_background": "light"
     },
     "output_type": "display_data"
    }
   ],
   "source": [
    "plot_history(history1, 'Model 1')\n",
    "plot_history(history2, 'Model 2')\n",
    "plot_history(history3, 'Model 3')"
   ]
  },
  {
   "cell_type": "markdown",
   "id": "9bfae116",
   "metadata": {},
   "source": [
    "## Testing the model with actual data"
   ]
  },
  {
   "cell_type": "markdown",
   "id": "1414e337",
   "metadata": {},
   "source": [
    "`predict_next_words` function takes model, tokenizer and text as function argument and returns top 5 next words predicted by the model"
   ]
  },
  {
   "cell_type": "code",
   "execution_count": 24,
   "id": "c2c81ab3",
   "metadata": {},
   "outputs": [],
   "source": [
    "def predict_next_words(model, tokenizer, text):\n",
    "    # tokenize the text\n",
    "    tokenized_sequence = tokenizer.texts_to_sequences([text])\n",
    "    # pre-pad with 0's to make it of size MAX_SEQUENCE_LENGTH - 1\n",
    "    input_sequences = tf.keras.preprocessing.sequence.pad_sequences(tokenized_sequence,\n",
    "                                                                maxlen=MAX_SEQUENCE_LENGTH - 1,\n",
    "                                                                padding='pre')\n",
    "    # predict using model\n",
    "    predictions = model.predict(input_sequences)\n",
    "    ids = np.argsort(predictions, axis=1)[:,-5:] # indices of the top 5 predictions\n",
    "    # print next word with score\n",
    "    for id in ids[0]:\n",
    "        print(tokenizer.index_word[id], \"->\", predictions[:, id].squeeze())"
   ]
  },
  {
   "cell_type": "markdown",
   "id": "35e7fef6",
   "metadata": {},
   "source": [
    "Load `model` and `tokenizer` from files"
   ]
  },
  {
   "cell_type": "code",
   "execution_count": 28,
   "id": "9bf6664c",
   "metadata": {},
   "outputs": [],
   "source": [
    "model = tf.keras.models.load_model(str(model_dir))\n",
    "with open(str(model_dir / f'tokenizer_{MAX_WORDS}_words.pickle'), 'rb') as f:\n",
    "    tokenizer = pickle.load(f)"
   ]
  },
  {
   "cell_type": "markdown",
   "id": "b1f5bb9d",
   "metadata": {},
   "source": [
    "Test for custom texts by calling the function"
   ]
  },
  {
   "cell_type": "code",
   "execution_count": 29,
   "id": "01f41d1f",
   "metadata": {},
   "outputs": [
    {
     "name": "stdout",
     "output_type": "stream",
     "text": [
      "Enter text: সে\n",
      "কী -> 0.012447481\n",
      "তার -> 0.014258779\n",
      "যে -> 0.015698679\n",
      "কথা -> 0.017646885\n",
      "কি -> 0.024904484\n"
     ]
    }
   ],
   "source": [
    "text = input(\"Enter text: \")\n",
    "predict_next_words(model, tokenizer, text)"
   ]
  }
 ],
 "metadata": {
  "kernelspec": {
   "display_name": "Python 3 (ipykernel)",
   "language": "python",
   "name": "python3"
  },
  "language_info": {
   "codemirror_mode": {
    "name": "ipython",
    "version": 3
   },
   "file_extension": ".py",
   "mimetype": "text/x-python",
   "name": "python",
   "nbconvert_exporter": "python",
   "pygments_lexer": "ipython3",
   "version": "3.8.10"
  }
 },
 "nbformat": 4,
 "nbformat_minor": 5
}
