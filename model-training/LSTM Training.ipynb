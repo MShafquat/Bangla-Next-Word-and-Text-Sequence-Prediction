{
 "cells": [
  {
   "cell_type": "markdown",
   "id": "2a9ae416",
   "metadata": {},
   "source": [
    "# Training LSTM model on Bangla books"
   ]
  },
  {
   "cell_type": "markdown",
   "id": "9d9c2898",
   "metadata": {},
   "source": [
    "First we import necessary packages for our project"
   ]
  },
  {
   "cell_type": "code",
   "execution_count": 1,
   "id": "045b4369",
   "metadata": {
    "gather": {
     "logged": 1650048020652
    }
   },
   "outputs": [],
   "source": [
    "import json\n",
    "from matplotlib import pyplot as plt\n",
    "import numpy as np\n",
    "import os\n",
    "from pathlib import Path\n",
    "import pickle\n",
    "import random\n",
    "import seaborn as sns\n",
    "import shutil\n",
    "import tensorflow as tf\n",
    "from tensorflow.keras.preprocessing.text import Tokenizer\n",
    "from tensorflow.keras.utils import plot_model\n",
    "from tqdm import tqdm"
   ]
  },
  {
   "cell_type": "markdown",
   "id": "0af81c71",
   "metadata": {},
   "source": [
    "Set `seaborn` for better data visualization"
   ]
  },
  {
   "cell_type": "code",
   "execution_count": 2,
   "id": "372c4bb3",
   "metadata": {
    "gather": {
     "logged": 1650048026037
    }
   },
   "outputs": [],
   "source": [
    "sns.set()"
   ]
  },
  {
   "cell_type": "markdown",
   "id": "47bd9188",
   "metadata": {},
   "source": [
    "## Preparing Dataset"
   ]
  },
  {
   "cell_type": "markdown",
   "id": "211961f7",
   "metadata": {},
   "source": [
    "Initialize the project root, data, and model related directories. `processed_data` directory contains selected books from renowned authors only."
   ]
  },
  {
   "cell_type": "code",
   "execution_count": 3,
   "id": "cca9255e",
   "metadata": {
    "gather": {
     "logged": 1650048030105
    }
   },
   "outputs": [],
   "source": [
    "# get data and model directories\n",
    "project_root = Path('__file__').resolve().parents[1]\n",
    "\n",
    "data_dir = project_root / 'processed_data/'\n",
    "model_home = project_root / 'models/bn_lstm'\n",
    "plot_dir = model_home / 'plots'\n",
    "\n",
    "os.makedirs(model_home, exist_ok=True)\n",
    "os.makedirs(plot_dir, exist_ok=True)"
   ]
  },
  {
   "cell_type": "markdown",
   "id": "82779262",
   "metadata": {},
   "source": [
    "Get list of files in the data directory"
   ]
  },
  {
   "cell_type": "code",
   "execution_count": 4,
   "id": "07e0c682",
   "metadata": {},
   "outputs": [],
   "source": [
    "filenames = [str(file) for file in Path(data_dir).glob('**/*.txt')]"
   ]
  },
  {
   "cell_type": "markdown",
   "id": "fcd575e2",
   "metadata": {},
   "source": [
    "Then we randomly shuffle the filenames list and select 100 files."
   ]
  },
  {
   "cell_type": "code",
   "execution_count": 5,
   "id": "22100c7f",
   "metadata": {},
   "outputs": [],
   "source": [
    "random.shuffle(filenames)\n",
    "filenames = filenames[:50]"
   ]
  },
  {
   "cell_type": "markdown",
   "id": "756ff430",
   "metadata": {},
   "source": [
    "Save filenames to resume training on these later"
   ]
  },
  {
   "cell_type": "code",
   "execution_count": 6,
   "id": "4d841ea8",
   "metadata": {},
   "outputs": [],
   "source": [
    "with open(model_home / 'filenames.pickle', 'wb') as file:\n",
    "    pickle.dump(filenames, file=file)"
   ]
  },
  {
   "cell_type": "markdown",
   "id": "a96e029d",
   "metadata": {},
   "source": [
    "Load filenames from pickle file"
   ]
  },
  {
   "cell_type": "code",
   "execution_count": 7,
   "id": "7534848f",
   "metadata": {},
   "outputs": [],
   "source": [
    "with open(model_home / 'filenames.pickle', 'rb') as file:\n",
    "    filenames = pickle.load(file)"
   ]
  },
  {
   "cell_type": "markdown",
   "id": "5b1ad487",
   "metadata": {},
   "source": [
    "Split the files for training and testing. We are keeping 20% for testing and 80% for training."
   ]
  },
  {
   "cell_type": "code",
   "execution_count": 8,
   "id": "52251f92",
   "metadata": {},
   "outputs": [],
   "source": [
    "test_split = 0.2\n",
    "test_size = int(len(filenames) * test_split)\n",
    "train_filenames = filenames[:-test_size]\n",
    "test_filenames = filenames[-test_size:]"
   ]
  },
  {
   "cell_type": "markdown",
   "id": "b5310e62",
   "metadata": {},
   "source": [
    "Now we create a function that creates a tokenizer with `max_words`, fit it on training files and save to `model_dir`."
   ]
  },
  {
   "cell_type": "code",
   "execution_count": 9,
   "id": "7a632471",
   "metadata": {},
   "outputs": [],
   "source": [
    "def create_tokenizer(files, max_words):\n",
    "    tokenizer = Tokenizer(num_words=max_words, oov_token=\"<oov>\")\n",
    "    for file in tqdm(files):\n",
    "        with open(file, 'r') as f:\n",
    "            lines = f.read().replace('\\n', ' ') # replace new lines with space\n",
    "            tokenizer.fit_on_texts([lines])\n",
    "\n",
    "    # save the tokenizer in model dir\n",
    "    with open(model_home / f'tokenizer_{max_words}_words.pickle', 'wb') as handle:\n",
    "        pickle.dump(tokenizer, handle, protocol=pickle.HIGHEST_PROTOCOL)\n",
    "    \n",
    "    # save word_index as json file\n",
    "    with open(model_home / 'word_index.json', 'w') as handle:\n",
    "        json.dump(tokenizer.word_index, handle, ensure_ascii=False) # write unicode characters\n",
    "\n",
    "    return tokenizer"
   ]
  },
  {
   "cell_type": "markdown",
   "id": "8a8fde39",
   "metadata": {},
   "source": [
    "Define max words and max sequence length"
   ]
  },
  {
   "cell_type": "code",
   "execution_count": 10,
   "id": "95f09482",
   "metadata": {
    "gather": {
     "logged": 1650048037399
    }
   },
   "outputs": [],
   "source": [
    "max_words = 10000\n",
    "max_seq_len = 200\n",
    "embed_dim = 256"
   ]
  },
  {
   "cell_type": "markdown",
   "id": "43313ee9",
   "metadata": {},
   "source": [
    "Now create the tokenizer and fit on training files"
   ]
  },
  {
   "cell_type": "code",
   "execution_count": 11,
   "id": "205231dd",
   "metadata": {},
   "outputs": [
    {
     "name": "stderr",
     "output_type": "stream",
     "text": [
      "100%|████████████████████████████████████████| 40/40 [00:02<00:00, 13.39it/s]\n"
     ]
    }
   ],
   "source": [
    "tokenizer = create_tokenizer(train_filenames, max_words)"
   ]
  },
  {
   "cell_type": "markdown",
   "id": "ec2f98d5",
   "metadata": {},
   "source": [
    "`create_dataset` creates a dataset from given `files` and returns two variables - `predictors` which is a sequence of previous words of length `max_sequence_length - 1` and `labels` which is an integer between 0 to `max_words + 1`.\n",
    "Note that, converting to categorical variables leads to `MemoryError` since it tries to create a sequence of `number of elements in training or test set * (MAX_WORDS + 1)` shape. We are following [this blog](https://medium.com/deep-learning-with-keras/which-activation-loss-functions-in-multi-class-clasification-4cd599e4e61f) and keeping the label as an integer."
   ]
  },
  {
   "cell_type": "code",
   "execution_count": 12,
   "id": "84f61d16",
   "metadata": {},
   "outputs": [],
   "source": [
    "def create_dataset(tokenizer, files, max_sequence_length):\n",
    "    input_sequences = []\n",
    "\n",
    "    for file in tqdm(files):\n",
    "        with open(file, 'r') as f:\n",
    "            lines = f.read().replace('\\n', ' ') # replace all new lines with spaces\n",
    "            token_list = tokenizer.texts_to_sequences([lines])\n",
    "\n",
    "            for tokens in token_list:\n",
    "                for i in range(1, len(tokens)):\n",
    "                    # keep only sequences of length <= max_sequence_length\n",
    "                    n_gram_sequence = tokens[max(0, i+1-max_sequence_length):i+1]\n",
    "                    input_sequences.append(n_gram_sequence)\n",
    "\n",
    "    # pad sequences with 0s so that all sequences have same length\n",
    "    input_sequences = tf.keras.preprocessing.sequence.pad_sequences(\n",
    "        input_sequences, maxlen=max_sequence_length, padding='pre')\n",
    "\n",
    "    predictors, label = input_sequences[:, :-1], input_sequences[:, -1]\n",
    "    del input_sequences\n",
    "    return predictors, label"
   ]
  },
  {
   "cell_type": "markdown",
   "id": "a6246d72",
   "metadata": {},
   "source": [
    "Now we create training dataset `X_train` and `y_train` from training files and test dataset `X_test` and `y_test` from test files."
   ]
  },
  {
   "cell_type": "code",
   "execution_count": 13,
   "id": "9e946960",
   "metadata": {},
   "outputs": [
    {
     "name": "stderr",
     "output_type": "stream",
     "text": [
      "100%|████████████████████████████████████████| 40/40 [00:07<00:00,  5.20it/s]\n",
      "100%|████████████████████████████████████████| 10/10 [00:02<00:00,  4.47it/s]\n"
     ]
    }
   ],
   "source": [
    "X_train, y_train = create_dataset(tokenizer, train_filenames, max_seq_len)\n",
    "X_test, y_test = create_dataset(tokenizer, test_filenames, max_seq_len)"
   ]
  },
  {
   "cell_type": "markdown",
   "id": "9ff8d701",
   "metadata": {},
   "source": [
    "## Creating and Training LSTM Models"
   ]
  },
  {
   "cell_type": "markdown",
   "id": "1df65c38",
   "metadata": {},
   "source": [
    "### Implement an embedding layer\n",
    "\n",
    "Create two seperate embedding layers: one for tokens and one for token index (positions)"
   ]
  },
  {
   "cell_type": "code",
   "execution_count": 14,
   "id": "11324f51",
   "metadata": {
    "gather": {
     "logged": 1650048042749
    }
   },
   "outputs": [],
   "source": [
    "class TokenAndPositionEmbedding(tf.keras.layers.Layer):\n",
    "    \"\"\"\n",
    "    A custom token and position embedding layer\n",
    "    \"\"\"\n",
    "    def __init__(self, maxlen, vocab_size, embed_dim):\n",
    "        super(TokenAndPositionEmbedding, self).__init__()\n",
    "        self.token_emb = tf.keras.layers.Embedding(input_dim=vocab_size, output_dim=embed_dim)\n",
    "        self.pos_emb = tf.keras.layers.Embedding(input_dim=maxlen, output_dim=embed_dim)\n",
    "\n",
    "    def call(self, x):\n",
    "        maxlen = tf.shape(x)[-1]\n",
    "        positions = tf.range(start=0, limit=maxlen, delta=1)\n",
    "        positions = self.pos_emb(positions)\n",
    "        x = self.token_emb(x)\n",
    "        return x + positions"
   ]
  },
  {
   "cell_type": "markdown",
   "id": "05403a91",
   "metadata": {},
   "source": [
    "`create_model()` returns a model with `no_of_lstm_layers` LSTM layers each with `no_of_units` units and `dropout_rate` dropout. We are compiling the model with loss `sparse_categorical_crossentropy`, optimizer `adam` and metric `sparse_categorical_accuracy`. We are using sparse categorical crossentropy since the values are integers, not one-hot encoded, see this question on [stackexchange](https://stats.stackexchange.com/questions/326065/cross-entropy-vs-sparse-cross-entropy-when-to-use-one-over-the-other) for details."
   ]
  },
  {
   "cell_type": "code",
   "execution_count": 15,
   "id": "d78612b8",
   "metadata": {
    "gather": {
     "logged": 1650048045664
    }
   },
   "outputs": [],
   "source": [
    "def create_model(no_of_lstm_layers, no_of_units, dropout_rate):\n",
    "    \"\"\"\n",
    "    Creates model with no of lstm layers, no of units and dropout rate in each layer\n",
    "    \"\"\"\n",
    "    inputs = tf.keras.layers.Input(shape=(max_seq_len - 1,), dtype=tf.int32)\n",
    "    embedding_layer = TokenAndPositionEmbedding(max_seq_len, max_words + 1, embed_dim)\n",
    "    x = embedding_layer(inputs)\n",
    "\n",
    "    # LSTM layers\n",
    "    for i in range(no_of_lstm_layers - 1):\n",
    "        x = tf.keras.layers.LSTM(no_of_units, return_sequences=True, dropout=dropout_rate)(x)\n",
    "    x = tf.keras.layers.LSTM(no_of_units, dropout=dropout_rate)(x)\n",
    "\n",
    "    outputs = tf.keras.layers.Dense(max_words + 1, activation='softmax')(x)\n",
    "    model = tf.keras.Model(inputs=inputs, outputs=outputs)\n",
    "\n",
    "    model.compile(loss='sparse_categorical_crossentropy',\n",
    "                  optimizer='adam',\n",
    "                  metrics=['sparse_categorical_accuracy'])\n",
    "    return model"
   ]
  },
  {
   "cell_type": "markdown",
   "id": "f6d0ed7d",
   "metadata": {},
   "source": [
    "We also need to create a plot to visualize training vs validation accuracy and loss. `create_plot()` creates a plot from history object with a title"
   ]
  },
  {
   "cell_type": "code",
   "execution_count": 16,
   "id": "30b23d93",
   "metadata": {},
   "outputs": [],
   "source": [
    "def create_plot(history, title):\n",
    "    \"\"\"\n",
    "    Creates plot from history, history object must have\n",
    "    sparse_categorical_accuracy and loss for both training and validation dataset\n",
    "    \"\"\"\n",
    "    fig = plt.figure(figsize=(10, 6))\n",
    "    plt.plot(history.history['sparse_categorical_accuracy'], label='sparse_categorical_accuracy')\n",
    "    plt.plot(history.history['val_sparse_categorical_accuracy'], label='val_sparse_categorical_accuracy')\n",
    "    plt.title(title + ' Accuracy')\n",
    "    plt.xlabel('Epoch')\n",
    "    plt.ylabel('Sparse Categorical Accuracy')\n",
    "    plt.legend(loc='lower right')\n",
    "    plt.show()\n",
    "    fig.savefig(str(plot_dir / f'{title}_sparse_categorical_accuracy.png'), dpi=fig.dpi)\n",
    "\n",
    "    fig = plt.figure(figsize=(10, 6))\n",
    "    plt.plot(history.history['loss'], label='loss')\n",
    "    plt.plot(history.history['val_loss'], label='val_loss')\n",
    "    plt.title(title + ' Loss')\n",
    "    plt.xlabel('Epoch')\n",
    "    plt.ylabel('Loss')\n",
    "    plt.legend(loc='lower right')\n",
    "    plt.show()\n",
    "    fig.savefig(str(plot_dir / f'{title}_sparse_categorical_loss.png'), dpi=fig.dpi)"
   ]
  },
  {
   "cell_type": "markdown",
   "id": "7aa84d61",
   "metadata": {},
   "source": [
    "We set callback `EarlyStopping` that monitors `val_loss` for 5 epochs and stops training if it does not improve. It prevents the model from overfitting."
   ]
  },
  {
   "cell_type": "code",
   "execution_count": 17,
   "id": "d3542bf6",
   "metadata": {},
   "outputs": [],
   "source": [
    "earlystopping = tf.keras.callbacks.EarlyStopping(monitor='val_loss',\n",
    "                                             min_delta=0,\n",
    "                                             patience=5,\n",
    "                                             mode='auto')"
   ]
  },
  {
   "cell_type": "markdown",
   "id": "a6f619b4",
   "metadata": {},
   "source": [
    "`get_best_model()` takes a list of parameter and finds the best model parameter that has the best test set accuracy. Each parameter need to be defined as a tuple of three values - no of LSTM layers, no of units in each layer and dropout rate. It also saves the models in a directory `models/model_lstm/model-<no of layers>-<no of units>/model`, plots are saved in `models/model_lstm/plots/`."
   ]
  },
  {
   "cell_type": "code",
   "execution_count": 18,
   "id": "75d7db6c",
   "metadata": {},
   "outputs": [],
   "source": [
    "def get_best_model(params):\n",
    "    \"\"\"Returns the trained model with the best model parameter\"\"\"\n",
    "    best_model = None\n",
    "    best_model_accuracy = 0.0\n",
    "    best_model_param = None\n",
    "    \n",
    "    for param in params:\n",
    "        assert len(param) == 3 # must have three items\n",
    "        model_title = f\"model-{param[0]}-{param[1]}\"\n",
    "        plot_title = f\"Model with {param[0]} {param[1]} units LSTM layers\"\n",
    "        print(f\"Training {plot_title}\")\n",
    "        \n",
    "        model = create_model(param[0], param[1], param[2])\n",
    "        # create model and its checkpoint directory\n",
    "        model_dir = model_home / model_title\n",
    "        \n",
    "        # train and save the model\n",
    "        history = model.fit(X_train, y_train,\n",
    "                            validation_split=0.2,\n",
    "                            epochs=20,\n",
    "                            batch_size=1024,\n",
    "                            callbacks=[earlystopping])\n",
    "        model.save(model_dir)\n",
    "        \n",
    "        # create, show and save a plot from history\n",
    "        create_plot(history, plot_title)\n",
    "        accuracy = model.evaluate(X_test, y_test)[1]\n",
    "        print(f\"Model accuracy: {accuracy}\")\n",
    "        \n",
    "        if accuracy > best_model_accuracy:\n",
    "            best_model = model\n",
    "            best_model_accuracy = accuracy\n",
    "            best_model_param = param\n",
    "        \n",
    "        # save memory by deleting model and history\n",
    "        del model\n",
    "        del history\n",
    "    return best_model, best_model_param"
   ]
  },
  {
   "cell_type": "markdown",
   "id": "379ffeff",
   "metadata": {},
   "source": [
    "We create three model parameters and use `get_best_model()` function to find the best model."
   ]
  },
  {
   "cell_type": "code",
   "execution_count": 19,
   "id": "6ac54997",
   "metadata": {},
   "outputs": [
    {
     "name": "stdout",
     "output_type": "stream",
     "text": [
      "Training Model with 2 150 units LSTM layers\n"
     ]
    },
    {
     "name": "stderr",
     "output_type": "stream",
     "text": [
      "2022-04-16 19:44:31.618506: I tensorflow/stream_executor/cuda/cuda_gpu_executor.cc:936] successful NUMA node read from SysFS had negative value (-1), but there must be at least one NUMA node, so returning NUMA node zero\n",
      "2022-04-16 19:44:31.732493: I tensorflow/stream_executor/cuda/cuda_gpu_executor.cc:936] successful NUMA node read from SysFS had negative value (-1), but there must be at least one NUMA node, so returning NUMA node zero\n",
      "2022-04-16 19:44:31.732844: I tensorflow/stream_executor/cuda/cuda_gpu_executor.cc:936] successful NUMA node read from SysFS had negative value (-1), but there must be at least one NUMA node, so returning NUMA node zero\n",
      "2022-04-16 19:44:31.734990: I tensorflow/core/platform/cpu_feature_guard.cc:151] This TensorFlow binary is optimized with oneAPI Deep Neural Network Library (oneDNN) to use the following CPU instructions in performance-critical operations:  AVX2 FMA\n",
      "To enable them in other operations, rebuild TensorFlow with the appropriate compiler flags.\n",
      "2022-04-16 19:44:31.735605: I tensorflow/stream_executor/cuda/cuda_gpu_executor.cc:936] successful NUMA node read from SysFS had negative value (-1), but there must be at least one NUMA node, so returning NUMA node zero\n",
      "2022-04-16 19:44:31.735974: I tensorflow/stream_executor/cuda/cuda_gpu_executor.cc:936] successful NUMA node read from SysFS had negative value (-1), but there must be at least one NUMA node, so returning NUMA node zero\n",
      "2022-04-16 19:44:31.736277: I tensorflow/stream_executor/cuda/cuda_gpu_executor.cc:936] successful NUMA node read from SysFS had negative value (-1), but there must be at least one NUMA node, so returning NUMA node zero\n",
      "2022-04-16 19:44:32.882736: I tensorflow/stream_executor/cuda/cuda_gpu_executor.cc:936] successful NUMA node read from SysFS had negative value (-1), but there must be at least one NUMA node, so returning NUMA node zero\n",
      "2022-04-16 19:44:32.882992: I tensorflow/stream_executor/cuda/cuda_gpu_executor.cc:936] successful NUMA node read from SysFS had negative value (-1), but there must be at least one NUMA node, so returning NUMA node zero\n",
      "2022-04-16 19:44:32.883162: I tensorflow/stream_executor/cuda/cuda_gpu_executor.cc:936] successful NUMA node read from SysFS had negative value (-1), but there must be at least one NUMA node, so returning NUMA node zero\n",
      "2022-04-16 19:44:32.883943: I tensorflow/core/common_runtime/gpu/gpu_device.cc:1525] Created device /job:localhost/replica:0/task:0/device:GPU:0 with 7022 MB memory:  -> device: 0, name: NVIDIA GeForce GTX 1070, pci bus id: 0000:01:00.0, compute capability: 6.1\n",
      "2022-04-16 19:44:33.543098: W tensorflow/core/framework/cpu_allocator_impl.cc:82] Allocation of 894782804 exceeds 10% of free system memory.\n"
     ]
    },
    {
     "name": "stdout",
     "output_type": "stream",
     "text": [
      "Epoch 1/20\n"
     ]
    },
    {
     "name": "stderr",
     "output_type": "stream",
     "text": [
      "2022-04-16 19:44:43.086072: I tensorflow/stream_executor/cuda/cuda_dnn.cc:368] Loaded cuDNN version 8400\n"
     ]
    },
    {
     "name": "stdout",
     "output_type": "stream",
     "text": [
      "1098/1098 [==============================] - 349s 309ms/step - loss: 7.1014 - sparse_categorical_accuracy: 0.1186 - val_loss: 7.1929 - val_sparse_categorical_accuracy: 0.1063\n",
      "Epoch 2/20\n",
      "1098/1098 [==============================] - 336s 306ms/step - loss: 6.7192 - sparse_categorical_accuracy: 0.1262 - val_loss: 6.9585 - val_sparse_categorical_accuracy: 0.1160\n",
      "Epoch 3/20\n",
      "1098/1098 [==============================] - 337s 307ms/step - loss: 6.3580 - sparse_categorical_accuracy: 0.1367 - val_loss: 6.7510 - val_sparse_categorical_accuracy: 0.1253\n",
      "Epoch 4/20\n",
      "1098/1098 [==============================] - 334s 304ms/step - loss: 6.0939 - sparse_categorical_accuracy: 0.1445 - val_loss: 6.6321 - val_sparse_categorical_accuracy: 0.1319\n",
      "Epoch 5/20\n",
      "1098/1098 [==============================] - 334s 304ms/step - loss: 5.8899 - sparse_categorical_accuracy: 0.1517 - val_loss: 6.5406 - val_sparse_categorical_accuracy: 0.1364\n",
      "Epoch 6/20\n",
      "1098/1098 [==============================] - 334s 304ms/step - loss: 5.7370 - sparse_categorical_accuracy: 0.1572 - val_loss: 6.4963 - val_sparse_categorical_accuracy: 0.1380\n",
      "Epoch 7/20\n",
      "1098/1098 [==============================] - 334s 304ms/step - loss: 5.6164 - sparse_categorical_accuracy: 0.1616 - val_loss: 6.4620 - val_sparse_categorical_accuracy: 0.1402\n",
      "Epoch 8/20\n",
      "1098/1098 [==============================] - 334s 304ms/step - loss: 5.5156 - sparse_categorical_accuracy: 0.1653 - val_loss: 6.4330 - val_sparse_categorical_accuracy: 0.1413\n",
      "Epoch 9/20\n",
      "1098/1098 [==============================] - 333s 303ms/step - loss: 5.4267 - sparse_categorical_accuracy: 0.1687 - val_loss: 6.4167 - val_sparse_categorical_accuracy: 0.1439\n",
      "Epoch 10/20\n",
      "1098/1098 [==============================] - 333s 303ms/step - loss: 5.3483 - sparse_categorical_accuracy: 0.1715 - val_loss: 6.4054 - val_sparse_categorical_accuracy: 0.1441\n",
      "Epoch 11/20\n",
      "1098/1098 [==============================] - 333s 303ms/step - loss: 5.2775 - sparse_categorical_accuracy: 0.1747 - val_loss: 6.3965 - val_sparse_categorical_accuracy: 0.1446\n",
      "Epoch 12/20\n",
      "1098/1098 [==============================] - 333s 303ms/step - loss: 5.2137 - sparse_categorical_accuracy: 0.1773 - val_loss: 6.3936 - val_sparse_categorical_accuracy: 0.1459\n",
      "Epoch 13/20\n",
      "1098/1098 [==============================] - 333s 303ms/step - loss: 5.1561 - sparse_categorical_accuracy: 0.1799 - val_loss: 6.3932 - val_sparse_categorical_accuracy: 0.1465\n",
      "Epoch 14/20\n",
      "1098/1098 [==============================] - 333s 303ms/step - loss: 5.1039 - sparse_categorical_accuracy: 0.1826 - val_loss: 6.3896 - val_sparse_categorical_accuracy: 0.1477\n",
      "Epoch 15/20\n",
      "1098/1098 [==============================] - 333s 303ms/step - loss: 5.0558 - sparse_categorical_accuracy: 0.1851 - val_loss: 6.3955 - val_sparse_categorical_accuracy: 0.1478\n",
      "Epoch 16/20\n",
      "1098/1098 [==============================] - 333s 303ms/step - loss: 5.0115 - sparse_categorical_accuracy: 0.1875 - val_loss: 6.4061 - val_sparse_categorical_accuracy: 0.1480\n",
      "Epoch 17/20\n",
      "1098/1098 [==============================] - 334s 304ms/step - loss: 4.9686 - sparse_categorical_accuracy: 0.1902 - val_loss: 6.4173 - val_sparse_categorical_accuracy: 0.1478\n",
      "Epoch 18/20\n",
      "1098/1098 [==============================] - 345s 314ms/step - loss: 4.9302 - sparse_categorical_accuracy: 0.1923 - val_loss: 6.4138 - val_sparse_categorical_accuracy: 0.1488\n",
      "Epoch 19/20\n",
      "1098/1098 [==============================] - 346s 315ms/step - loss: 4.8930 - sparse_categorical_accuracy: 0.1946 - val_loss: 6.4302 - val_sparse_categorical_accuracy: 0.1494\n"
     ]
    },
    {
     "name": "stderr",
     "output_type": "stream",
     "text": [
      "2022-04-16 21:30:54.743033: W tensorflow/python/util/util.cc:368] Sets are not currently considered sequences, but this may change in the future, so consider avoiding using them.\n",
      "WARNING:absl:Found untraced functions such as embedding_layer_call_fn, embedding_layer_call_and_return_conditional_losses, embedding_1_layer_call_fn, embedding_1_layer_call_and_return_conditional_losses, lstm_cell_layer_call_fn while saving (showing 5 of 8). These functions will not be directly callable after loading.\n"
     ]
    },
    {
     "name": "stdout",
     "output_type": "stream",
     "text": [
      "INFO:tensorflow:Assets written to: /home/shafquat/bangla-next-word-prediction/models/bn_lstm/model-2-150/assets\n"
     ]
    },
    {
     "name": "stderr",
     "output_type": "stream",
     "text": [
      "INFO:tensorflow:Assets written to: /home/shafquat/bangla-next-word-prediction/models/bn_lstm/model-2-150/assets\n",
      "WARNING:absl:<keras.layers.recurrent.LSTMCell object at 0x7fa1a97cd940> has the same name 'LSTMCell' as a built-in Keras object. Consider renaming <class 'keras.layers.recurrent.LSTMCell'> to avoid naming conflicts when loading with `tf.keras.models.load_model`. If renaming is not possible, pass the object in the `custom_objects` parameter of the load function.\n",
      "WARNING:absl:<keras.layers.recurrent.LSTMCell object at 0x7fa1a9755ca0> has the same name 'LSTMCell' as a built-in Keras object. Consider renaming <class 'keras.layers.recurrent.LSTMCell'> to avoid naming conflicts when loading with `tf.keras.models.load_model`. If renaming is not possible, pass the object in the `custom_objects` parameter of the load function.\n"
     ]
    },
    {
     "data": {
      "image/png": "[encoded data removed]",
      "text/plain": [
       "<Figure size 720x432 with 1 Axes>"
      ]
     },
     "metadata": {},
     "output_type": "display_data"
    },
    {
     "data": {
      "image/png": "[encoded data removed]",
      "text/plain": [
       "<Figure size 720x432 with 1 Axes>"
      ]
     },
     "metadata": {},
     "output_type": "display_data"
    },
    {
     "name": "stdout",
     "output_type": "stream",
     "text": [
      "    9/14385 [..............................] - ETA: 3:05 - loss: 5.6305 - sparse_categorical_accuracy: 0.2396"
     ]
    },
    {
     "name": "stderr",
     "output_type": "stream",
     "text": [
      "2022-04-16 21:31:05.751376: W tensorflow/core/framework/cpu_allocator_impl.cc:82] Allocation of 366412332 exceeds 10% of free system memory.\n"
     ]
    },
    {
     "name": "stdout",
     "output_type": "stream",
     "text": [
      "14385/14385 [==============================] - 142s 10ms/step - loss: 5.9510 - sparse_categorical_accuracy: 0.2160\n",
      "Model accuracy: 0.2159794270992279\n"
     ]
    }
   ],
   "source": [
    "params = [(2, 150, 0.2), (3, 150, 0.2), (2, 64, 0.2)]\n",
    "model, param = get_best_model(params)"
   ]
  },
  {
   "cell_type": "markdown",
   "id": "e7320c7f-4156-43cf-aa07-e08dc975e6e6",
   "metadata": {
    "nteract": {
     "transient": {
      "deleting": false
     }
    }
   },
   "source": [
    "Plot the architecture of the best model"
   ]
  },
  {
   "cell_type": "code",
   "execution_count": 10,
   "id": "91370a70-d5bd-4a35-badf-f919013ca429",
   "metadata": {
    "gather": {
     "logged": 1650048390062
    },
    "jupyter": {
     "outputs_hidden": false,
     "source_hidden": false
    },
    "nteract": {
     "transient": {
      "deleting": false
     }
    }
   },
   "outputs": [
    {
     "data": {
      "image/png": "[encoded data removed]",
      "text/plain": [
       "<IPython.core.display.Image object>"
      ]
     },
     "execution_count": 10,
     "metadata": {},
     "output_type": "execute_result"
    }
   ],
   "source": [
    "plot_model(model, to_file=str(plot_dir / \"model-2-150.png\"), show_layer_names=False, show_shapes=True)"
   ]
  },
  {
   "cell_type": "markdown",
   "id": "869e39e1",
   "metadata": {},
   "source": [
    "Get best model parameters"
   ]
  },
  {
   "cell_type": "code",
   "execution_count": 26,
   "id": "1aadc0a4",
   "metadata": {},
   "outputs": [
    {
     "name": "stdout",
     "output_type": "stream",
     "text": [
      "(2, 150, 0.2)\n"
     ]
    }
   ],
   "source": [
    "print(param)"
   ]
  },
  {
   "cell_type": "markdown",
   "id": "78461d2c",
   "metadata": {},
   "source": [
    "## Visualize Word Embeddings"
   ]
  },
  {
   "cell_type": "markdown",
   "id": "1872b316",
   "metadata": {},
   "source": [
    "Load weight and vocab"
   ]
  },
  {
   "cell_type": "code",
   "execution_count": 31,
   "id": "2223bab2",
   "metadata": {},
   "outputs": [],
   "source": [
    "import io\n",
    "weights = model.get_layer('token_and_position_embedding').get_weights()[0]\n",
    "vocab = tokenizer.word_index"
   ]
  },
  {
   "cell_type": "markdown",
   "id": "055b7953",
   "metadata": {},
   "source": [
    "Write the weights to disk. To use the Embedding Projector, we need to upload two files in tab separated format: a file of vectors (containing the embedding), and a file of meta data (containing the words)."
   ]
  },
  {
   "cell_type": "code",
   "execution_count": 32,
   "id": "20e70237",
   "metadata": {},
   "outputs": [],
   "source": [
    "out_v = io.open(model_home / 'vectors.tsv', 'w', encoding='utf-8')\n",
    "out_m = io.open(model_home /'metadata.tsv', 'w', encoding='utf-8')\n",
    "\n",
    "for index, word in enumerate(vocab.keys()):\n",
    "    if index < 2:\n",
    "        continue  # skip 0, it's padding.\n",
    "    if index > 10000:\n",
    "        break\n",
    "    vec = weights[index]\n",
    "    out_v.write('\\t'.join([str(x) for x in vec]) + \"\\n\")\n",
    "    out_m.write(word + \"\\n\")\n",
    "\n",
    "out_v.close()\n",
    "out_m.close()"
   ]
  },
  {
   "cell_type": "markdown",
   "id": "9bfae116",
   "metadata": {},
   "source": [
    "## Testing the model with actual data"
   ]
  },
  {
   "cell_type": "markdown",
   "id": "8854f3e5",
   "metadata": {},
   "source": [
    "Load model and tokenizer from directory"
   ]
  },
  {
   "cell_type": "code",
   "execution_count": 20,
   "id": "2d82e2bc",
   "metadata": {},
   "outputs": [],
   "source": [
    "model_saved_dir = model_home / 'model-2-150'\n",
    "model = tf.keras.models.load_model(model_saved_dir)\n",
    "\n",
    "with open(model_home / 'tokenizer_10000_words.pickle', 'rb') as f:\n",
    "    tokenizer = pickle.load(f)"
   ]
  },
  {
   "cell_type": "markdown",
   "id": "1414e337",
   "metadata": {},
   "source": [
    "`predict_next_words` function takes model, tokenizer and text as function argument and returns top 5 next words predicted by the model"
   ]
  },
  {
   "cell_type": "code",
   "execution_count": 21,
   "id": "c2c81ab3",
   "metadata": {},
   "outputs": [],
   "source": [
    "def predict_next_words(model, tokenizer, text):\n",
    "    # tokenize the text\n",
    "    tokenized_sequence = tokenizer.texts_to_sequences([text])\n",
    "    # pre-pad with 0's to make it of size MAX_SEQUENCE_LENGTH - 1\n",
    "    input_sequences = tf.keras.preprocessing.sequence.pad_sequences(tokenized_sequence,\n",
    "                                                                maxlen=max_seq_len - 1,\n",
    "                                                                padding='pre')\n",
    "    # predict using model\n",
    "    predictions = model.predict(input_sequences)\n",
    "    ids = np.argsort(predictions, axis=1)[:, -5:] # indices of the top 5 predictions\n",
    "    # print next word with score\n",
    "    for id in ids[0]:\n",
    "        print(tokenizer.index_word[id], \"->\", predictions[:, id].squeeze())"
   ]
  },
  {
   "cell_type": "markdown",
   "id": "b1f5bb9d",
   "metadata": {},
   "source": [
    "Test for custom texts by calling the function"
   ]
  },
  {
   "cell_type": "code",
   "execution_count": 22,
   "id": "01f41d1f",
   "metadata": {},
   "outputs": [
    {
     "name": "stdout",
     "output_type": "stream",
     "text": [
      "Enter text: কেন\n",
      "২ -> 0.010123348\n",
      "এই -> 0.01702388\n",
      "আমার -> 0.0277904\n",
      "আমি -> 0.045058608\n",
      "<oov> -> 0.21097933\n"
     ]
    }
   ],
   "source": [
    "text = input(\"Enter text: \")\n",
    "predict_next_words(model, tokenizer, text)"
   ]
  },
  {
   "cell_type": "markdown",
   "id": "9765ebef",
   "metadata": {},
   "source": [
    "## Convert Keras model to TensorFlow Lite model"
   ]
  },
  {
   "cell_type": "markdown",
   "id": "b60a391c",
   "metadata": {},
   "source": [
    "Fix input size for the model"
   ]
  },
  {
   "cell_type": "code",
   "execution_count": 23,
   "id": "3cc59836",
   "metadata": {},
   "outputs": [
    {
     "name": "stderr",
     "output_type": "stream",
     "text": [
      "WARNING:absl:Found untraced functions such as embedding_layer_call_fn, embedding_layer_call_and_return_conditional_losses, embedding_1_layer_call_fn, embedding_1_layer_call_and_return_conditional_losses, lstm_cell_2_layer_call_fn while saving (showing 5 of 8). These functions will not be directly callable after loading.\n"
     ]
    },
    {
     "name": "stdout",
     "output_type": "stream",
     "text": [
      "INFO:tensorflow:Assets written to: /home/shafquat/bangla-next-word-prediction/models/bn_lstm/model-2-150/assets\n"
     ]
    },
    {
     "name": "stderr",
     "output_type": "stream",
     "text": [
      "INFO:tensorflow:Assets written to: /home/shafquat/bangla-next-word-prediction/models/bn_lstm/model-2-150/assets\n",
      "WARNING:absl:<keras.layers.recurrent.LSTMCell object at 0x7fa1a1816f70> has the same name 'LSTMCell' as a built-in Keras object. Consider renaming <class 'keras.layers.recurrent.LSTMCell'> to avoid naming conflicts when loading with `tf.keras.models.load_model`. If renaming is not possible, pass the object in the `custom_objects` parameter of the load function.\n",
      "WARNING:absl:<keras.layers.recurrent.LSTMCell object at 0x7fa1a17e39d0> has the same name 'LSTMCell' as a built-in Keras object. Consider renaming <class 'keras.layers.recurrent.LSTMCell'> to avoid naming conflicts when loading with `tf.keras.models.load_model`. If renaming is not possible, pass the object in the `custom_objects` parameter of the load function.\n"
     ]
    }
   ],
   "source": [
    "run_model = tf.function(lambda x: model(x))\n",
    "# This is important, let's fix the input size.\n",
    "BATCH_SIZE = 1\n",
    "INPUT_SIZE = 199\n",
    "concrete_func = run_model.get_concrete_function(\n",
    "    tf.TensorSpec([BATCH_SIZE, INPUT_SIZE], model.inputs[0].dtype))\n",
    "\n",
    "# model directory.\n",
    "model.save(model_saved_dir, save_format=\"tf\", signatures=concrete_func)"
   ]
  },
  {
   "cell_type": "markdown",
   "id": "068056f3",
   "metadata": {},
   "source": [
    "Convert the model to Tensorflow Lite"
   ]
  },
  {
   "cell_type": "code",
   "execution_count": 24,
   "id": "ef18203a",
   "metadata": {},
   "outputs": [
    {
     "name": "stderr",
     "output_type": "stream",
     "text": [
      "2022-04-16 21:34:29.655793: W tensorflow/compiler/mlir/lite/python/tf_tfl_flatbuffer_helpers.cc:357] Ignored output_format.\n",
      "2022-04-16 21:34:29.655834: W tensorflow/compiler/mlir/lite/python/tf_tfl_flatbuffer_helpers.cc:360] Ignored drop_control_dependency.\n",
      "WARNING:absl:Buffer deduplication procedure will be skipped when flatbuffer library is not properly loaded\n",
      "2022-04-16 21:34:29.668771: I tensorflow/cc/saved_model/reader.cc:43] Reading SavedModel from: /home/shafquat/bangla-next-word-prediction/models/bn_lstm/model-2-150\n",
      "2022-04-16 21:34:29.687497: I tensorflow/cc/saved_model/reader.cc:78] Reading meta graph with tags { serve }\n",
      "2022-04-16 21:34:29.687781: I tensorflow/cc/saved_model/reader.cc:119] Reading SavedModel debug info (if present) from: /home/shafquat/bangla-next-word-prediction/models/bn_lstm/model-2-150\n",
      "2022-04-16 21:34:29.744658: I tensorflow/cc/saved_model/loader.cc:228] Restoring SavedModel bundle.\n",
      "2022-04-16 21:34:29.880406: I tensorflow/cc/saved_model/loader.cc:212] Running initialization op on SavedModel bundle at path: /home/shafquat/bangla-next-word-prediction/models/bn_lstm/model-2-150\n",
      "2022-04-16 21:34:29.985305: I tensorflow/cc/saved_model/loader.cc:301] SavedModel load for tags { serve }; Status: success: OK. Took 317681 microseconds.\n",
      "2022-04-16 21:34:30.212876: I tensorflow/compiler/mlir/tensorflow/utils/dump_mlir_util.cc:237] disabling MLIR crash reproducer, set env var `MLIR_CRASH_REPRODUCER_DIRECTORY` to enable.\n",
      "2022-04-16 21:34:30.529847: I tensorflow/compiler/mlir/lite/flatbuffer_export.cc:1963] Estimated count of arithmetic ops: 3.701 M  ops, equivalently 1.851 M  MACs\n",
      "\n"
     ]
    }
   ],
   "source": [
    "converter = tf.lite.TFLiteConverter.from_saved_model(str(model_saved_dir))\n",
    "converter.experimental_new_converter = True\n",
    "tflite_model = converter.convert()"
   ]
  },
  {
   "cell_type": "markdown",
   "id": "31b37ee8",
   "metadata": {},
   "source": [
    "Save the converted tflite model to file"
   ]
  },
  {
   "cell_type": "code",
   "execution_count": 25,
   "id": "4f46f293",
   "metadata": {},
   "outputs": [],
   "source": [
    "with open(model_home / 'bn_lstm.tflite', 'wb') as file_handle:\n",
    "    file_handle.write(tflite_model)"
   ]
  },
  {
   "cell_type": "markdown",
   "id": "a21f29e3",
   "metadata": {},
   "source": [
    "Test the tflite converted model"
   ]
  },
  {
   "cell_type": "code",
   "execution_count": 26,
   "id": "6fc0349b",
   "metadata": {},
   "outputs": [
    {
     "name": "stderr",
     "output_type": "stream",
     "text": [
      "INFO: Created TensorFlow Lite XNNPACK delegate for CPU.\n"
     ]
    }
   ],
   "source": [
    "interpreter = tf.lite.Interpreter(model_path=str(model_home / 'bn_lstm.tflite'))\n",
    "interpreter.allocate_tensors()"
   ]
  },
  {
   "cell_type": "markdown",
   "id": "3e58d01b",
   "metadata": {},
   "source": [
    "Get prediction from the model"
   ]
  },
  {
   "cell_type": "code",
   "execution_count": 27,
   "id": "26425645",
   "metadata": {},
   "outputs": [
    {
     "name": "stdout",
     "output_type": "stream",
     "text": [
      "[[1.10251888e-08 7.95967430e-02 1.35746915e-02 ... 6.06659023e-06\n",
      "  1.96055262e-04 1.01836104e-08]]\n"
     ]
    }
   ],
   "source": [
    "# Get input and output tensors.\n",
    "input_details = interpreter.get_input_details()\n",
    "output_details = interpreter.get_output_details()\n",
    "\n",
    "# Test model on random input data.\n",
    "input_shape = input_details[0]['shape']\n",
    "input_data = np.array(np.random.random_sample(input_shape), dtype=np.int32)\n",
    "interpreter.set_tensor(input_details[0]['index'], input_data)\n",
    "\n",
    "interpreter.invoke()\n",
    "\n",
    "# The function `get_tensor()` returns a copy of the tensor data.\n",
    "# Use `tensor()` in order to get a pointer to the tensor.\n",
    "output_data = interpreter.get_tensor(output_details[0]['index'])\n",
    "print(output_data)"
   ]
  },
  {
   "cell_type": "markdown",
   "id": "9643544b",
   "metadata": {},
   "source": [
    "Check input and output shape"
   ]
  },
  {
   "cell_type": "code",
   "execution_count": 28,
   "id": "6686e2bd",
   "metadata": {},
   "outputs": [
    {
     "data": {
      "text/plain": [
       "array([  1, 199], dtype=int32)"
      ]
     },
     "execution_count": 28,
     "metadata": {},
     "output_type": "execute_result"
    }
   ],
   "source": [
    "input_shape"
   ]
  },
  {
   "cell_type": "code",
   "execution_count": 29,
   "id": "d8d336e6",
   "metadata": {},
   "outputs": [
    {
     "data": {
      "text/plain": [
       "(1, 10001)"
      ]
     },
     "execution_count": 29,
     "metadata": {},
     "output_type": "execute_result"
    }
   ],
   "source": [
    "output_data.shape"
   ]
  }
 ],
 "metadata": {
  "kernel_info": {
   "name": "project"
  },
  "kernelspec": {
   "display_name": "Python 3 (ipykernel)",
   "language": "python",
   "name": "python3"
  },
  "language_info": {
   "codemirror_mode": {
    "name": "ipython",
    "version": 3
   },
   "file_extension": ".py",
   "mimetype": "text/x-python",
   "name": "python",
   "nbconvert_exporter": "python",
   "pygments_lexer": "ipython3",
   "version": "3.8.10"
  },
  "nteract": {
   "version": "nteract-front-end@1.0.0"
  }
 },
 "nbformat": 4,
 "nbformat_minor": 5
}
