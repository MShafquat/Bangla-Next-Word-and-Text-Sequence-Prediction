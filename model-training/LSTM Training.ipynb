{
 "cells": [
  {
   "cell_type": "markdown",
   "id": "2a9ae416",
   "metadata": {},
   "source": [
    "# Training an LSTM model on books dataset"
   ]
  },
  {
   "cell_type": "markdown",
   "id": "9d9c2898",
   "metadata": {},
   "source": [
    "First we import necessary packages for our project"
   ]
  },
  {
   "cell_type": "code",
   "execution_count": 1,
   "id": "045b4369",
   "metadata": {},
   "outputs": [],
   "source": [
    "from matplotlib import pyplot as plt\n",
    "import numpy as np\n",
    "import os\n",
    "from pathlib import Path\n",
    "import pickle\n",
    "import random\n",
    "import tensorflow as tf\n",
    "from tensorflow.keras.preprocessing.text import Tokenizer\n",
    "from tqdm import tqdm"
   ]
  },
  {
   "cell_type": "markdown",
   "id": "47bd9188",
   "metadata": {},
   "source": [
    "## Preparing Dataset"
   ]
  },
  {
   "cell_type": "markdown",
   "id": "211961f7",
   "metadata": {},
   "source": [
    "Initialize the project root, data, and model directories. `processed_data` directory contains selected books from renowned authors only."
   ]
  },
  {
   "cell_type": "code",
   "execution_count": 2,
   "id": "cca9255e",
   "metadata": {},
   "outputs": [],
   "source": [
    "# get data and model directories\n",
    "project_root = Path('__file__').resolve().parents[1]\n",
    "data_dir = project_root / 'processed_data/'\n",
    "model_dir = project_root / 'models/bn_lstm'\n",
    "os.makedirs(model_dir, exist_ok=True) # Create if does not exist"
   ]
  },
  {
   "cell_type": "markdown",
   "id": "82779262",
   "metadata": {},
   "source": [
    "Get list of files in the data directory"
   ]
  },
  {
   "cell_type": "code",
   "execution_count": 3,
   "id": "07e0c682",
   "metadata": {},
   "outputs": [],
   "source": [
    "filenames = [str(file) for file in Path(data_dir).glob('**/*.txt')]"
   ]
  },
  {
   "cell_type": "markdown",
   "id": "fcd575e2",
   "metadata": {},
   "source": [
    "Then we randomly shuffle the filenames list and select 100 files."
   ]
  },
  {
   "cell_type": "code",
   "execution_count": 5,
   "id": "22100c7f",
   "metadata": {},
   "outputs": [],
   "source": [
    "random.shuffle(filenames)\n",
    "filenames = filenames[:100]"
   ]
  },
  {
   "cell_type": "markdown",
   "id": "5b1ad487",
   "metadata": {},
   "source": [
    "Split the files for training and testing. We are keeping 20% for testing and 80% for training."
   ]
  },
  {
   "cell_type": "code",
   "execution_count": 6,
   "id": "52251f92",
   "metadata": {},
   "outputs": [],
   "source": [
    "train_test_split = 0.2\n",
    "train_size = int(len(filenames) * train_test_split)\n",
    "training_filenames = filenames[:-train_size]\n",
    "test_filenames = filenames[-train_size:]"
   ]
  },
  {
   "cell_type": "markdown",
   "id": "b5310e62",
   "metadata": {},
   "source": [
    "Now we create a function that creates a tokenizer with `max_words`, fit it on training files and save to `model_dir`."
   ]
  },
  {
   "cell_type": "code",
   "execution_count": 7,
   "id": "7a632471",
   "metadata": {},
   "outputs": [],
   "source": [
    "def create_tokenizer(files, max_words, model_dir):\n",
    "    tokenizer = Tokenizer(num_words=max_words)\n",
    "    for file in tqdm(files):\n",
    "        with open(file, 'r') as f:\n",
    "            lines = f.read().split('\\n')\n",
    "            tokenizer.fit_on_texts(lines)\n",
    "    save_path = model_dir / f'tokenizer_{max_words}_words.pickle'\n",
    "    # save the tokenizer in model dir\n",
    "    with open(save_path, 'wb') as handle:\n",
    "        pickle.dump(tokenizer, handle, protocol=pickle.HIGHEST_PROTOCOL)\n",
    "    return tokenizer"
   ]
  },
  {
   "cell_type": "markdown",
   "id": "8a8fde39",
   "metadata": {},
   "source": [
    "Define max words and max sequence length"
   ]
  },
  {
   "cell_type": "code",
   "execution_count": 8,
   "id": "95f09482",
   "metadata": {},
   "outputs": [],
   "source": [
    "MAX_WORDS = 10000\n",
    "MAX_SEQUENCE_LENGTH = 200"
   ]
  },
  {
   "cell_type": "markdown",
   "id": "43313ee9",
   "metadata": {},
   "source": [
    "Now create the tokenizer calling the function and passing the defined constants"
   ]
  },
  {
   "cell_type": "code",
   "execution_count": 7,
   "id": "205231dd",
   "metadata": {},
   "outputs": [
    {
     "name": "stderr",
     "output_type": "stream",
     "text": [
      "100%|█████████████████████████████████████████| 968/968 [12:12<00:00,  1.32it/s]\n"
     ]
    }
   ],
   "source": [
    "tokenizer = create_tokenizer(training_filenames, MAX_WORDS, model_dir)"
   ]
  },
  {
   "cell_type": "markdown",
   "id": "4351d053",
   "metadata": {},
   "source": [
    "Training the tokenizer took some minutes to train. Once trained we can load the tokenizer from the pickle file without recreating each time."
   ]
  },
  {
   "cell_type": "code",
   "execution_count": 9,
   "id": "651069d9",
   "metadata": {},
   "outputs": [],
   "source": [
    "with open(model_dir / f'tokenizer_{MAX_WORDS}_words.pickle', 'rb') as handle:\n",
    "    tokenizer = pickle.load(handle)"
   ]
  },
  {
   "cell_type": "markdown",
   "id": "ec2f98d5",
   "metadata": {},
   "source": [
    "`create_dataset` creates a dataset from given `files` and returns two variables - `predictors` which is a sequence of previous words of length `max_sequence_length - 1` and `labels` which is an integer between 0 to `max_words + 1`.\n",
    "Note that, converting to categorical variables leads to `MemoryError` since it tries to create a sequence of `number of elements in training or test set * (MAX_WORDS + 1)` shape. We are following [this blog](https://medium.com/deep-learning-with-keras/which-activation-loss-functions-in-multi-class-clasification-4cd599e4e61f) and keeping the label as an integer."
   ]
  },
  {
   "cell_type": "code",
   "execution_count": 128,
   "id": "84f61d16",
   "metadata": {},
   "outputs": [],
   "source": [
    "def create_dataset(tokenizer, files, max_sequence_length):\n",
    "    input_sequences = []\n",
    "\n",
    "    for file in tqdm(files):\n",
    "        with open(file, 'r') as f:\n",
    "            lines = f.read().split('\\n')\n",
    "            token_list = tokenizer.texts_to_sequences(lines)\n",
    "            for tokens in token_list:\n",
    "                for i in range(1, len(tokens)):\n",
    "                    # keep only sequences of length <= max_sequence_length\n",
    "                    n_gram_sequence = tokens[max(0, i+1-max_sequence_length):i+1]\n",
    "                    input_sequences.append(n_gram_sequence)\n",
    "\n",
    "    # pad sequences with 0s so that all sequences have same length\n",
    "    input_sequences = tf.keras.preprocessing.sequence.pad_sequences(\n",
    "        input_sequences, maxlen=max_sequence_length, padding='pre')\n",
    "\n",
    "    predictors, label = input_sequences[:, :-1], input_sequences[:, -1]\n",
    "    del input_sequences\n",
    "    return predictors, label"
   ]
  },
  {
   "cell_type": "markdown",
   "id": "a6246d72",
   "metadata": {},
   "source": [
    "Now we create training dataset `X_train` and `y_train` from training files and test dataset `X_test` and `y_test` from test files."
   ]
  },
  {
   "cell_type": "code",
   "execution_count": 129,
   "id": "9e946960",
   "metadata": {},
   "outputs": [
    {
     "name": "stderr",
     "output_type": "stream",
     "text": [
      "100%|███████████████████████████████████████████| 80/80 [00:07<00:00, 10.17it/s]\n",
      "100%|███████████████████████████████████████████| 20/20 [00:01<00:00, 11.46it/s]\n"
     ]
    }
   ],
   "source": [
    "X_train, y_train = create_dataset(tokenizer, training_filenames, MAX_SEQUENCE_LENGTH)\n",
    "X_test, y_test = create_dataset(tokenizer, test_filenames, MAX_SEQUENCE_LENGTH)"
   ]
  },
  {
   "cell_type": "markdown",
   "id": "9ff8d701",
   "metadata": {},
   "source": [
    "## Creating and Training Model"
   ]
  },
  {
   "cell_type": "markdown",
   "id": "379ffeff",
   "metadata": {},
   "source": [
    "Create a sequential LSTM model and compile the model with loss `sparse_categorical_crossentropy`, optimizer `adam` and metric `sparse_categorical_accuracy`. We are using sparse categorical crossentropy since the values are integers, not one-hot encoded, see this question on [stackexchange](https://stats.stackexchange.com/questions/326065/cross-entropy-vs-sparse-cross-entropy-when-to-use-one-over-the-other) for details."
   ]
  },
  {
   "cell_type": "code",
   "execution_count": 12,
   "id": "9a4a4f4b",
   "metadata": {},
   "outputs": [
    {
     "name": "stderr",
     "output_type": "stream",
     "text": [
      "2022-04-01 16:52:19.694887: I tensorflow/stream_executor/cuda/cuda_gpu_executor.cc:936] successful NUMA node read from SysFS had negative value (-1), but there must be at least one NUMA node, so returning NUMA node zero\n",
      "2022-04-01 16:52:19.821139: I tensorflow/stream_executor/cuda/cuda_gpu_executor.cc:936] successful NUMA node read from SysFS had negative value (-1), but there must be at least one NUMA node, so returning NUMA node zero\n",
      "2022-04-01 16:52:19.821400: I tensorflow/stream_executor/cuda/cuda_gpu_executor.cc:936] successful NUMA node read from SysFS had negative value (-1), but there must be at least one NUMA node, so returning NUMA node zero\n",
      "2022-04-01 16:52:19.822869: I tensorflow/core/platform/cpu_feature_guard.cc:151] This TensorFlow binary is optimized with oneAPI Deep Neural Network Library (oneDNN) to use the following CPU instructions in performance-critical operations:  AVX2 FMA\n",
      "To enable them in other operations, rebuild TensorFlow with the appropriate compiler flags.\n",
      "2022-04-01 16:52:19.823424: I tensorflow/stream_executor/cuda/cuda_gpu_executor.cc:936] successful NUMA node read from SysFS had negative value (-1), but there must be at least one NUMA node, so returning NUMA node zero\n",
      "2022-04-01 16:52:19.823653: I tensorflow/stream_executor/cuda/cuda_gpu_executor.cc:936] successful NUMA node read from SysFS had negative value (-1), but there must be at least one NUMA node, so returning NUMA node zero\n",
      "2022-04-01 16:52:19.823767: I tensorflow/stream_executor/cuda/cuda_gpu_executor.cc:936] successful NUMA node read from SysFS had negative value (-1), but there must be at least one NUMA node, so returning NUMA node zero\n",
      "2022-04-01 16:52:21.028281: I tensorflow/stream_executor/cuda/cuda_gpu_executor.cc:936] successful NUMA node read from SysFS had negative value (-1), but there must be at least one NUMA node, so returning NUMA node zero\n",
      "2022-04-01 16:52:21.028553: I tensorflow/stream_executor/cuda/cuda_gpu_executor.cc:936] successful NUMA node read from SysFS had negative value (-1), but there must be at least one NUMA node, so returning NUMA node zero\n",
      "2022-04-01 16:52:21.028746: I tensorflow/stream_executor/cuda/cuda_gpu_executor.cc:936] successful NUMA node read from SysFS had negative value (-1), but there must be at least one NUMA node, so returning NUMA node zero\n",
      "2022-04-01 16:52:21.029414: I tensorflow/core/common_runtime/gpu/gpu_device.cc:1525] Created device /job:localhost/replica:0/task:0/device:GPU:0 with 7163 MB memory:  -> device: 0, name: NVIDIA GeForce GTX 1070, pci bus id: 0000:01:00.0, compute capability: 6.1\n"
     ]
    }
   ],
   "source": [
    "model = tf.keras.Sequential([\n",
    "    tf.keras.layers.Embedding(\n",
    "        MAX_WORDS+1, MAX_SEQUENCE_LENGTH-1, input_length=MAX_SEQUENCE_LENGTH-1),\n",
    "    tf.keras.layers.LSTM(150),\n",
    "    tf.keras.layers.Dense(MAX_WORDS+1, activation='softmax')\n",
    "])\n",
    "model.compile(loss='sparse_categorical_crossentropy',\n",
    "              optimizer='adam', metrics=['sparse_categorical_accuracy'])"
   ]
  },
  {
   "cell_type": "markdown",
   "id": "7aa84d61",
   "metadata": {},
   "source": [
    "Create callbacks `EarlyStopping` which monitors `val_loss` for 10 epochs, and `ModelCheckpoint` which saves best model to `model_dir`."
   ]
  },
  {
   "cell_type": "code",
   "execution_count": 13,
   "id": "d3542bf6",
   "metadata": {},
   "outputs": [],
   "source": [
    "earlystop = tf.keras.callbacks.EarlyStopping(\n",
    "    monitor='val_loss', min_delta=0, patience=10, mode='auto')\n",
    "checkpoint = tf.keras.callbacks.ModelCheckpoint(\n",
    "    str(model_dir), monitor='val_loss', verbose=1, save_best_only=True, mode='min')"
   ]
  },
  {
   "cell_type": "markdown",
   "id": "274f83e5",
   "metadata": {},
   "source": [
    "Start training the model and store the training results in `history`. We are using a batch size of 1024 and using 20% of training data for validation. We are running the training for 50 epochs and using `EarlyStopping` and `ModelCheckpoint` callbacks."
   ]
  },
  {
   "cell_type": "code",
   "execution_count": 14,
   "id": "d748bffc",
   "metadata": {},
   "outputs": [
    {
     "name": "stdout",
     "output_type": "stream",
     "text": [
      "Epoch 1/50\n"
     ]
    },
    {
     "name": "stderr",
     "output_type": "stream",
     "text": [
      "2022-04-01 16:52:26.731994: W tensorflow/core/framework/cpu_allocator_impl.cc:82] Allocation of 1214496204 exceeds 10% of free system memory.\n",
      "2022-04-01 16:52:30.082326: I tensorflow/stream_executor/cuda/cuda_dnn.cc:368] Loaded cuDNN version 8303\n"
     ]
    },
    {
     "name": "stdout",
     "output_type": "stream",
     "text": [
      "1490/1490 [==============================] - ETA: 0s - loss: 7.4540 - sparse_categorical_accuracy: 0.0281\n",
      "Epoch 1: val_loss improved from inf to 7.39209, saving model to /home/shafquat/bangla-next-word-prediction/models/bn_lstm\n"
     ]
    },
    {
     "name": "stderr",
     "output_type": "stream",
     "text": [
      "2022-04-01 16:56:32.161887: W tensorflow/python/util/util.cc:368] Sets are not currently considered sequences, but this may change in the future, so consider avoiding using them.\n",
      "WARNING:absl:Found untraced functions such as lstm_cell_layer_call_fn, lstm_cell_layer_call_and_return_conditional_losses while saving (showing 2 of 2). These functions will not be directly callable after loading.\n"
     ]
    },
    {
     "name": "stdout",
     "output_type": "stream",
     "text": [
      "INFO:tensorflow:Assets written to: /home/shafquat/bangla-next-word-prediction/models/bn_lstm/assets\n"
     ]
    },
    {
     "name": "stderr",
     "output_type": "stream",
     "text": [
      "INFO:tensorflow:Assets written to: /home/shafquat/bangla-next-word-prediction/models/bn_lstm/assets\n",
      "WARNING:absl:<keras.layers.recurrent.LSTMCell object at 0x7f1117aee610> has the same name 'LSTMCell' as a built-in Keras object. Consider renaming <class 'keras.layers.recurrent.LSTMCell'> to avoid naming conflicts when loading with `tf.keras.models.load_model`. If renaming is not possible, pass the object in the `custom_objects` parameter of the load function.\n"
     ]
    },
    {
     "name": "stdout",
     "output_type": "stream",
     "text": [
      "1490/1490 [==============================] - 246s 163ms/step - loss: 7.4540 - sparse_categorical_accuracy: 0.0281 - val_loss: 7.3921 - val_sparse_categorical_accuracy: 0.0374\n",
      "Epoch 2/50\n",
      "1490/1490 [==============================] - ETA: 0s - loss: 6.8449 - sparse_categorical_accuracy: 0.0571\n",
      "Epoch 2: val_loss improved from 7.39209 to 7.08969, saving model to /home/shafquat/bangla-next-word-prediction/models/bn_lstm\n"
     ]
    },
    {
     "name": "stderr",
     "output_type": "stream",
     "text": [
      "WARNING:absl:Found untraced functions such as lstm_cell_layer_call_fn, lstm_cell_layer_call_and_return_conditional_losses while saving (showing 2 of 2). These functions will not be directly callable after loading.\n"
     ]
    },
    {
     "name": "stdout",
     "output_type": "stream",
     "text": [
      "INFO:tensorflow:Assets written to: /home/shafquat/bangla-next-word-prediction/models/bn_lstm/assets\n"
     ]
    },
    {
     "name": "stderr",
     "output_type": "stream",
     "text": [
      "INFO:tensorflow:Assets written to: /home/shafquat/bangla-next-word-prediction/models/bn_lstm/assets\n",
      "WARNING:absl:<keras.layers.recurrent.LSTMCell object at 0x7f1117aee610> has the same name 'LSTMCell' as a built-in Keras object. Consider renaming <class 'keras.layers.recurrent.LSTMCell'> to avoid naming conflicts when loading with `tf.keras.models.load_model`. If renaming is not possible, pass the object in the `custom_objects` parameter of the load function.\n"
     ]
    },
    {
     "name": "stdout",
     "output_type": "stream",
     "text": [
      "1490/1490 [==============================] - 240s 161ms/step - loss: 6.8449 - sparse_categorical_accuracy: 0.0571 - val_loss: 7.0897 - val_sparse_categorical_accuracy: 0.0545\n",
      "Epoch 3/50\n",
      "1490/1490 [==============================] - ETA: 0s - loss: 6.5274 - sparse_categorical_accuracy: 0.0728\n",
      "Epoch 3: val_loss improved from 7.08969 to 6.96934, saving model to /home/shafquat/bangla-next-word-prediction/models/bn_lstm\n"
     ]
    },
    {
     "name": "stderr",
     "output_type": "stream",
     "text": [
      "WARNING:absl:Found untraced functions such as lstm_cell_layer_call_fn, lstm_cell_layer_call_and_return_conditional_losses while saving (showing 2 of 2). These functions will not be directly callable after loading.\n"
     ]
    },
    {
     "name": "stdout",
     "output_type": "stream",
     "text": [
      "INFO:tensorflow:Assets written to: /home/shafquat/bangla-next-word-prediction/models/bn_lstm/assets\n"
     ]
    },
    {
     "name": "stderr",
     "output_type": "stream",
     "text": [
      "INFO:tensorflow:Assets written to: /home/shafquat/bangla-next-word-prediction/models/bn_lstm/assets\n",
      "WARNING:absl:<keras.layers.recurrent.LSTMCell object at 0x7f1117aee610> has the same name 'LSTMCell' as a built-in Keras object. Consider renaming <class 'keras.layers.recurrent.LSTMCell'> to avoid naming conflicts when loading with `tf.keras.models.load_model`. If renaming is not possible, pass the object in the `custom_objects` parameter of the load function.\n"
     ]
    },
    {
     "name": "stdout",
     "output_type": "stream",
     "text": [
      "1490/1490 [==============================] - 239s 160ms/step - loss: 6.5274 - sparse_categorical_accuracy: 0.0728 - val_loss: 6.9693 - val_sparse_categorical_accuracy: 0.0616\n",
      "Epoch 4/50\n",
      "1490/1490 [==============================] - ETA: 0s - loss: 6.3302 - sparse_categorical_accuracy: 0.0820\n",
      "Epoch 4: val_loss improved from 6.96934 to 6.89927, saving model to /home/shafquat/bangla-next-word-prediction/models/bn_lstm\n"
     ]
    },
    {
     "name": "stderr",
     "output_type": "stream",
     "text": [
      "WARNING:absl:Found untraced functions such as lstm_cell_layer_call_fn, lstm_cell_layer_call_and_return_conditional_losses while saving (showing 2 of 2). These functions will not be directly callable after loading.\n"
     ]
    },
    {
     "name": "stdout",
     "output_type": "stream",
     "text": [
      "INFO:tensorflow:Assets written to: /home/shafquat/bangla-next-word-prediction/models/bn_lstm/assets\n"
     ]
    },
    {
     "name": "stderr",
     "output_type": "stream",
     "text": [
      "INFO:tensorflow:Assets written to: /home/shafquat/bangla-next-word-prediction/models/bn_lstm/assets\n",
      "WARNING:absl:<keras.layers.recurrent.LSTMCell object at 0x7f1117aee610> has the same name 'LSTMCell' as a built-in Keras object. Consider renaming <class 'keras.layers.recurrent.LSTMCell'> to avoid naming conflicts when loading with `tf.keras.models.load_model`. If renaming is not possible, pass the object in the `custom_objects` parameter of the load function.\n"
     ]
    },
    {
     "name": "stdout",
     "output_type": "stream",
     "text": [
      "1490/1490 [==============================] - 238s 160ms/step - loss: 6.3302 - sparse_categorical_accuracy: 0.0820 - val_loss: 6.8993 - val_sparse_categorical_accuracy: 0.0648\n",
      "Epoch 5/50\n",
      "1490/1490 [==============================] - ETA: 0s - loss: 6.1809 - sparse_categorical_accuracy: 0.0885\n",
      "Epoch 5: val_loss improved from 6.89927 to 6.88134, saving model to /home/shafquat/bangla-next-word-prediction/models/bn_lstm\n"
     ]
    },
    {
     "name": "stderr",
     "output_type": "stream",
     "text": [
      "WARNING:absl:Found untraced functions such as lstm_cell_layer_call_fn, lstm_cell_layer_call_and_return_conditional_losses while saving (showing 2 of 2). These functions will not be directly callable after loading.\n"
     ]
    },
    {
     "name": "stdout",
     "output_type": "stream",
     "text": [
      "INFO:tensorflow:Assets written to: /home/shafquat/bangla-next-word-prediction/models/bn_lstm/assets\n"
     ]
    },
    {
     "name": "stderr",
     "output_type": "stream",
     "text": [
      "INFO:tensorflow:Assets written to: /home/shafquat/bangla-next-word-prediction/models/bn_lstm/assets\n",
      "WARNING:absl:<keras.layers.recurrent.LSTMCell object at 0x7f1117aee610> has the same name 'LSTMCell' as a built-in Keras object. Consider renaming <class 'keras.layers.recurrent.LSTMCell'> to avoid naming conflicts when loading with `tf.keras.models.load_model`. If renaming is not possible, pass the object in the `custom_objects` parameter of the load function.\n"
     ]
    },
    {
     "name": "stdout",
     "output_type": "stream",
     "text": [
      "1490/1490 [==============================] - 238s 160ms/step - loss: 6.1809 - sparse_categorical_accuracy: 0.0885 - val_loss: 6.8813 - val_sparse_categorical_accuracy: 0.0669\n",
      "Epoch 6/50\n",
      "1490/1490 [==============================] - ETA: 0s - loss: 6.0596 - sparse_categorical_accuracy: 0.0944\n",
      "Epoch 6: val_loss improved from 6.88134 to 6.86047, saving model to /home/shafquat/bangla-next-word-prediction/models/bn_lstm\n"
     ]
    },
    {
     "name": "stderr",
     "output_type": "stream",
     "text": [
      "WARNING:absl:Found untraced functions such as lstm_cell_layer_call_fn, lstm_cell_layer_call_and_return_conditional_losses while saving (showing 2 of 2). These functions will not be directly callable after loading.\n"
     ]
    },
    {
     "name": "stdout",
     "output_type": "stream",
     "text": [
      "INFO:tensorflow:Assets written to: /home/shafquat/bangla-next-word-prediction/models/bn_lstm/assets\n"
     ]
    },
    {
     "name": "stderr",
     "output_type": "stream",
     "text": [
      "INFO:tensorflow:Assets written to: /home/shafquat/bangla-next-word-prediction/models/bn_lstm/assets\n",
      "WARNING:absl:<keras.layers.recurrent.LSTMCell object at 0x7f1117aee610> has the same name 'LSTMCell' as a built-in Keras object. Consider renaming <class 'keras.layers.recurrent.LSTMCell'> to avoid naming conflicts when loading with `tf.keras.models.load_model`. If renaming is not possible, pass the object in the `custom_objects` parameter of the load function.\n"
     ]
    },
    {
     "name": "stdout",
     "output_type": "stream",
     "text": [
      "1490/1490 [==============================] - 238s 160ms/step - loss: 6.0596 - sparse_categorical_accuracy: 0.0944 - val_loss: 6.8605 - val_sparse_categorical_accuracy: 0.0681\n",
      "Epoch 7/50\n",
      "1490/1490 [==============================] - ETA: 0s - loss: 5.9559 - sparse_categorical_accuracy: 0.0993\n",
      "Epoch 7: val_loss did not improve from 6.86047\n",
      "1490/1490 [==============================] - 237s 159ms/step - loss: 5.9559 - sparse_categorical_accuracy: 0.0993 - val_loss: 6.8661 - val_sparse_categorical_accuracy: 0.0696\n",
      "Epoch 8/50\n",
      "1490/1490 [==============================] - ETA: 0s - loss: 5.8644 - sparse_categorical_accuracy: 0.1043\n",
      "Epoch 8: val_loss did not improve from 6.86047\n",
      "1490/1490 [==============================] - 237s 159ms/step - loss: 5.8644 - sparse_categorical_accuracy: 0.1043 - val_loss: 6.8823 - val_sparse_categorical_accuracy: 0.0699\n",
      "Epoch 9/50\n",
      "1490/1490 [==============================] - ETA: 0s - loss: 5.7828 - sparse_categorical_accuracy: 0.1088\n",
      "Epoch 9: val_loss did not improve from 6.86047\n",
      "1490/1490 [==============================] - 236s 158ms/step - loss: 5.7828 - sparse_categorical_accuracy: 0.1088 - val_loss: 6.8993 - val_sparse_categorical_accuracy: 0.0701\n",
      "Epoch 10/50\n",
      "1490/1490 [==============================] - ETA: 0s - loss: 5.7086 - sparse_categorical_accuracy: 0.1133\n",
      "Epoch 10: val_loss did not improve from 6.86047\n",
      "1490/1490 [==============================] - 236s 158ms/step - loss: 5.7086 - sparse_categorical_accuracy: 0.1133 - val_loss: 6.9235 - val_sparse_categorical_accuracy: 0.0702\n",
      "Epoch 11/50\n",
      "1490/1490 [==============================] - ETA: 0s - loss: 5.6407 - sparse_categorical_accuracy: 0.1176\n",
      "Epoch 11: val_loss did not improve from 6.86047\n",
      "1490/1490 [==============================] - 236s 158ms/step - loss: 5.6407 - sparse_categorical_accuracy: 0.1176 - val_loss: 6.9544 - val_sparse_categorical_accuracy: 0.0709\n",
      "Epoch 12/50\n",
      "1490/1490 [==============================] - ETA: 0s - loss: 5.5770 - sparse_categorical_accuracy: 0.1218\n",
      "Epoch 12: val_loss did not improve from 6.86047\n",
      "1490/1490 [==============================] - 237s 159ms/step - loss: 5.5770 - sparse_categorical_accuracy: 0.1218 - val_loss: 6.9921 - val_sparse_categorical_accuracy: 0.0702\n",
      "Epoch 13/50\n",
      "1490/1490 [==============================] - ETA: 0s - loss: 5.5179 - sparse_categorical_accuracy: 0.1260\n",
      "Epoch 13: val_loss did not improve from 6.86047\n",
      "1490/1490 [==============================] - 237s 159ms/step - loss: 5.5179 - sparse_categorical_accuracy: 0.1260 - val_loss: 7.0349 - val_sparse_categorical_accuracy: 0.0696\n",
      "Epoch 14/50\n",
      "1490/1490 [==============================] - ETA: 0s - loss: 5.4622 - sparse_categorical_accuracy: 0.1302\n",
      "Epoch 14: val_loss did not improve from 6.86047\n",
      "1490/1490 [==============================] - 237s 159ms/step - loss: 5.4622 - sparse_categorical_accuracy: 0.1302 - val_loss: 7.0711 - val_sparse_categorical_accuracy: 0.0691\n",
      "Epoch 15/50\n",
      "1490/1490 [==============================] - ETA: 0s - loss: 5.4094 - sparse_categorical_accuracy: 0.1344\n",
      "Epoch 15: val_loss did not improve from 6.86047\n",
      "1490/1490 [==============================] - 236s 159ms/step - loss: 5.4094 - sparse_categorical_accuracy: 0.1344 - val_loss: 7.1144 - val_sparse_categorical_accuracy: 0.0690\n",
      "Epoch 16/50\n",
      "1490/1490 [==============================] - ETA: 0s - loss: 5.3596 - sparse_categorical_accuracy: 0.1385\n",
      "Epoch 16: val_loss did not improve from 6.86047\n",
      "1490/1490 [==============================] - 236s 159ms/step - loss: 5.3596 - sparse_categorical_accuracy: 0.1385 - val_loss: 7.1523 - val_sparse_categorical_accuracy: 0.0683\n"
     ]
    }
   ],
   "source": [
    "history = model.fit(X_train, y_train, batch_size=1024,\n",
    "                    epochs=50, validation_split=0.2,\n",
    "                    callbacks=[earlystop, checkpoint])"
   ]
  },
  {
   "cell_type": "markdown",
   "id": "59998ebf",
   "metadata": {},
   "source": [
    "The training takes around 30 minutes. Save the `history` for later use."
   ]
  },
  {
   "cell_type": "code",
   "execution_count": 15,
   "id": "fdfc1fdc",
   "metadata": {},
   "outputs": [
    {
     "name": "stderr",
     "output_type": "stream",
     "text": [
      "WARNING:absl:Found untraced functions such as lstm_cell_layer_call_fn, lstm_cell_layer_call_and_return_conditional_losses while saving (showing 2 of 2). These functions will not be directly callable after loading.\n"
     ]
    },
    {
     "name": "stdout",
     "output_type": "stream",
     "text": [
      "INFO:tensorflow:Assets written to: ram://520b44ac-b7da-43fd-a4cb-2382c7f25da1/assets\n"
     ]
    },
    {
     "name": "stderr",
     "output_type": "stream",
     "text": [
      "INFO:tensorflow:Assets written to: ram://520b44ac-b7da-43fd-a4cb-2382c7f25da1/assets\n",
      "WARNING:absl:<keras.layers.recurrent.LSTMCell object at 0x7f1117aee610> has the same name 'LSTMCell' as a built-in Keras object. Consider renaming <class 'keras.layers.recurrent.LSTMCell'> to avoid naming conflicts when loading with `tf.keras.models.load_model`. If renaming is not possible, pass the object in the `custom_objects` parameter of the load function.\n"
     ]
    }
   ],
   "source": [
    "with open(str(model_dir / 'model_lstm_150_history'), 'wb') as history_pkl:\n",
    "    pickle.dump(history, history_pkl)"
   ]
  },
  {
   "cell_type": "markdown",
   "id": "0f549b3b",
   "metadata": {},
   "source": [
    "And save the `model` as well."
   ]
  },
  {
   "cell_type": "code",
   "execution_count": 16,
   "id": "30243c20",
   "metadata": {},
   "outputs": [
    {
     "name": "stderr",
     "output_type": "stream",
     "text": [
      "WARNING:absl:Found untraced functions such as lstm_cell_layer_call_fn, lstm_cell_layer_call_and_return_conditional_losses while saving (showing 2 of 2). These functions will not be directly callable after loading.\n"
     ]
    },
    {
     "name": "stdout",
     "output_type": "stream",
     "text": [
      "INFO:tensorflow:Assets written to: /home/shafquat/bangla-next-word-prediction/models/bn_lstm/assets\n"
     ]
    },
    {
     "name": "stderr",
     "output_type": "stream",
     "text": [
      "INFO:tensorflow:Assets written to: /home/shafquat/bangla-next-word-prediction/models/bn_lstm/assets\n",
      "WARNING:absl:<keras.layers.recurrent.LSTMCell object at 0x7f1117aee610> has the same name 'LSTMCell' as a built-in Keras object. Consider renaming <class 'keras.layers.recurrent.LSTMCell'> to avoid naming conflicts when loading with `tf.keras.models.load_model`. If renaming is not possible, pass the object in the `custom_objects` parameter of the load function.\n"
     ]
    }
   ],
   "source": [
    "model.save(str(model_dir))"
   ]
  },
  {
   "cell_type": "markdown",
   "id": "b81ac60d",
   "metadata": {},
   "source": [
    "Next, we plot the training accuracy and loss from `history.history`."
   ]
  },
  {
   "cell_type": "code",
   "execution_count": 17,
   "id": "30b23d93",
   "metadata": {},
   "outputs": [
    {
     "data": {
      "image/png": "[encoded data removed]",
      "text/plain": [
       "<Figure size 720x432 with 1 Axes>"
      ]
     },
     "metadata": {
      "needs_background": "light"
     },
     "output_type": "display_data"
    },
    {
     "data": {
      "image/png": "[encoded data removed]",
      "text/plain": [
       "<Figure size 720x432 with 1 Axes>"
      ]
     },
     "metadata": {
      "needs_background": "light"
     },
     "output_type": "display_data"
    }
   ],
   "source": [
    "fig = plt.figure(figsize=(10, 6))\n",
    "plt.plot(history.history['sparse_categorical_accuracy'], label='sparse_categorical_accuracy')\n",
    "plt.plot(history.history['val_sparse_categorical_accuracy'], label='val_sparse_categorical_accuracy')\n",
    "plt.xlabel('Epoch')\n",
    "plt.ylabel('Sparse Categorical Accuracy')\n",
    "plt.legend(loc='lower right')\n",
    "plt.show()\n",
    "fig.savefig(str(model_dir / f'sparse_categorical_accuracy.png'), dpi=fig.dpi)\n",
    "\n",
    "fig = plt.figure(figsize=(10, 6))\n",
    "plt.plot(history.history['loss'], label='loss')\n",
    "plt.plot(history.history['val_loss'], label='val_loss')\n",
    "plt.xlabel('Epoch')\n",
    "plt.ylabel('Loss')\n",
    "plt.legend(loc='lower right')\n",
    "plt.show()\n",
    "fig.savefig(str(model_dir / f'sparse_categorical_loss.png'), dpi=fig.dpi)"
   ]
  },
  {
   "cell_type": "markdown",
   "id": "196d566f",
   "metadata": {},
   "source": [
    "Finally we evaluate the model on test data with batch size of 1024"
   ]
  },
  {
   "cell_type": "code",
   "execution_count": 18,
   "id": "241c16c3",
   "metadata": {},
   "outputs": [
    {
     "name": "stdout",
     "output_type": "stream",
     "text": [
      "544/544 [==============================] - 31s 58ms/step - loss: 7.2226 - sparse_categorical_accuracy: 0.0692\n"
     ]
    },
    {
     "data": {
      "text/plain": [
       "[7.222592353820801, 0.06924054026603699]"
      ]
     },
     "execution_count": 18,
     "metadata": {},
     "output_type": "execute_result"
    }
   ],
   "source": [
    "model.evaluate(X_test, y_test, batch_size=1024)"
   ]
  },
  {
   "cell_type": "markdown",
   "id": "9bfae116",
   "metadata": {},
   "source": [
    "## Testing the model with actual data"
   ]
  },
  {
   "cell_type": "markdown",
   "id": "1414e337",
   "metadata": {},
   "source": [
    "`predict_next_words` function takes model, tokenizer and text as function argument and returns top 5 next words predicted by the model"
   ]
  },
  {
   "cell_type": "code",
   "execution_count": 123,
   "id": "c2c81ab3",
   "metadata": {},
   "outputs": [],
   "source": [
    "def predict_next_words(model, tokenizer, text):\n",
    "    # tokenize the text\n",
    "    tokenized_sequence = tokenizer.texts_to_sequences([text])\n",
    "    # pre-pad with 0's to make it of size MAX_SEQUENCE_LENGTH - 1\n",
    "    input_sequences = tf.keras.preprocessing.sequence.pad_sequences(tokenized_sequence,\n",
    "                                                                maxlen=MAX_SEQUENCE_LENGTH - 1,\n",
    "                                                                padding='pre')\n",
    "    # predict using model\n",
    "    predictions = model.predict(input_sequences)\n",
    "    ids = np.argsort(predictions, axis=1)[:,-5:] # indices of the top 5 predictions\n",
    "    # print next word with score\n",
    "    for id in ids[0]:\n",
    "        print(tokenizer.index_word[id], \"->\", predictions[:, id].squeeze())"
   ]
  },
  {
   "cell_type": "markdown",
   "id": "b1f5bb9d",
   "metadata": {},
   "source": [
    "Test for custom texts by calling the function"
   ]
  },
  {
   "cell_type": "code",
   "execution_count": 127,
   "id": "01f41d1f",
   "metadata": {},
   "outputs": [
    {
     "name": "stdout",
     "output_type": "stream",
     "text": [
      "Enter text:কেমন আছে\n",
      "সে -> 0.017110024\n",
      "কিন্তু -> 0.017308354\n",
      "তেমনই -> 0.023750454\n",
      "জানি -> 0.03365408\n",
      "তেমনি -> 0.05967974\n"
     ]
    }
   ],
   "source": [
    "text = input(\"Enter text: \")\n",
    "predict_next_words(model, tokenizer, text)"
   ]
  }
 ],
 "metadata": {
  "kernelspec": {
   "display_name": "Python 3 (ipykernel)",
   "language": "python",
   "name": "python3"
  },
  "language_info": {
   "codemirror_mode": {
    "name": "ipython",
    "version": 3
   },
   "file_extension": ".py",
   "mimetype": "text/x-python",
   "name": "python",
   "nbconvert_exporter": "python",
   "pygments_lexer": "ipython3",
   "version": "3.8.10"
  }
 },
 "nbformat": 4,
 "nbformat_minor": 5
}
