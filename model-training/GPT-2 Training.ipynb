{
 "cells": [
  {
   "cell_type": "markdown",
   "id": "a2ce7731",
   "metadata": {},
   "source": [
    "# Training GPT-2 model on Bangla books"
   ]
  },
  {
   "cell_type": "markdown",
   "id": "35974f96",
   "metadata": {},
   "source": [
    "Necessary imports for the project"
   ]
  },
  {
   "cell_type": "code",
   "execution_count": 1,
   "id": "5765a509",
   "metadata": {},
   "outputs": [],
   "source": [
    "import matplotlib.pyplot as plt\n",
    "import numpy as np\n",
    "import os\n",
    "from pathlib import Path\n",
    "import pickle\n",
    "import random\n",
    "import tensorflow as tf\n",
    "from transformers import AutoTokenizer, TFGPT2LMHeadModel\n",
    "from transformers import WEIGHTS_NAME, CONFIG_NAME\n",
    "from tqdm import tqdm"
   ]
  },
  {
   "cell_type": "markdown",
   "id": "0383c3e0",
   "metadata": {},
   "source": [
    "## Preparing dataset\n",
    "Initialize the project root, data, and model directories. `processed_data` directory contains selected books from renowned authors only."
   ]
  },
  {
   "cell_type": "code",
   "execution_count": 2,
   "id": "04518bdc",
   "metadata": {},
   "outputs": [],
   "source": [
    "# get data and model directories\n",
    "project_root = Path('__file__').resolve().parents[1]\n",
    "data_dir = project_root / 'processed_data/'\n",
    "model_dir = project_root / 'models/bn_gpt2'\n",
    "os.makedirs(model_dir, exist_ok=True) # Create if does not exist"
   ]
  },
  {
   "cell_type": "markdown",
   "id": "82779262",
   "metadata": {},
   "source": [
    "Get list of files in the data directory"
   ]
  },
  {
   "cell_type": "code",
   "execution_count": 3,
   "id": "3fef3ebe",
   "metadata": {},
   "outputs": [],
   "source": [
    "filenames = [str(file) for file in Path(data_dir).glob('**/*.txt')]"
   ]
  },
  {
   "cell_type": "markdown",
   "id": "3a375843",
   "metadata": {},
   "source": [
    "Then we randomly shuffle the filenames list and select 100 files."
   ]
  },
  {
   "cell_type": "code",
   "execution_count": 4,
   "id": "b1f03d8a",
   "metadata": {},
   "outputs": [],
   "source": [
    "random.shuffle(filenames)\n",
    "filenames = filenames[:100]"
   ]
  },
  {
   "cell_type": "markdown",
   "id": "90fd19fd",
   "metadata": {},
   "source": [
    "`create_dataset` creates inputs and labels dataset of `max_sequence_length - 1` from a list of files using `tokenizer`."
   ]
  },
  {
   "cell_type": "code",
   "execution_count": 22,
   "id": "84f61d16",
   "metadata": {},
   "outputs": [],
   "source": [
    "def create_dataset(tokenizer, filenames, max_sequence_length):\n",
    "    # create inputs and labels\n",
    "    inputs = []\n",
    "    labels = []\n",
    "\n",
    "    for file in tqdm(filenames):\n",
    "        with open(file, 'r') as f:\n",
    "            for line in f:\n",
    "                string_tokenized = tokenizer.encode(line)\n",
    "                # create a list of block size tokens\n",
    "                examples = []\n",
    "                BATCH_SIZE = 12\n",
    "                BUFFER_SIZE = 1000\n",
    "                for i in range(0, len(string_tokenized) - max_sequence_length + 1, max_sequence_length):\n",
    "                    ex = string_tokenized[i:i + max_sequence_length]\n",
    "                    inputs.append(ex[:-1])\n",
    "                    labels.append(ex[1:])\n",
    "    dataset = tf.data.Dataset.from_tensor_slices((inputs, labels))\n",
    "    dataset = dataset.shuffle(BUFFER_SIZE).batch(BATCH_SIZE, drop_remainder=True)\n",
    "    return dataset"
   ]
  },
  {
   "cell_type": "markdown",
   "id": "e662c10e",
   "metadata": {},
   "source": [
    "Create a tokenizer from pretrained model and add special tokens for padding, beginning, and end of sentence."
   ]
  },
  {
   "cell_type": "code",
   "execution_count": 18,
   "id": "d8b72e67",
   "metadata": {},
   "outputs": [
    {
     "data": {
      "text/plain": [
       "3"
      ]
     },
     "execution_count": 18,
     "metadata": {},
     "output_type": "execute_result"
    }
   ],
   "source": [
    "tokenizer = AutoTokenizer.from_pretrained(\"flax-community/gpt2-bengali\")\n",
    "tokenizer.add_special_tokens(\n",
    "    {'pad_token': '<pad>', 'bos_token': '<s>', 'eos_token': '</s>'})"
   ]
  },
  {
   "cell_type": "markdown",
   "id": "fb0c1ba3",
   "metadata": {},
   "source": [
    "Now we call the `create_dataset` with `MAX_SEQUENCE_LENGTH` on the list of files and store in `full_dataset`."
   ]
  },
  {
   "cell_type": "code",
   "execution_count": 24,
   "id": "b6b920c4",
   "metadata": {},
   "outputs": [
    {
     "name": "stderr",
     "output_type": "stream",
     "text": [
      "100%|█████████████████████████████████████████| 100/100 [00:50<00:00,  1.98it/s]\n"
     ]
    }
   ],
   "source": [
    "MAX_SEQUENCE_LENGTH = 200\n",
    "full_dataset = create_dataset(tokenizer, filenames, MAX_SEQUENCE_LENGTH)"
   ]
  },
  {
   "cell_type": "code",
   "execution_count": 27,
   "id": "0672534d",
   "metadata": {},
   "outputs": [],
   "source": [
    "DATASET_SIZE = full_dataset.cardinality().numpy()"
   ]
  },
  {
   "cell_type": "markdown",
   "id": "a6246d72",
   "metadata": {},
   "source": [
    "Now we create training, validation and testing dataset from the full dataset with 70/15/15 split. We are following this [answer](https://stackoverflow.com/a/51258695/9495110) on Stack Overflow."
   ]
  },
  {
   "cell_type": "code",
   "execution_count": 29,
   "id": "0e2dcee0",
   "metadata": {},
   "outputs": [],
   "source": [
    "train_size = int(0.7 * DATASET_SIZE)\n",
    "val_size = int(0.15 * DATASET_SIZE)\n",
    "test_size = int(0.15 * DATASET_SIZE)\n",
    "\n",
    "train_dataset = full_dataset.take(train_size)\n",
    "test_dataset = full_dataset.skip(train_size)\n",
    "val_dataset = test_dataset.skip(val_size)\n",
    "test_dataset = test_dataset.take(test_size)"
   ]
  },
  {
   "cell_type": "markdown",
   "id": "766d4d52",
   "metadata": {},
   "source": [
    "## Creating Model"
   ]
  },
  {
   "cell_type": "markdown",
   "id": "41676607",
   "metadata": {},
   "source": [
    "Load pretrained GPT2 model and create model parameters: optimizer, loss and metrics"
   ]
  },
  {
   "cell_type": "code",
   "execution_count": 30,
   "id": "7f6fb7ab",
   "metadata": {},
   "outputs": [
    {
     "name": "stderr",
     "output_type": "stream",
     "text": [
      "Some weights of the PyTorch model were not used when initializing the TF 2.0 model TFGPT2LMHeadModel: ['transformer.h.3.attn.masked_bias', 'transformer.h.10.attn.masked_bias', 'transformer.h.8.attn.masked_bias', 'transformer.h.2.attn.masked_bias', 'transformer.h.9.attn.masked_bias', 'transformer.h.11.attn.masked_bias', 'transformer.h.4.attn.masked_bias', 'transformer.h.5.attn.masked_bias', 'transformer.h.0.attn.masked_bias', 'transformer.h.7.attn.masked_bias', 'transformer.h.6.attn.masked_bias', 'lm_head.weight', 'transformer.h.1.attn.masked_bias']\n",
      "- This IS expected if you are initializing TFGPT2LMHeadModel from a PyTorch model trained on another task or with another architecture (e.g. initializing a TFBertForSequenceClassification model from a BertForPreTraining model).\n",
      "- This IS NOT expected if you are initializing TFGPT2LMHeadModel from a PyTorch model that you expect to be exactly identical (e.g. initializing a TFBertForSequenceClassification model from a BertForSequenceClassification model).\n",
      "All the weights of TFGPT2LMHeadModel were initialized from the PyTorch model.\n",
      "If your task is similar to the task the model of the checkpoint was trained on, you can already use TFGPT2LMHeadModel for predictions without further training.\n"
     ]
    }
   ],
   "source": [
    "model = TFGPT2LMHeadModel.from_pretrained('flax-community/gpt2-bengali', from_pt=True)\n",
    "# create model parameters\n",
    "adam = tf.keras.optimizers.Adam(learning_rate=0.001)\n",
    "# definining our loss function\n",
    "loss = tf.keras.losses.SparseCategoricalCrossentropy(from_logits=True)\n",
    "# defining our metric which we want to observe\n",
    "metric = tf.keras.metrics.SparseCategoricalAccuracy('accuracy')\n",
    "model.compile(loss=[loss, *[None] * model.config.n_layer], optimizer=adam, metrics=[metric])"
   ]
  },
  {
   "cell_type": "markdown",
   "id": "36aca902",
   "metadata": {},
   "source": [
    "Create a checkpoint to save the best model that has the lowest loss."
   ]
  },
  {
   "cell_type": "code",
   "execution_count": 31,
   "id": "34b0056e",
   "metadata": {},
   "outputs": [],
   "source": [
    "checkpoint = tf.keras.callbacks.ModelCheckpoint(str(model_dir),\n",
    "                                                monitor='loss',\n",
    "                                                verbose=1,\n",
    "                                                save_best_only=True,\n",
    "                                                mode='min')"
   ]
  },
  {
   "cell_type": "markdown",
   "id": "1014abb8",
   "metadata": {},
   "source": [
    "Train on `train_dataset` for some epochs."
   ]
  },
  {
   "cell_type": "code",
   "execution_count": 32,
   "id": "19aeda02",
   "metadata": {},
   "outputs": [
    {
     "name": "stdout",
     "output_type": "stream",
     "text": [
      "Epoch 1/3\n",
      "3105/3105 [==============================] - ETA: 0s - loss: 1.5953 - logits_loss: 1.5953 - logits_accuracy: 0.6092 - past_key_values_1_accuracy: 1.3935e-04 - past_key_values_2_accuracy: 1.3146e-04 - past_key_values_3_accuracy: 2.2674e-05 - past_key_values_4_accuracy: 2.4731e-04 - past_key_values_5_accuracy: 1.6256e-04 - past_key_values_6_accuracy: 2.4474e-04 - past_key_values_7_accuracy: 1.2571e-04 - past_key_values_8_accuracy: 1.4062e-04 - past_key_values_9_accuracy: 1.0640e-04 - past_key_values_10_accuracy: 3.5148e-04 - past_key_values_11_accuracy: 1.0377e-04 - past_key_values_12_accuracy: 1.5283e-04\n",
      "Epoch 1: loss improved from inf to 1.59535, saving model to /home/shafquat/bangla-next-word-prediction/models/bn_gpt2\n"
     ]
    },
    {
     "name": "stderr",
     "output_type": "stream",
     "text": [
      "WARNING:absl:Found untraced functions such as wte_layer_call_fn, wte_layer_call_and_return_conditional_losses, dropout_37_layer_call_fn, dropout_37_layer_call_and_return_conditional_losses, ln_f_layer_call_fn while saving (showing 5 of 294). These functions will not be directly callable after loading.\n"
     ]
    },
    {
     "name": "stdout",
     "output_type": "stream",
     "text": [
      "INFO:tensorflow:Assets written to: /home/shafquat/bangla-next-word-prediction/models/bn_gpt2/assets\n"
     ]
    },
    {
     "name": "stderr",
     "output_type": "stream",
     "text": [
      "INFO:tensorflow:Assets written to: /home/shafquat/bangla-next-word-prediction/models/bn_gpt2/assets\n"
     ]
    },
    {
     "name": "stdout",
     "output_type": "stream",
     "text": [
      "3105/3105 [==============================] - 2222s 714ms/step - loss: 1.5953 - logits_loss: 1.5953 - logits_accuracy: 0.6092 - past_key_values_1_accuracy: 1.3935e-04 - past_key_values_2_accuracy: 1.3146e-04 - past_key_values_3_accuracy: 2.2674e-05 - past_key_values_4_accuracy: 2.4731e-04 - past_key_values_5_accuracy: 1.6256e-04 - past_key_values_6_accuracy: 2.4474e-04 - past_key_values_7_accuracy: 1.2571e-04 - past_key_values_8_accuracy: 1.4062e-04 - past_key_values_9_accuracy: 1.0640e-04 - past_key_values_10_accuracy: 3.5148e-04 - past_key_values_11_accuracy: 1.0377e-04 - past_key_values_12_accuracy: 1.5283e-04 - val_loss: 1.9056 - val_logits_loss: 1.9056 - val_logits_accuracy: 0.5449 - val_past_key_values_1_accuracy: 1.3228e-04 - val_past_key_values_2_accuracy: 1.3133e-04 - val_past_key_values_3_accuracy: 1.6584e-05 - val_past_key_values_4_accuracy: 2.0935e-04 - val_past_key_values_5_accuracy: 1.7000e-04 - val_past_key_values_6_accuracy: 2.5062e-04 - val_past_key_values_7_accuracy: 1.1640e-04 - val_past_key_values_8_accuracy: 1.4037e-04 - val_past_key_values_9_accuracy: 9.8350e-05 - val_past_key_values_10_accuracy: 3.4569e-04 - val_past_key_values_11_accuracy: 9.7145e-05 - val_past_key_values_12_accuracy: 1.3791e-04\n",
      "Epoch 2/3\n",
      "3105/3105 [==============================] - ETA: 0s - loss: 1.4321 - logits_loss: 1.4321 - logits_accuracy: 0.6404 - past_key_values_1_accuracy: 1.3435e-04 - past_key_values_2_accuracy: 1.3543e-04 - past_key_values_3_accuracy: 2.2731e-05 - past_key_values_4_accuracy: 2.2126e-04 - past_key_values_5_accuracy: 1.6917e-04 - past_key_values_6_accuracy: 2.6126e-04 - past_key_values_7_accuracy: 1.3451e-04 - past_key_values_8_accuracy: 1.4185e-04 - past_key_values_9_accuracy: 1.1189e-04 - past_key_values_10_accuracy: 3.2658e-04 - past_key_values_11_accuracy: 1.0359e-04 - past_key_values_12_accuracy: 1.7130e-04\n",
      "Epoch 2: loss improved from 1.59535 to 1.43213, saving model to /home/shafquat/bangla-next-word-prediction/models/bn_gpt2\n"
     ]
    },
    {
     "name": "stderr",
     "output_type": "stream",
     "text": [
      "WARNING:absl:Found untraced functions such as wte_layer_call_fn, wte_layer_call_and_return_conditional_losses, dropout_37_layer_call_fn, dropout_37_layer_call_and_return_conditional_losses, ln_f_layer_call_fn while saving (showing 5 of 294). These functions will not be directly callable after loading.\n"
     ]
    },
    {
     "name": "stdout",
     "output_type": "stream",
     "text": [
      "INFO:tensorflow:Assets written to: /home/shafquat/bangla-next-word-prediction/models/bn_gpt2/assets\n"
     ]
    },
    {
     "name": "stderr",
     "output_type": "stream",
     "text": [
      "INFO:tensorflow:Assets written to: /home/shafquat/bangla-next-word-prediction/models/bn_gpt2/assets\n"
     ]
    },
    {
     "name": "stdout",
     "output_type": "stream",
     "text": [
      "3105/3105 [==============================] - 2194s 707ms/step - loss: 1.4321 - logits_loss: 1.4321 - logits_accuracy: 0.6404 - past_key_values_1_accuracy: 1.3435e-04 - past_key_values_2_accuracy: 1.3543e-04 - past_key_values_3_accuracy: 2.2731e-05 - past_key_values_4_accuracy: 2.2126e-04 - past_key_values_5_accuracy: 1.6917e-04 - past_key_values_6_accuracy: 2.6126e-04 - past_key_values_7_accuracy: 1.3451e-04 - past_key_values_8_accuracy: 1.4185e-04 - past_key_values_9_accuracy: 1.1189e-04 - past_key_values_10_accuracy: 3.2658e-04 - past_key_values_11_accuracy: 1.0359e-04 - past_key_values_12_accuracy: 1.7130e-04 - val_loss: 1.8989 - val_logits_loss: 1.8989 - val_logits_accuracy: 0.5470 - val_past_key_values_1_accuracy: 1.3754e-04 - val_past_key_values_2_accuracy: 1.3822e-04 - val_past_key_values_3_accuracy: 1.8365e-05 - val_past_key_values_4_accuracy: 2.0697e-04 - val_past_key_values_5_accuracy: 1.6204e-04 - val_past_key_values_6_accuracy: 2.8363e-04 - val_past_key_values_7_accuracy: 1.3775e-04 - val_past_key_values_8_accuracy: 1.3141e-04 - val_past_key_values_9_accuracy: 1.0590e-04 - val_past_key_values_10_accuracy: 3.2738e-04 - val_past_key_values_11_accuracy: 9.9346e-05 - val_past_key_values_12_accuracy: 1.3694e-04\n",
      "Epoch 3/3\n",
      "3105/3105 [==============================] - ETA: 0s - loss: 1.2873 - logits_loss: 1.2873 - logits_accuracy: 0.6702 - past_key_values_1_accuracy: 1.3276e-04 - past_key_values_2_accuracy: 1.3582e-04 - past_key_values_3_accuracy: 2.3096e-05 - past_key_values_4_accuracy: 2.1047e-04 - past_key_values_5_accuracy: 1.6842e-04 - past_key_values_6_accuracy: 2.5936e-04 - past_key_values_7_accuracy: 1.3645e-04 - past_key_values_8_accuracy: 1.4026e-04 - past_key_values_9_accuracy: 1.1334e-04 - past_key_values_10_accuracy: 3.2078e-04 - past_key_values_11_accuracy: 1.0936e-04 - past_key_values_12_accuracy: 1.7006e-04\n",
      "Epoch 3: loss improved from 1.43213 to 1.28734, saving model to /home/shafquat/bangla-next-word-prediction/models/bn_gpt2\n"
     ]
    },
    {
     "name": "stderr",
     "output_type": "stream",
     "text": [
      "WARNING:absl:Found untraced functions such as wte_layer_call_fn, wte_layer_call_and_return_conditional_losses, dropout_37_layer_call_fn, dropout_37_layer_call_and_return_conditional_losses, ln_f_layer_call_fn while saving (showing 5 of 294). These functions will not be directly callable after loading.\n"
     ]
    },
    {
     "name": "stdout",
     "output_type": "stream",
     "text": [
      "INFO:tensorflow:Assets written to: /home/shafquat/bangla-next-word-prediction/models/bn_gpt2/assets\n"
     ]
    },
    {
     "name": "stderr",
     "output_type": "stream",
     "text": [
      "INFO:tensorflow:Assets written to: /home/shafquat/bangla-next-word-prediction/models/bn_gpt2/assets\n"
     ]
    },
    {
     "name": "stdout",
     "output_type": "stream",
     "text": [
      "\b\b\b\b\b\b\b\b\b\b\b\b\b\b\b\b\b\b\b\b\b\b\b\b\b\b\b\b\b\b\b\b\b\b\b\b\b\b\b\b\b\b\b\b\b\b\b\b\b\b\b\b\b\b\b\b\b\b\b\b\b\b\b\b\b\b\b\b\b\b\b\b\b\b\b\b\b\b\b\b\b\b\b\b\b\b\b\b\b\b\b\b\b\b\b\b\b\b\b\b\b\b\b\b\b\b\b\b\b\b\b\b\b\b\b\b\b\b\b\b\b\b\b\b\b\b\b\b\b\b\b\b\b\b\b\b\b\b\b\b\b\b\b\b\b\b\b\b\b\b\b\b\b\b\b\b\b\b\b\b\b\b\b\b\b\b\b\b\b\b\b\b\b\b\b\b\b\b\b\b\b\b\b\b\b\b\b\b\b\b\b\b\b\b\b\b\b\b\b\b\b\b\b\b\b\b\b\b\b\b\b\b\b\b\b\b\b\b\b\b\b\b\b\b\b\b\b\b\b\b\b\b\b\b\b\b\b\b\b\b\b\b\b\b\b\b\b\b\b\b\b\b\b\b\b\b\b\b\b\b\b\b\b\b\b\b\b\b\b\b\b\b\b\b\b\b\b\b\b\b\b\b\b\b\b\b\b\b\b\b\b\b\b\b\b\b\b\b\b\b\b\b\b\b\b\b\b\b\b\b\b\b\b\b\b\b\b\b\b\b\b\b\b\b\b\b\b\b\b\b\b\b\b\b\b\b\b\b\b\b\b\b\b\b\b\b\b\b\b\b\b\b\b\b\b\b\b\b\b\b\b\b\b\b\b\b\b\b\b\b\b\b\b\b\b\b\b\b\b\b\b\b\b\b\b\b\b\b\b\b\b\b\b\b\b\b\b\b\b\b\b\b\b\b\b\b\b\b\b\b\b\b\b\b\b\b\b\b\b\b\b\b\b\b\b\b\b\b\b\b\b\b\b\b\b\b\b\b\b\b\b\b\b\b\b\b\b\b\b\b\b\b\b\b\b\b\b\b\b\b\b\b\b\b\b\b\b\b\b\b\b\b\b\b\b\b\b\b\b\b\b\b\b\b\b\b\b\b\b\b\b\b\b\b\b\b\b\b\b\b\b\b\b\b\b\b\b\b\b\b\b\b\b\b\b\b\b\b\b\b\b\b\b\b\b\b\b\b\b\b\b\b\b\b\b\b\b\b\b\b\b\b\b\b\b\b\b\b\b\b\b\b\b\b\b\b\b\b\b\b\b\b\b\b\b\b\b\b\b\b\b\b\b\b\b\b\b\b\b\b\b\b\b\b\b\b\b\b\b\b\b\b\b\b\b\b\b\b\b\b\b\b\b\b\b\b\b\b\b\b\r",
      "3105/3105 [==============================] - 2188s 705ms/step - loss: 1.2873 - logits_loss: 1.2873 - logits_accuracy: 0.6702 - past_key_values_1_accuracy: 1.3276e-04 - past_key_values_2_accuracy: 1.3582e-04 - past_key_values_3_accuracy: 2.3096e-05 - past_key_values_4_accuracy: 2.1047e-04 - past_key_values_5_accuracy: 1.6842e-04 - past_key_values_6_accuracy: 2.5936e-04 - past_key_values_7_accuracy: 1.3645e-04 - past_key_values_8_accuracy: 1.4026e-04 - past_key_values_9_accuracy: 1.1334e-04 - past_key_values_10_accuracy: 3.2078e-04 - past_key_values_11_accuracy: 1.0936e-04 - past_key_values_12_accuracy: 1.7006e-04 - val_loss: 1.9300 - val_logits_loss: 1.9300 - val_logits_accuracy: 0.5458 - val_past_key_values_1_accuracy: 1.3170e-04 - val_past_key_values_2_accuracy: 1.3173e-04 - val_past_key_values_3_accuracy: 1.9859e-05 - val_past_key_values_4_accuracy: 2.0254e-04 - val_past_key_values_5_accuracy: 1.7351e-04 - val_past_key_values_6_accuracy: 2.8020e-04 - val_past_key_values_7_accuracy: 1.2816e-04 - val_past_key_values_8_accuracy: 1.4223e-04 - val_past_key_values_9_accuracy: 1.1488e-04 - val_past_key_values_10_accuracy: 3.1784e-04 - val_past_key_values_11_accuracy: 1.0121e-04 - val_past_key_values_12_accuracy: 1.3566e-04\n"
     ]
    }
   ],
   "source": [
    "history = model.fit(train_dataset, validation_data=val_dataset,\n",
    "                    epochs=3, batch_size=64, callbacks=[checkpoint])"
   ]
  },
  {
   "cell_type": "markdown",
   "id": "ea11d63d",
   "metadata": {},
   "source": [
    "Training each epoch took around 30 minutes. Now we save the history for later use."
   ]
  },
  {
   "cell_type": "code",
   "execution_count": 33,
   "id": "92eda952",
   "metadata": {},
   "outputs": [
    {
     "name": "stderr",
     "output_type": "stream",
     "text": [
      "WARNING:absl:Found untraced functions such as wte_layer_call_fn, wte_layer_call_and_return_conditional_losses, dropout_37_layer_call_fn, dropout_37_layer_call_and_return_conditional_losses, ln_f_layer_call_fn while saving (showing 5 of 294). These functions will not be directly callable after loading.\n"
     ]
    },
    {
     "name": "stdout",
     "output_type": "stream",
     "text": [
      "INFO:tensorflow:Assets written to: ram://cfafe805-3fc2-407f-b2c4-83abf83d062b/assets\n"
     ]
    },
    {
     "name": "stderr",
     "output_type": "stream",
     "text": [
      "INFO:tensorflow:Assets written to: ram://cfafe805-3fc2-407f-b2c4-83abf83d062b/assets\n"
     ]
    }
   ],
   "source": [
    "with open(str(model_dir / 'history'), 'wb') as file_pi:\n",
    "    pickle.dump(history, file_pi)"
   ]
  },
  {
   "cell_type": "markdown",
   "id": "5b5c18eb",
   "metadata": {},
   "source": [
    "And also save the model and tokenizer."
   ]
  },
  {
   "cell_type": "code",
   "execution_count": 34,
   "id": "7931e775",
   "metadata": {},
   "outputs": [
    {
     "data": {
      "text/plain": [
       "('/home/shafquat/bangla-next-word-prediction/models/bn_gpt2/tokenizer_config.json',\n",
       " '/home/shafquat/bangla-next-word-prediction/models/bn_gpt2/special_tokens_map.json',\n",
       " '/home/shafquat/bangla-next-word-prediction/models/bn_gpt2/vocab.json',\n",
       " '/home/shafquat/bangla-next-word-prediction/models/bn_gpt2/merges.txt',\n",
       " '/home/shafquat/bangla-next-word-prediction/models/bn_gpt2/added_tokens.json',\n",
       " '/home/shafquat/bangla-next-word-prediction/models/bn_gpt2/tokenizer.json')"
      ]
     },
     "execution_count": 34,
     "metadata": {},
     "output_type": "execute_result"
    }
   ],
   "source": [
    "model_to_save = model.module if hasattr(model, 'module') else model\n",
    "output_model_file = os.path.join(model_dir, WEIGHTS_NAME)\n",
    "output_config_file = os.path.join(model_dir, CONFIG_NAME)\n",
    "# save model and model configs\n",
    "model.save_pretrained(model_dir)\n",
    "model_to_save.config.to_json_file(output_config_file)\n",
    "# save tokenizer\n",
    "tokenizer.save_pretrained(model_dir)"
   ]
  },
  {
   "cell_type": "markdown",
   "id": "12ae5227",
   "metadata": {},
   "source": [
    "Finally we evaluate the model on `test_dataset`"
   ]
  },
  {
   "cell_type": "code",
   "execution_count": 35,
   "id": "3d7d774d",
   "metadata": {},
   "outputs": [
    {
     "name": "stdout",
     "output_type": "stream",
     "text": [
      "665/665 [==============================] - 176s 264ms/step - loss: 1.7481 - logits_loss: 1.7481 - logits_accuracy: 0.5847 - past_key_values_1_accuracy: 1.2977e-04 - past_key_values_2_accuracy: 1.2350e-04 - past_key_values_3_accuracy: 1.7317e-05 - past_key_values_4_accuracy: 2.0151e-04 - past_key_values_5_accuracy: 1.6520e-04 - past_key_values_6_accuracy: 2.7618e-04 - past_key_values_7_accuracy: 1.1983e-04 - past_key_values_8_accuracy: 1.4176e-04 - past_key_values_9_accuracy: 1.1251e-04 - past_key_values_10_accuracy: 3.2194e-04 - past_key_values_11_accuracy: 9.4510e-05 - past_key_values_12_accuracy: 1.3549e-04\n"
     ]
    },
    {
     "data": {
      "text/plain": [
       "[1.7480930089950562,\n",
       " 1.7480930089950562,\n",
       " 0.5847023129463196,\n",
       " 0.00012977376172784716,\n",
       " 0.00012350284669082612,\n",
       " 1.7317162928520702e-05,\n",
       " 0.00020150879572611302,\n",
       " 0.0001651952334214002,\n",
       " 0.00027618248714134097,\n",
       " 0.00011982951400568709,\n",
       " 0.00014176458353176713,\n",
       " 0.00011250907846260816,\n",
       " 0.0003219417994841933,\n",
       " 9.450972720514983e-05,\n",
       " 0.0001354936684947461]"
      ]
     },
     "execution_count": 35,
     "metadata": {},
     "output_type": "execute_result"
    }
   ],
   "source": [
    "model.evaluate(test_dataset, batch_size=1024)"
   ]
  },
  {
   "cell_type": "markdown",
   "id": "4e004dbf",
   "metadata": {},
   "source": [
    "The first value in the list is the loss, and the 3rd one is the accuracy."
   ]
  },
  {
   "cell_type": "markdown",
   "id": "3a3fb80e",
   "metadata": {},
   "source": [
    "## Plotting the training accuracy and loss"
   ]
  },
  {
   "cell_type": "code",
   "execution_count": 37,
   "id": "0fd8a9ff",
   "metadata": {},
   "outputs": [
    {
     "name": "stderr",
     "output_type": "stream",
     "text": [
      "WARNING:matplotlib.legend:No artists with labels found to put in legend.  Note that artists whose label start with an underscore are ignored when legend() is called with no argument.\n",
      "WARNING:matplotlib.legend:No artists with labels found to put in legend.  Note that artists whose label start with an underscore are ignored when legend() is called with no argument.\n"
     ]
    },
    {
     "data": {
      "image/png": "[encoded data removed]",
      "text/plain": [
       "<Figure size 720x432 with 1 Axes>"
      ]
     },
     "metadata": {
      "needs_background": "light"
     },
     "output_type": "display_data"
    },
    {
     "data": {
      "image/png": "[encoded data removed]",
      "text/plain": [
       "<Figure size 720x432 with 1 Axes>"
      ]
     },
     "metadata": {
      "needs_background": "light"
     },
     "output_type": "display_data"
    }
   ],
   "source": [
    "fig = plt.figure(figsize=(10, 6))\n",
    "plt.plot(history.history['logits_accuracy'])\n",
    "plt.plot(history.history['val_logits_accuracy'])\n",
    "plt.title('Model Accuracy')\n",
    "plt.xlabel('Epoch')\n",
    "plt.ylabel('Sparse Categorical Accuracy')\n",
    "plt.legend(loc='lower right')\n",
    "fig.savefig(str(model_dir / 'logits_accuracy.png'), dpi=fig.dpi)\n",
    "\n",
    "fig = plt.figure(figsize=(10, 6))\n",
    "plt.plot(history.history['logits_loss'])\n",
    "plt.plot(history.history['val_logits_loss'])\n",
    "plt.title('Model Loss')\n",
    "plt.xlabel('Epoch')\n",
    "plt.ylabel('Sparse Categorical Loss')\n",
    "plt.legend(loc='lower right')\n",
    "fig.savefig(str(model_dir / 'logits_loss.png'), dpi=fig.dpi)"
   ]
  },
  {
   "cell_type": "markdown",
   "id": "4da9caf2",
   "metadata": {},
   "source": [
    "## Testing the model with actual data"
   ]
  },
  {
   "cell_type": "markdown",
   "id": "a70e88b4",
   "metadata": {},
   "source": [
    "Load the tokenizer and the model first if not already loaded"
   ]
  },
  {
   "cell_type": "code",
   "execution_count": 38,
   "id": "e3a9241b",
   "metadata": {},
   "outputs": [
    {
     "name": "stderr",
     "output_type": "stream",
     "text": [
      "All model checkpoint layers were used when initializing TFGPT2LMHeadModel.\n",
      "\n",
      "All the layers of TFGPT2LMHeadModel were initialized from the model checkpoint at /home/shafquat/bangla-next-word-prediction/models/bn_gpt2.\n",
      "If your task is similar to the task the model of the checkpoint was trained on, you can already use TFGPT2LMHeadModel for predictions without further training.\n"
     ]
    }
   ],
   "source": [
    "tokenizer = AutoTokenizer.from_pretrained(model_dir)\n",
    "model = TFGPT2LMHeadModel.from_pretrained(str(model_dir))"
   ]
  },
  {
   "cell_type": "markdown",
   "id": "d666b5c9",
   "metadata": {},
   "source": [
    "The function `generate_text` takes as input text, model, and tokenizer and generates top 5 texts with sampling `top_k` of 50 and `top_p` of 0.95. More on these sampling can be found on this [blog post](https://huggingface.co/blog/how-to-generate)."
   ]
  },
  {
   "cell_type": "code",
   "execution_count": 39,
   "id": "15d937c4",
   "metadata": {},
   "outputs": [],
   "source": [
    "def generate_text(text, model, tokenizer):\n",
    "    input_ids = tokenizer.encode(text, return_tensors='tf')\n",
    "    outputs = model.predict(input_ids).logits\n",
    "\n",
    "    print(\"Next most probable tokens:\\n\" + 100 * '-')\n",
    "    for i in range(outputs.shape[1]):\n",
    "        pred_id = np.argmax(outputs[:, i, :]).item()\n",
    "        print(tokenizer.decode(pred_id))\n",
    "    \n",
    "    beam_outputs = model.generate(\n",
    "        input_ids,\n",
    "        max_length=100,\n",
    "        num_beams=5,\n",
    "        no_repeat_ngram_size=2,\n",
    "        num_return_sequences=5,\n",
    "        early_stopping=True,\n",
    "        do_sample=True,\n",
    "        top_k=50,\n",
    "        top_p=0.95,\n",
    "    )\n",
    "\n",
    "    print(\"Beam Output:\\n\" + 100 * '-')\n",
    "    for i, beam_output in enumerate(beam_outputs):\n",
    "        print(\"{}: {}\".format(i, tokenizer.decode(\n",
    "            beam_output, skip_special_tokens=True)))"
   ]
  },
  {
   "cell_type": "markdown",
   "id": "3ab42530",
   "metadata": {},
   "source": [
    "Let's test our model for different texts using this function"
   ]
  },
  {
   "cell_type": "code",
   "execution_count": 45,
   "id": "85103091",
   "metadata": {},
   "outputs": [
    {
     "name": "stdout",
     "output_type": "stream",
     "text": [
      "Enter text: আমি\n"
     ]
    },
    {
     "name": "stderr",
     "output_type": "stream",
     "text": [
      "Setting `pad_token_id` to 50256 (first `eos_token_id`) to generate sequence\n"
     ]
    },
    {
     "name": "stdout",
     "output_type": "stream",
     "text": [
      "Next most probable tokens:\n",
      "----------------------------------------------------------------------------------------------------\n",
      "ি\n",
      " ত\n",
      "Beam Output:\n",
      "----------------------------------------------------------------------------------------------------\n",
      "0: আমি তোমার কাছে ক্ষমা চাইছি। মাওলানা মহিউদ্দিন সাহেব একটা দীর্ঘশ্বাস ফেললেন। তারপর মুখ ঘুরিয়ে নিজের বাড়ির দিকে চলে গেল। নাওয়ের পাটাতনে বসল বসে\n",
      "1: আমি তোমার কাছে ক্ষমা চাইছি। তুমি যে অন্যায় করেছ তা আমি জানি। কিন্তু সেটা নিজের অপরাধ হিসাবে নেব না। বিয়ার পর থেকেই কেন জেল খাটছি আমি, কোনও কথা বল\n",
      "2: আমি তোমার কাছে ক্ষমা চাইলাম। আল্লাহপাকের শুকরিয়া আদায় করছি যে তিনি আমাদিগকে রক্ষা করিলেন, যাহাতে পৃথিবীর মানুষকে নিরাপত্তা দেওয়ার জন্যে\n",
      "3: আমি কী করুম? কাইল বিয়াইন্না রাইত্রের পর থিকা আমি তোমার মিহি চাইয়া রইছি। ক্যা? হেইডা জানি নাই। তয় মাঝিবাড়ির পোলাপানডির লেইগা কোনওদিন কিছু অয় ন\n",
      "4: আমি তোমারে বিয়া করতে চাই। হেইডা আমি জানি। তয় তুমি যেই চেষ্টা করো না ক্যা? তারবাদেও যুদি কোনও অসুবিদা থাকে তেইল্লা দিমু। মাইয়ার বাপের কাছ থি\n"
     ]
    }
   ],
   "source": [
    "text = input(\"Enter text: \")\n",
    "generate_text(text, model, tokenizer)"
   ]
  },
  {
   "cell_type": "markdown",
   "id": "00b60bd4",
   "metadata": {},
   "source": [
    "## Converting tensorflow model to tflite format"
   ]
  },
  {
   "cell_type": "markdown",
   "id": "0ecbabe1",
   "metadata": {},
   "source": [
    "Set converter parameters to convert the model with FP16 quantization"
   ]
  },
  {
   "cell_type": "code",
   "execution_count": 41,
   "id": "fbe3c1f0",
   "metadata": {},
   "outputs": [],
   "source": [
    "converter = tf.lite.TFLiteConverter.from_keras_model(model)\n",
    "converter.target_spec.supported_ops = [tf.lite.OpsSet.TFLITE_BUILTINS, tf.lite.OpsSet.SELECT_TF_OPS]\n",
    "converter.target_spec.supported_types = [tf.float16]\n",
    "converter.optimizations = [tf.lite.Optimize.DEFAULT]"
   ]
  },
  {
   "cell_type": "markdown",
   "id": "e5b78b3e",
   "metadata": {},
   "source": [
    "Now convert the model and save as `.tflite` file"
   ]
  },
  {
   "cell_type": "code",
   "execution_count": 42,
   "id": "6f642750",
   "metadata": {},
   "outputs": [
    {
     "name": "stderr",
     "output_type": "stream",
     "text": [
      "WARNING:absl:Found untraced functions such as wte_layer_call_fn, wte_layer_call_and_return_conditional_losses, dropout_74_layer_call_fn, dropout_74_layer_call_and_return_conditional_losses, ln_f_layer_call_fn while saving (showing 5 of 294). These functions will not be directly callable after loading.\n"
     ]
    },
    {
     "name": "stdout",
     "output_type": "stream",
     "text": [
      "INFO:tensorflow:Assets written to: /tmp/tmpps55w12r/assets\n"
     ]
    },
    {
     "name": "stderr",
     "output_type": "stream",
     "text": [
      "INFO:tensorflow:Assets written to: /tmp/tmpps55w12r/assets\n",
      "2022-04-02 20:10:35.560721: W tensorflow/compiler/mlir/lite/python/tf_tfl_flatbuffer_helpers.cc:357] Ignored output_format.\n",
      "2022-04-02 20:10:35.560742: W tensorflow/compiler/mlir/lite/python/tf_tfl_flatbuffer_helpers.cc:360] Ignored drop_control_dependency.\n",
      "2022-04-02 20:10:35.561340: I tensorflow/cc/saved_model/reader.cc:43] Reading SavedModel from: /tmp/tmpps55w12r\n",
      "2022-04-02 20:10:35.596419: I tensorflow/cc/saved_model/reader.cc:78] Reading meta graph with tags { serve }\n",
      "2022-04-02 20:10:35.596441: I tensorflow/cc/saved_model/reader.cc:119] Reading SavedModel debug info (if present) from: /tmp/tmpps55w12r\n",
      "2022-04-02 20:10:35.727310: I tensorflow/cc/saved_model/loader.cc:228] Restoring SavedModel bundle.\n",
      "2022-04-02 20:10:36.280661: I tensorflow/cc/saved_model/loader.cc:212] Running initialization op on SavedModel bundle at path: /tmp/tmpps55w12r\n",
      "2022-04-02 20:10:36.565960: I tensorflow/cc/saved_model/loader.cc:301] SavedModel load for tags { serve }; Status: success: OK. Took 1004621 microseconds.\n",
      "2022-04-02 20:10:37.171408: I tensorflow/compiler/mlir/tensorflow/utils/dump_mlir_util.cc:237] disabling MLIR crash reproducer, set env var `MLIR_CRASH_REPRODUCER_DIRECTORY` to enable.\n",
      "WARNING:absl:Buffer deduplication procedure will be skipped when flatbuffer library is not properly loaded\n"
     ]
    }
   ],
   "source": [
    "tflite_model = converter.convert()\n",
    "# Save the model.\n",
    "with open(model_dir / 'bn_gpt2_model.tflite', 'wb') as f:\n",
    "  f.write(tflite_model)"
   ]
  },
  {
   "cell_type": "markdown",
   "id": "49225595",
   "metadata": {},
   "source": [
    "This model can be used with android applications"
   ]
  }
 ],
 "metadata": {
  "kernelspec": {
   "display_name": "Python 3 (ipykernel)",
   "language": "python",
   "name": "python3"
  },
  "language_info": {
   "codemirror_mode": {
    "name": "ipython",
    "version": 3
   },
   "file_extension": ".py",
   "mimetype": "text/x-python",
   "name": "python",
   "nbconvert_exporter": "python",
   "pygments_lexer": "ipython3",
   "version": "3.8.10"
  }
 },
 "nbformat": 4,
 "nbformat_minor": 5
}
