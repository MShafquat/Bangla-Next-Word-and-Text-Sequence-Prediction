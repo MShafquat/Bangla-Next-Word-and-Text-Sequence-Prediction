{
 "cells": [
  {
   "cell_type": "markdown",
   "id": "a2ce7731",
   "metadata": {},
   "source": [
    "# Training GPT-2 model on Bangla books"
   ]
  },
  {
   "cell_type": "markdown",
   "id": "35974f96",
   "metadata": {},
   "source": [
    "Necessary imports for the project"
   ]
  },
  {
   "cell_type": "code",
   "execution_count": 1,
   "id": "5765a509",
   "metadata": {
    "gather": {
     "logged": 1649068100676
    }
   },
   "outputs": [],
   "source": [
    "import matplotlib.pyplot as plt\n",
    "import numpy as np\n",
    "import os\n",
    "from pathlib import Path\n",
    "import pickle\n",
    "import random\n",
    "import seaborn as sns\n",
    "import tensorflow as tf\n",
    "from tqdm import tqdm\n",
    "from transformers import AutoConfig, AutoTokenizer\n",
    "from transformers import TFGPT2LMHeadModel"
   ]
  },
  {
   "cell_type": "markdown",
   "id": "097c7b76",
   "metadata": {},
   "source": [
    "Set seaborn for better data visualization"
   ]
  },
  {
   "cell_type": "code",
   "execution_count": 2,
   "id": "e04eed29",
   "metadata": {},
   "outputs": [],
   "source": [
    "sns.set()"
   ]
  },
  {
   "cell_type": "markdown",
   "id": "0383c3e0",
   "metadata": {},
   "source": [
    "## Preparing dataset\n",
    "Initialize the project root, data, and model directories. `processed_data` directory contains selected books from renowned authors only."
   ]
  },
  {
   "cell_type": "code",
   "execution_count": 3,
   "id": "04518bdc",
   "metadata": {
    "gather": {
     "logged": 1649068108545
    }
   },
   "outputs": [],
   "source": [
    "# get data and model directories\n",
    "project_root = Path('__file__').resolve().parents[1]\n",
    "data_dir = project_root / 'processed_data/'\n",
    "model_home = project_root / 'models/bn_gpt2'\n",
    "\n",
    "plot_dir = model_home / 'plots'\n",
    "model_saved_dir = model_home / 'model'\n",
    "tokenizer_dir = model_home / 'tokenizer'\n",
    "model_weights_path = model_home / 'gpt2_model_weights.h5'\n",
    "\n",
    "os.makedirs(model_home, exist_ok=True)\n",
    "os.makedirs(plot_dir, exist_ok=True)\n",
    "os.makedirs(model_saved_dir, exist_ok=True)\n",
    "os.makedirs(tokenizer_dir, exist_ok=True)"
   ]
  },
  {
   "cell_type": "markdown",
   "id": "82779262",
   "metadata": {},
   "source": [
    "Get list of files in the data directory"
   ]
  },
  {
   "cell_type": "code",
   "execution_count": 4,
   "id": "3fef3ebe",
   "metadata": {
    "gather": {
     "logged": 1649068113493
    }
   },
   "outputs": [],
   "source": [
    "filenames = [str(file) for file in Path(data_dir).glob('**/*.txt')]"
   ]
  },
  {
   "cell_type": "markdown",
   "id": "3a375843",
   "metadata": {},
   "source": [
    "Then we randomly shuffle the filenames list and select 100 files."
   ]
  },
  {
   "cell_type": "code",
   "execution_count": 5,
   "id": "b1f03d8a",
   "metadata": {
    "gather": {
     "logged": 1649068553775
    }
   },
   "outputs": [],
   "source": [
    "random.shuffle(filenames)\n",
    "filenames = filenames[:100]"
   ]
  },
  {
   "cell_type": "markdown",
   "id": "756ff430",
   "metadata": {},
   "source": [
    "Save filenames to resume training on these later"
   ]
  },
  {
   "cell_type": "code",
   "execution_count": 6,
   "id": "4d841ea8",
   "metadata": {},
   "outputs": [],
   "source": [
    "with open(model_home / 'filenames.pickle', 'wb') as file:\n",
    "    pickle.dump(filenames, file=file)"
   ]
  },
  {
   "cell_type": "markdown",
   "id": "a96e029d",
   "metadata": {},
   "source": [
    "Load filenames from pickle file"
   ]
  },
  {
   "cell_type": "code",
   "execution_count": 7,
   "id": "7534848f",
   "metadata": {},
   "outputs": [],
   "source": [
    "with open(model_home / 'filenames.pickle', 'rb') as file:\n",
    "    filenames = pickle.load(file)"
   ]
  },
  {
   "cell_type": "markdown",
   "id": "5b1ad487",
   "metadata": {},
   "source": [
    "Split the files for training, validation, and testing. We are using 70% for training, 15% for validation and 15% for testing."
   ]
  },
  {
   "cell_type": "code",
   "execution_count": 8,
   "id": "f53afea6",
   "metadata": {
    "gather": {
     "logged": 1649072798221
    }
   },
   "outputs": [],
   "source": [
    "train_size = int(len(filenames) * 0.70)\n",
    "train_filenames = filenames[:train_size]\n",
    "\n",
    "validation_size = train_size + int(len(filenames) * 0.15)\n",
    "validation_filenames = filenames[train_size:validation_size]\n",
    "\n",
    "test_filenames = filenames[validation_size:]"
   ]
  },
  {
   "cell_type": "markdown",
   "id": "aa8b522c-3fbc-4050-913c-c0c43cfdeed9",
   "metadata": {
    "nteract": {
     "transient": {
      "deleting": false
     }
    }
   },
   "source": [
    "`create_dataset` creates a Tensorflow Dataset from a list of filenames with a length of `max_sequence_length - 1`. `inputs` list contains first `max_sequence_length - 1` number of words except the last word, and `labels` list contains last `max_sequence_length - 1` words except the first word. `skip_size` defines how many words to skip from a tokenized string when creating `inputs` and `labels` list."
   ]
  },
  {
   "cell_type": "code",
   "execution_count": 9,
   "id": "84f61d16",
   "metadata": {
    "gather": {
     "logged": 1649068123147
    }
   },
   "outputs": [],
   "source": [
    "def create_dataset(tokenizer, filenames, max_sequence_length, skip_size):\n",
    "    BATCH_SIZE = 12     # batch size 12 is needed for transformer\n",
    "    BUFFER_SIZE = 1000  # for random shuffling\n",
    "    inputs = []\n",
    "    labels = []\n",
    "\n",
    "    for file in tqdm(filenames):\n",
    "        with open(file, 'r') as f:\n",
    "            for line in f:\n",
    "                string_tokenized = tokenizer.encode(line)\n",
    "                for i in range(0, len(string_tokenized) - max_sequence_length + 1, skip_size):\n",
    "                    ex = string_tokenized[i:i + max_sequence_length]\n",
    "                    inputs.append(ex[:-1])\n",
    "                    labels.append(ex[1:])\n",
    "    dataset = tf.data.Dataset.from_tensor_slices((inputs, labels))\n",
    "    dataset = dataset.shuffle(BUFFER_SIZE).batch(BATCH_SIZE, drop_remainder=True)\n",
    "    return dataset"
   ]
  },
  {
   "cell_type": "markdown",
   "id": "e662c10e",
   "metadata": {},
   "source": [
    "Create a tokenizer from pretrained model and add special tokens for padding, beginning, and end of sentence. And save the tokenizer."
   ]
  },
  {
   "cell_type": "code",
   "execution_count": 10,
   "id": "d8b72e67",
   "metadata": {
    "gather": {
     "logged": 1649068136687
    }
   },
   "outputs": [
    {
     "data": {
      "text/plain": [
       "('/home/shafquat/bangla-next-word-prediction/models/bn_gpt2/tokenizer/tokenizer_config.json',\n",
       " '/home/shafquat/bangla-next-word-prediction/models/bn_gpt2/tokenizer/special_tokens_map.json',\n",
       " '/home/shafquat/bangla-next-word-prediction/models/bn_gpt2/tokenizer/vocab.json',\n",
       " '/home/shafquat/bangla-next-word-prediction/models/bn_gpt2/tokenizer/merges.txt',\n",
       " '/home/shafquat/bangla-next-word-prediction/models/bn_gpt2/tokenizer/added_tokens.json',\n",
       " '/home/shafquat/bangla-next-word-prediction/models/bn_gpt2/tokenizer/tokenizer.json')"
      ]
     },
     "execution_count": 10,
     "metadata": {},
     "output_type": "execute_result"
    }
   ],
   "source": [
    "tokenizer = AutoTokenizer.from_pretrained(\"flax-community/gpt2-bengali\")\n",
    "tokenizer.add_special_tokens(\n",
    "    {'pad_token': '<pad>', 'bos_token': '<s>', 'eos_token': '</s>'})\n",
    "tokenizer.save_pretrained(tokenizer_dir)"
   ]
  },
  {
   "cell_type": "markdown",
   "id": "bf9a093e",
   "metadata": {},
   "source": [
    "Define max sequence length for `create_dataset`."
   ]
  },
  {
   "cell_type": "code",
   "execution_count": 11,
   "id": "7ea431a8",
   "metadata": {
    "gather": {
     "logged": 1649068138704
    }
   },
   "outputs": [],
   "source": [
    "max_seq_len = 200\n",
    "skip_size = 50"
   ]
  },
  {
   "cell_type": "markdown",
   "id": "a6246d72",
   "metadata": {},
   "source": [
    "Now we create train, validation and test dataset from the files."
   ]
  },
  {
   "cell_type": "code",
   "execution_count": 12,
   "id": "0e2dcee0",
   "metadata": {
    "gather": {
     "logged": 1649072877251
    },
    "jupyter": {
     "outputs_hidden": true
    }
   },
   "outputs": [
    {
     "name": "stderr",
     "output_type": "stream",
     "text": [
      "100%|████████████████████████████████████████| 70/70 [00:19<00:00,  3.60it/s]\n",
      "2022-04-16 14:07:34.686519: I tensorflow/stream_executor/cuda/cuda_gpu_executor.cc:936] successful NUMA node read from SysFS had negative value (-1), but there must be at least one NUMA node, so returning NUMA node zero\n",
      "2022-04-16 14:07:34.827589: I tensorflow/stream_executor/cuda/cuda_gpu_executor.cc:936] successful NUMA node read from SysFS had negative value (-1), but there must be at least one NUMA node, so returning NUMA node zero\n",
      "2022-04-16 14:07:34.828037: I tensorflow/stream_executor/cuda/cuda_gpu_executor.cc:936] successful NUMA node read from SysFS had negative value (-1), but there must be at least one NUMA node, so returning NUMA node zero\n",
      "2022-04-16 14:07:34.830891: I tensorflow/core/platform/cpu_feature_guard.cc:151] This TensorFlow binary is optimized with oneAPI Deep Neural Network Library (oneDNN) to use the following CPU instructions in performance-critical operations:  AVX2 FMA\n",
      "To enable them in other operations, rebuild TensorFlow with the appropriate compiler flags.\n",
      "2022-04-16 14:07:34.832541: I tensorflow/stream_executor/cuda/cuda_gpu_executor.cc:936] successful NUMA node read from SysFS had negative value (-1), but there must be at least one NUMA node, so returning NUMA node zero\n",
      "2022-04-16 14:07:34.832967: I tensorflow/stream_executor/cuda/cuda_gpu_executor.cc:936] successful NUMA node read from SysFS had negative value (-1), but there must be at least one NUMA node, so returning NUMA node zero\n",
      "2022-04-16 14:07:34.833344: I tensorflow/stream_executor/cuda/cuda_gpu_executor.cc:936] successful NUMA node read from SysFS had negative value (-1), but there must be at least one NUMA node, so returning NUMA node zero\n",
      "2022-04-16 14:07:36.171786: I tensorflow/stream_executor/cuda/cuda_gpu_executor.cc:936] successful NUMA node read from SysFS had negative value (-1), but there must be at least one NUMA node, so returning NUMA node zero\n",
      "2022-04-16 14:07:36.172039: I tensorflow/stream_executor/cuda/cuda_gpu_executor.cc:936] successful NUMA node read from SysFS had negative value (-1), but there must be at least one NUMA node, so returning NUMA node zero\n",
      "2022-04-16 14:07:36.172232: I tensorflow/stream_executor/cuda/cuda_gpu_executor.cc:936] successful NUMA node read from SysFS had negative value (-1), but there must be at least one NUMA node, so returning NUMA node zero\n",
      "2022-04-16 14:07:36.173071: I tensorflow/core/common_runtime/gpu/gpu_device.cc:1525] Created device /job:localhost/replica:0/task:0/device:GPU:0 with 6917 MB memory:  -> device: 0, name: NVIDIA GeForce GTX 1070, pci bus id: 0000:01:00.0, compute capability: 6.1\n",
      "100%|████████████████████████████████████████| 15/15 [00:07<00:00,  1.90it/s]\n",
      "100%|████████████████████████████████████████| 15/15 [00:09<00:00,  1.58it/s]\n"
     ]
    }
   ],
   "source": [
    "train_dataset = create_dataset(tokenizer, train_filenames, max_seq_len, skip_size)\n",
    "validation_dataset = create_dataset(tokenizer, validation_filenames, max_seq_len, skip_size)\n",
    "test_dataset = create_dataset(tokenizer, test_filenames, max_seq_len, skip_size)"
   ]
  },
  {
   "cell_type": "markdown",
   "id": "766d4d52",
   "metadata": {},
   "source": [
    "## Creating Model"
   ]
  },
  {
   "cell_type": "markdown",
   "id": "41676607",
   "metadata": {},
   "source": [
    "Load pretrained Bangla GPT2 model from [flax-community/gpt2-bengali](https://huggingface.co/flax-community/gpt2-bengali). Compile the pretrained model with optimizer `adam` with a learning_rate of 0.001, loss `sparse categorical crossentropy` and accuracy metric `sparse categorical accuracy`."
   ]
  },
  {
   "cell_type": "code",
   "execution_count": 13,
   "id": "7f6fb7ab",
   "metadata": {
    "gather": {
     "logged": 1649072880884
    }
   },
   "outputs": [
    {
     "name": "stderr",
     "output_type": "stream",
     "text": [
      "2022-04-16 14:08:51.407603: W tensorflow/python/util/util.cc:368] Sets are not currently considered sequences, but this may change in the future, so consider avoiding using them.\n",
      "Some weights of the PyTorch model were not used when initializing the TF 2.0 model TFGPT2LMHeadModel: ['lm_head.weight', 'transformer.h.7.attn.masked_bias', 'transformer.h.3.attn.masked_bias', 'transformer.h.4.attn.masked_bias', 'transformer.h.1.attn.masked_bias', 'transformer.h.0.attn.masked_bias', 'transformer.h.11.attn.masked_bias', 'transformer.h.6.attn.masked_bias', 'transformer.h.2.attn.masked_bias', 'transformer.h.8.attn.masked_bias', 'transformer.h.5.attn.masked_bias', 'transformer.h.10.attn.masked_bias', 'transformer.h.9.attn.masked_bias']\n",
      "- This IS expected if you are initializing TFGPT2LMHeadModel from a PyTorch model trained on another task or with another architecture (e.g. initializing a TFBertForSequenceClassification model from a BertForPreTraining model).\n",
      "- This IS NOT expected if you are initializing TFGPT2LMHeadModel from a PyTorch model that you expect to be exactly identical (e.g. initializing a TFBertForSequenceClassification model from a BertForSequenceClassification model).\n",
      "All the weights of TFGPT2LMHeadModel were initialized from the PyTorch model.\n",
      "If your task is similar to the task the model of the checkpoint was trained on, you can already use TFGPT2LMHeadModel for predictions without further training.\n"
     ]
    }
   ],
   "source": [
    "model = TFGPT2LMHeadModel.from_pretrained('flax-community/gpt2-bengali', from_pt=True)\n",
    "# create model parameters\n",
    "adam = tf.keras.optimizers.Adam(learning_rate=0.001)\n",
    "# definining our loss function\n",
    "loss = tf.keras.losses.SparseCategoricalCrossentropy(from_logits=True)\n",
    "# defining our metric which we want to observe\n",
    "metric = tf.keras.metrics.SparseCategoricalAccuracy('accuracy')\n",
    "model.compile(loss=[loss, *[None] * model.config.n_layer], optimizer=adam, metrics=[metric])"
   ]
  },
  {
   "cell_type": "markdown",
   "id": "36aca902",
   "metadata": {},
   "source": [
    "Create a checkpoint to save the model after each epoch."
   ]
  },
  {
   "cell_type": "code",
   "execution_count": 14,
   "id": "34b0056e",
   "metadata": {
    "gather": {
     "logged": 1649072881043
    }
   },
   "outputs": [],
   "source": [
    "checkpoint = tf.keras.callbacks.ModelCheckpoint(str(model_home),\n",
    "                                                save_weights_only=True,\n",
    "                                                save_freq='epoch')"
   ]
  },
  {
   "cell_type": "markdown",
   "id": "1014abb8",
   "metadata": {},
   "source": [
    "Train on `train_dataset` and use `validation_dataset` for validation."
   ]
  },
  {
   "cell_type": "code",
   "execution_count": 16,
   "id": "19aeda02",
   "metadata": {
    "gather": {
     "logged": 1649072836534
    }
   },
   "outputs": [
    {
     "name": "stdout",
     "output_type": "stream",
     "text": [
      "8890/8890 [==============================] - ETA: 0s - loss: 1.1665 - logits_loss: 1.1665 - logits_accuracy: 0.7264 - past_key_values_1_accuracy: 1.4177e-04 - past_key_values_2_accuracy: 1.4366e-04 - past_key_values_3_accuracy: 2.3843e-05 - past_key_values_4_accuracy: 2.3247e-04 - past_key_values_5_accuracy: 1.7094e-04 - past_key_values_6_accuracy: 2.5261e-04 - past_key_values_7_accuracy: 1.3917e-04 - past_key_values_8_accuracy: 1.4072e-04 - past_key_values_9_accuracy: 1.0628e-04 - past_key_values_10_accuracy: 3.1082e-04 - past_key_values_11_accuracy: 1.1015e-04 - past_key_values_12_accuracy: 1.5902e-04"
     ]
    },
    {
     "name": "stderr",
     "output_type": "stream",
     "text": [
      "2022-04-16 15:55:02.964812: W tensorflow/core/framework/cpu_allocator_impl.cc:82] Allocation of 154389504 exceeds 10% of free system memory.\n",
      "2022-04-16 15:55:03.125706: W tensorflow/core/framework/cpu_allocator_impl.cc:82] Allocation of 154389504 exceeds 10% of free system memory.\n",
      "2022-04-16 15:55:03.358984: W tensorflow/core/framework/cpu_allocator_impl.cc:82] Allocation of 154389504 exceeds 10% of free system memory.\n"
     ]
    },
    {
     "name": "stdout",
     "output_type": "stream",
     "text": [
      "\b\b\b\b\b\b\b\b\b\b\b\b\b\b\b\b\b\b\b\b\b\b\b\b\b\b\b\b\b\b\b\b\b\b\b\b\b\b\b\b\b\b\b\b\b\b\b\b\b\b\b\b\b\b\b\b\b\b\b\b\b\b\b\b\b\b\b\b\b\b\b\b\b\b\b\b\b\b\b\b\b\b\b\b\b\b\b\b\b\b\b\b\b\b\b\b\b\b\b\b\b\b\b\b\b\b\b\b\b\b\b\b\b\b\b\b\b\b\b\b\b\b\b\b\b\b\b\b\b\b\b\b\b\b\b\b\b\b\b\b\b\b\b\b\b\b\b\b\b\b\b\b\b\b\b\b\b\b\b\b\b\b\b\b\b\b\b\b\b\b\b\b\b\b\b\b\b\b\b\b\b\b\b\b\b\b\b\b\b\b\b\b\b\b\b\b\b\b\b\b\b\b\b\b\b\b\b\b\b\b\b\b\b\b\b\b\b\b\b\b\b\b\b\b\b\b\b\b\b\b\b\b\b\b\b\b\b\b\b\b\b\b\b\b\b\b\b\b\b\b\b\b\b\b\b\b\b\b\b\b\b\b\b\b\b\b\b\b\b\b\b\b\b\b\b\b\b\b\b\b\b\b\b\b\b\b\b\b\b\b\b\b\b\b\b\b\b\b\b\b\b\b\b\b\b\b\b\b\b\b\b\b\b\b\b\b\b\b\b\b\b\b\b\b\b\b\b\b\b\b\b\b\b\b\b\b\b\b\b\b\b\b\b\b\b\b\b\b\b\b\b\b\b\b\b\b\b\b\b\b\b\b\b\b\b\b\b\b\b\b\b\b\b\b\b\b\b\b\b\b\b\b\b\b\b\b\b\b\b\b\b\b\b\b\b\b\b\b\b\b\b\b\b\b\b\b\b\b\b\b\b\b\b\b\b\b\b\b\b\b\b\b\b\b\b\b\b\b\b\b\b\b\b\b\b\b\b\b\b\b\b\b\b\b\b\b\b\b\b\b\b\b\b\b\b\b\b\b\b\b\b\b\b\b\b\b\b\b\b\b\b\b\b\b\b\b\b\b\b\b\b\b\b\b\b\b\b\b\b\b\b\b\b\b\b\b\b\b\b\b\b\b\b\b\b\b\b\b\b\b\b\b\b\b\b\b\b\b\b\b\b\b\b\b\b\b\b\b\b\b\b\b\b\b\b\b\b\b\b\b\b\b\b\b\b\b\b\b\b\b\b\b\b\b\b\b\b\b\b\b\b\b\b\b\b\b\b\b\b\b\b\b\b\b\b\b\b\b\b\b\b\b\b\b\b\b\b\b\b\b\b\b\b\b\b\b\b\b\b\b\b\b\b\b\b\b\b\b\b\b\r",
      "8890/8890 [==============================] - 6261s 704ms/step - loss: 1.1665 - logits_loss: 1.1665 - logits_accuracy: 0.7264 - past_key_values_1_accuracy: 1.4177e-04 - past_key_values_2_accuracy: 1.4366e-04 - past_key_values_3_accuracy: 2.3843e-05 - past_key_values_4_accuracy: 2.3247e-04 - past_key_values_5_accuracy: 1.7094e-04 - past_key_values_6_accuracy: 2.5261e-04 - past_key_values_7_accuracy: 1.3917e-04 - past_key_values_8_accuracy: 1.4072e-04 - past_key_values_9_accuracy: 1.0628e-04 - past_key_values_10_accuracy: 3.1082e-04 - past_key_values_11_accuracy: 1.1015e-04 - past_key_values_12_accuracy: 1.5902e-04 - val_loss: 3.1691 - val_logits_loss: 3.1691 - val_logits_accuracy: 0.4850 - val_past_key_values_1_accuracy: 1.2017e-04 - val_past_key_values_2_accuracy: 1.7283e-04 - val_past_key_values_3_accuracy: 1.5817e-05 - val_past_key_values_4_accuracy: 2.1611e-04 - val_past_key_values_5_accuracy: 1.5457e-04 - val_past_key_values_6_accuracy: 2.7586e-04 - val_past_key_values_7_accuracy: 1.3722e-04 - val_past_key_values_8_accuracy: 1.4821e-04 - val_past_key_values_9_accuracy: 1.1017e-04 - val_past_key_values_10_accuracy: 3.5225e-04 - val_past_key_values_11_accuracy: 1.0937e-04 - val_past_key_values_12_accuracy: 1.6124e-04\n"
     ]
    }
   ],
   "source": [
    "history = model.fit(train_dataset, validation_data=validation_dataset,\n",
    "                    epochs=3, callbacks=[checkpoint])"
   ]
  },
  {
   "cell_type": "markdown",
   "id": "5b5c18eb",
   "metadata": {},
   "source": [
    "Save the model in SavedModel format and save model weights in h5 format that huggingface can use."
   ]
  },
  {
   "cell_type": "code",
   "execution_count": 17,
   "id": "7931e775",
   "metadata": {
    "gather": {
     "logged": 1649097608520
    },
    "scrolled": true
   },
   "outputs": [
    {
     "name": "stderr",
     "output_type": "stream",
     "text": [
      "WARNING:absl:Found untraced functions such as wte_layer_call_fn, wte_layer_call_and_return_conditional_losses, dropout_layer_call_fn, dropout_layer_call_and_return_conditional_losses, ln_f_layer_call_fn while saving (showing 5 of 294). These functions will not be directly callable after loading.\n",
      "2022-04-16 16:05:33.517398: W tensorflow/core/framework/cpu_allocator_impl.cc:82] Allocation of 154389504 exceeds 10% of free system memory.\n",
      "2022-04-16 16:05:33.609262: W tensorflow/core/framework/cpu_allocator_impl.cc:82] Allocation of 154389504 exceeds 10% of free system memory.\n"
     ]
    },
    {
     "name": "stdout",
     "output_type": "stream",
     "text": [
      "INFO:tensorflow:Assets written to: /home/shafquat/bangla-next-word-prediction/models/bn_gpt2/model/assets\n"
     ]
    },
    {
     "name": "stderr",
     "output_type": "stream",
     "text": [
      "INFO:tensorflow:Assets written to: /home/shafquat/bangla-next-word-prediction/models/bn_gpt2/model/assets\n"
     ]
    }
   ],
   "source": [
    "model.save(model_saved_dir)\n",
    "model.save_weights(model_weights_path, save_format='h5')"
   ]
  },
  {
   "cell_type": "markdown",
   "id": "f38cf0c3",
   "metadata": {},
   "source": [
    "Save model config"
   ]
  },
  {
   "cell_type": "code",
   "execution_count": 18,
   "id": "64dec1bf",
   "metadata": {},
   "outputs": [],
   "source": [
    "config = AutoConfig.from_pretrained(\"flax-community/gpt2-bengali\")\n",
    "config.save_pretrained(model_home / 'config.json')"
   ]
  },
  {
   "cell_type": "markdown",
   "id": "01fde25b",
   "metadata": {},
   "source": [
    "Finally we evaluate the model on `test_dataset`"
   ]
  },
  {
   "cell_type": "code",
   "execution_count": 16,
   "id": "3d7d774d",
   "metadata": {
    "gather": {
     "logged": 1649097641843
    }
   },
   "outputs": [
    {
     "name": "stdout",
     "output_type": "stream",
     "text": [
      "1696/1696 [==============================] - 437s 257ms/step - loss: 3.7646 - logits_loss: 3.7646 - logits_accuracy: 0.4520 - past_key_values_1_accuracy: 1.2283e-04 - past_key_values_2_accuracy: 2.0543e-04 - past_key_values_3_accuracy: 1.7839e-05 - past_key_values_4_accuracy: 2.1282e-04 - past_key_values_5_accuracy: 1.5734e-04 - past_key_values_6_accuracy: 2.3545e-04 - past_key_values_7_accuracy: 1.2697e-04 - past_key_values_8_accuracy: 1.2048e-04 - past_key_values_9_accuracy: 1.1631e-04 - past_key_values_10_accuracy: 2.7491e-04 - past_key_values_11_accuracy: 1.0213e-04 - past_key_values_12_accuracy: 1.3685e-04\n"
     ]
    },
    {
     "data": {
      "text/plain": [
       "[3.764646053314209,\n",
       " 3.764646053314209,\n",
       " 0.451997846364975,\n",
       " 0.00012282776879146695,\n",
       " 0.00020542966376524419,\n",
       " 1.7839294741861522e-05,\n",
       " 0.00021281640511006117,\n",
       " 0.000157343820319511,\n",
       " 0.00023544988653156906,\n",
       " 0.00012697379861492664,\n",
       " 0.00012048210919601843,\n",
       " 0.00011630520748440176,\n",
       " 0.0002749144332483411,\n",
       " 0.00010212841880274937,\n",
       " 0.0001368502271361649]"
      ]
     },
     "execution_count": 16,
     "metadata": {},
     "output_type": "execute_result"
    }
   ],
   "source": [
    "model.evaluate(test_dataset, batch_size=1024)"
   ]
  },
  {
   "cell_type": "markdown",
   "id": "4e004dbf",
   "metadata": {},
   "source": [
    "The first value in the list is the loss, and the 3rd one is the accuracy."
   ]
  },
  {
   "cell_type": "markdown",
   "id": "3a3fb80e",
   "metadata": {},
   "source": [
    "## Plotting training vs validation accuracy and loss"
   ]
  },
  {
   "cell_type": "code",
   "execution_count": 22,
   "id": "0fd8a9ff",
   "metadata": {
    "gather": {
     "logged": 1649097678543
    }
   },
   "outputs": [
    {
     "data": {
      "image/png": "[encoded data removed]",
      "text/plain": [
       "<Figure size 720x432 with 1 Axes>"
      ]
     },
     "metadata": {},
     "output_type": "display_data"
    },
    {
     "data": {
      "image/png": "[encoded data removed]",
      "text/plain": [
       "<Figure size 720x432 with 1 Axes>"
      ]
     },
     "metadata": {},
     "output_type": "display_data"
    }
   ],
   "source": [
    "fig = plt.figure(figsize=(10, 6))\n",
    "plt.plot(history.history['logits_accuracy'], label=\"Training accuracy\")\n",
    "plt.plot(history.history['val_logits_accuracy'], label=\"Validation accuracy\")\n",
    "plt.title('Model Accuracy')\n",
    "plt.ylabel('accuracy')\n",
    "plt.xlabel('epoch')\n",
    "plt.legend(loc=\"lower right\")\n",
    "fig.savefig(str(plot_dir / 'logits_accuracy.png'), dpi=fig.dpi)\n",
    "\n",
    "fig = plt.figure(figsize=(10, 6))\n",
    "plt.plot(history.history['logits_loss'], label=\"Training loss\")\n",
    "plt.plot(history.history['val_logits_loss'], label=\"Validation loss\")\n",
    "plt.title('Model Loss')\n",
    "plt.ylabel('loss')\n",
    "plt.xlabel('epoch')\n",
    "plt.legend(loc=\"lower right\")\n",
    "fig.savefig(str(plot_dir / 'logits_loss.png'), dpi=fig.dpi)"
   ]
  },
  {
   "cell_type": "markdown",
   "id": "4da9caf2",
   "metadata": {},
   "source": [
    "## Testing the model with actual data"
   ]
  },
  {
   "cell_type": "markdown",
   "id": "aa7c1e29",
   "metadata": {},
   "source": [
    "Load the model config from original pretrained model"
   ]
  },
  {
   "cell_type": "code",
   "execution_count": 22,
   "id": "4f344b34",
   "metadata": {},
   "outputs": [],
   "source": [
    "config = AutoConfig.from_pretrained(model_home / 'config.json')"
   ]
  },
  {
   "cell_type": "markdown",
   "id": "2527af37",
   "metadata": {},
   "source": [
    "Load the tokenizer and model from local files"
   ]
  },
  {
   "cell_type": "code",
   "execution_count": 23,
   "id": "e3a9241b",
   "metadata": {
    "gather": {
     "logged": 1649072836641
    }
   },
   "outputs": [
    {
     "name": "stderr",
     "output_type": "stream",
     "text": [
      "All model checkpoint layers were used when initializing TFGPT2LMHeadModel.\n",
      "\n",
      "All the layers of TFGPT2LMHeadModel were initialized from the model checkpoint at /home/shafquat/bangla-next-word-prediction/models/bn_gpt2/gpt2_model_weights.h5.\n",
      "If your task is similar to the task the model of the checkpoint was trained on, you can already use TFGPT2LMHeadModel for predictions without further training.\n"
     ]
    }
   ],
   "source": [
    "tokenizer = AutoTokenizer.from_pretrained(tokenizer_dir)\n",
    "model = TFGPT2LMHeadModel.from_pretrained(str(model_weights_path), config=config)"
   ]
  },
  {
   "cell_type": "markdown",
   "id": "d666b5c9",
   "metadata": {},
   "source": [
    "The function `generate_text` takes as input text, model, and tokenizer and generates top 5 texts with sampling `top_k` of 50 and `top_p` of 0.95. More on these sampling can be found on this [blog post](https://huggingface.co/blog/how-to-generate)."
   ]
  },
  {
   "cell_type": "code",
   "execution_count": 24,
   "id": "15d937c4",
   "metadata": {
    "gather": {
     "logged": 1649097729448
    }
   },
   "outputs": [],
   "source": [
    "def generate_text(text, model, tokenizer):\n",
    "    input_ids = tokenizer.encode(text, return_tensors='tf')\n",
    "    outputs = model.predict(input_ids).logits\n",
    "\n",
    "    beam_outputs = model.generate(\n",
    "        input_ids,\n",
    "        max_length=100,\n",
    "        num_beams=5,\n",
    "        no_repeat_ngram_size=2,\n",
    "        num_return_sequences=5,\n",
    "        early_stopping=True,\n",
    "        do_sample=True,\n",
    "        top_k=50,\n",
    "        top_p=0.95,\n",
    "    )\n",
    "\n",
    "    print(\"Beam Output:\\n\" + 100 * '-')\n",
    "    for i, beam_output in enumerate(beam_outputs):\n",
    "        print(\"{}: {}\".format(i, tokenizer.decode(\n",
    "            beam_output, skip_special_tokens=True)))"
   ]
  },
  {
   "cell_type": "markdown",
   "id": "3ab42530",
   "metadata": {},
   "source": [
    "Let's test our model for different texts using this function"
   ]
  },
  {
   "cell_type": "code",
   "execution_count": 28,
   "id": "85103091",
   "metadata": {
    "gather": {
     "logged": 1649097798173
    }
   },
   "outputs": [
    {
     "name": "stdout",
     "output_type": "stream",
     "text": [
      "Enter text: কেন\n"
     ]
    },
    {
     "name": "stderr",
     "output_type": "stream",
     "text": [
      "Setting `pad_token_id` to 50256 (first `eos_token_id`) to generate sequence\n"
     ]
    },
    {
     "name": "stdout",
     "output_type": "stream",
     "text": [
      "Beam Output:\n",
      "----------------------------------------------------------------------------------------------------\n",
      "0: কেন, তা হলে তো আপনিও মরুন। সারাদিন এখানে ভালো লাগে না ছোটোবাবু। কোথায় কী হল, ল্যাস-সেই যে টেলিফোন বাজছে, এবং শেষ মুহূর্তের চোখে সেটা\n",
      "1: কেন, আমিও তাই করেছিলাম, কিন্তু সেটাও খুব বিপজ্জনক। দীপা যেরকম ভীষণ স্বাস্থ্যবতী মেয়ে, যদিচ কুঁড়ির সঙ্গে ওর প্রেম হওয়ারই সম্ভাবনা রয়েছে, তবু বরং অনেক\n",
      "2: কেন, তা হলে তো আপনিও মরুন। সারাদিন এখানে ভালো লাগে না ছোটোবাবু। কোথায় কী হল, ল্যাস-সেই যে টেলিফোন বাজছে, এবং শেষ মুহূর্তের চোখে সেটা\n",
      "3: কেন, তা হলে তো আপনিও মরুন। সারাদিন এখানে ভালো লাগে না ছোটোবাবু। কোথায় কী হল, ল্যাস-সেই যে টেলিফোন বাজছে, এবং শেষ মুহূর্তের চোখে সেটা\n",
      "4: কেনি, কিন্তু আমার তো বিশ্বাস, নিজের কথা ভাবতে ইচ্ছে নেই। দীপা যেমন ভীষণ সুখী, সেনদিদিও খানিকক্ষণ অবাক হয়ে গেল। তবে এটা কী হল, শশী মা লক্ষ করে দেখল ন\n"
     ]
    }
   ],
   "source": [
    "text = input(\"Enter text: \")\n",
    "generate_text(text, model, tokenizer)"
   ]
  }
 ],
 "metadata": {
  "kernel_info": {
   "name": "project"
  },
  "kernelspec": {
   "display_name": "Python 3 (ipykernel)",
   "language": "python",
   "name": "python3"
  },
  "language_info": {
   "codemirror_mode": {
    "name": "ipython",
    "version": 3
   },
   "file_extension": ".py",
   "mimetype": "text/x-python",
   "name": "python",
   "nbconvert_exporter": "python",
   "pygments_lexer": "ipython3",
   "version": "3.8.10"
  },
  "microsoft": {
   "host": {
    "AzureML": {
     "notebookHasBeenCompleted": true
    }
   }
  },
  "nteract": {
   "version": "nteract-front-end@1.0.0"
  }
 },
 "nbformat": 4,
 "nbformat_minor": 5
}
