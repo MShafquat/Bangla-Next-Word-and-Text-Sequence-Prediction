{
  "cells": [
    {
      "cell_type": "markdown",
      "source": [
        "# Training GPT-2 model on Bangla books"
      ],
      "metadata": {},
      "id": "a2ce7731"
    },
    {
      "cell_type": "markdown",
      "source": [
        "Necessary imports for the project"
      ],
      "metadata": {},
      "id": "35974f96"
    },
    {
      "cell_type": "code",
      "source": [
        "import matplotlib.pyplot as plt\n",
        "import numpy as np\n",
        "import os\n",
        "from pathlib import Path\n",
        "import pickle\n",
        "import random\n",
        "import tensorflow as tf\n",
        "from transformers import AutoTokenizer, TFGPT2LMHeadModel\n",
        "from transformers import WEIGHTS_NAME, CONFIG_NAME\n",
        "from tqdm import tqdm"
      ],
      "outputs": [
        {
          "output_type": "stream",
          "name": "stderr",
          "text": "2022-04-04 10:28:17.728338: I tensorflow/stream_executor/platform/default/dso_loader.cc:49] Successfully opened dynamic library libcudart.so.10.1\n/anaconda/envs/Project/lib/python3.9/site-packages/tqdm/auto.py:22: TqdmWarning: IProgress not found. Please update jupyter and ipywidgets. See https://ipywidgets.readthedocs.io/en/stable/user_install.html\n  from .autonotebook import tqdm as notebook_tqdm\n"
        }
      ],
      "execution_count": 1,
      "metadata": {
        "gather": {
          "logged": 1649068100676
        }
      },
      "id": "5765a509"
    },
    {
      "cell_type": "markdown",
      "source": [
        "## Preparing dataset\n",
        "Initialize the project root, data, and model directories. `processed_data` directory contains selected books from renowned authors only."
      ],
      "metadata": {},
      "id": "0383c3e0"
    },
    {
      "cell_type": "code",
      "source": [
        "# get data and model directories\n",
        "project_root = Path('__file__').resolve().parents[1]\n",
        "data_dir = project_root / 'processed_data/'\n",
        "model_dir = project_root / 'models/bn_gpt2'\n",
        "os.makedirs(model_dir, exist_ok=True) # Create if does not exist"
      ],
      "outputs": [],
      "execution_count": 2,
      "metadata": {
        "gather": {
          "logged": 1649068108545
        }
      },
      "id": "04518bdc"
    },
    {
      "cell_type": "markdown",
      "source": [
        "Get list of files in the data directory"
      ],
      "metadata": {},
      "id": "82779262"
    },
    {
      "cell_type": "code",
      "source": [
        "filenames = [str(file) for file in Path(data_dir).glob('**/*.txt')]"
      ],
      "outputs": [],
      "execution_count": 3,
      "metadata": {
        "gather": {
          "logged": 1649068113493
        }
      },
      "id": "3fef3ebe"
    },
    {
      "cell_type": "markdown",
      "source": [
        "Then we randomly shuffle the filenames list and select 100 files."
      ],
      "metadata": {},
      "id": "3a375843"
    },
    {
      "cell_type": "code",
      "source": [
        "random.shuffle(filenames)\n",
        "filenames = filenames[:100]"
      ],
      "outputs": [],
      "execution_count": 16,
      "metadata": {
        "gather": {
          "logged": 1649068553775
        }
      },
      "id": "b1f03d8a"
    },
    {
      "cell_type": "markdown",
      "source": [
        "Split the files for training, validation, and testing. We are using 70% for training, 15% for validation and 15% for testing."
      ],
      "metadata": {},
      "id": "5b1ad487"
    },
    {
      "cell_type": "code",
      "source": [
        "train_size = int(len(filenames) * 0.70)\n",
        "train_filenames = filenames[:train_size]\n",
        "\n",
        "validation_size = train_size + int(len(filenames) * 0.15)\n",
        "validation_filenames = filenames[train_size:validation_size]\n",
        "\n",
        "test_filenames = filenames[validation_size:]"
      ],
      "outputs": [],
      "execution_count": 14,
      "metadata": {
        "gather": {
          "logged": 1649068497927
        }
      },
      "id": "f53afea6"
    },
    {
      "cell_type": "markdown",
      "source": [
        "`create_dataset` creates a Tensorflow Dataset from a list of filenames with a length of `max_sequence_length - 1`. `inputs` list contains first `max_sequence_length - 1` number of words except the last word, and `labels` list contains last `max_sequence_length - 1` words except the first word. `skip_size` defines how many words to skip from a tokenized string when creating `inputs` and `labels` list."
      ],
      "metadata": {
        "nteract": {
          "transient": {
            "deleting": false
          }
        }
      },
      "id": "aa8b522c-3fbc-4050-913c-c0c43cfdeed9"
    },
    {
      "cell_type": "code",
      "source": [
        "def create_dataset(tokenizer, filenames, max_sequence_length, skip_size):\n",
        "    BATCH_SIZE = 12     # batch size 12 is needed for transformer\n",
        "    BUFFER_SIZE = 1000  # for random shuffling\n",
        "    inputs = []\n",
        "    labels = []\n",
        "\n",
        "    for file in tqdm(filenames):\n",
        "        with open(file, 'r') as f:\n",
        "            for line in f:\n",
        "                string_tokenized = tokenizer.encode(line)\n",
        "                for i in range(0, len(string_tokenized) - max_sequence_length + 1, skip_size):\n",
        "                    ex = string_tokenized[i:i + max_sequence_length]\n",
        "                    inputs.append(ex[:-1])\n",
        "                    labels.append(ex[1:])\n",
        "    dataset = tf.data.Dataset.from_tensor_slices((inputs, labels))\n",
        "    dataset = dataset.shuffle(BUFFER_SIZE).batch(BATCH_SIZE, drop_remainder=True)\n",
        "    return dataset"
      ],
      "outputs": [],
      "execution_count": 6,
      "metadata": {
        "gather": {
          "logged": 1649068123147
        }
      },
      "id": "84f61d16"
    },
    {
      "cell_type": "markdown",
      "source": [
        "Create a tokenizer from pretrained model and add special tokens for padding, beginning, and end of sentence."
      ],
      "metadata": {},
      "id": "e662c10e"
    },
    {
      "cell_type": "code",
      "source": [
        "tokenizer = AutoTokenizer.from_pretrained(\"flax-community/gpt2-bengali\")\n",
        "tokenizer.add_special_tokens(\n",
        "    {'pad_token': '<pad>', 'bos_token': '<s>', 'eos_token': '</s>'})"
      ],
      "outputs": [
        {
          "output_type": "execute_result",
          "execution_count": 7,
          "data": {
            "text/plain": "3"
          },
          "metadata": {}
        }
      ],
      "execution_count": 7,
      "metadata": {
        "gather": {
          "logged": 1649068136687
        }
      },
      "id": "d8b72e67"
    },
    {
      "cell_type": "markdown",
      "source": [
        "Define max sequence length and skip size for `create_dataset`."
      ],
      "metadata": {},
      "id": "bf9a093e"
    },
    {
      "cell_type": "code",
      "source": [
        "MAX_SEQUENCE_LENGTH = 200\n",
        "SKIP_SIZE = 50"
      ],
      "outputs": [],
      "execution_count": 8,
      "metadata": {
        "gather": {
          "logged": 1649068138704
        }
      },
      "id": "7ea431a8"
    },
    {
      "cell_type": "markdown",
      "source": [
        "Now we create train, validation and test dataset from the files."
      ],
      "metadata": {},
      "id": "a6246d72"
    },
    {
      "cell_type": "code",
      "source": [
        "train_dataset = create_dataset(tokenizer, train_filenames, MAX_SEQUENCE_LENGTH, SKIP_SIZE)\n",
        "validation_dataset = create_dataset(tokenizer, validation_filenames, MAX_SEQUENCE_LENGTH, SKIP_SIZE)\n",
        "test_dataset = create_dataset(tokenizer, test_filenames, MAX_SEQUENCE_LENGTH, SKIP_SIZE)"
      ],
      "outputs": [
        {
          "output_type": "stream",
          "name": "stderr",
          "text": "100%|██████████| 14/14 [00:14<00:00,  1.03s/it]\n100%|██████████| 3/3 [00:04<00:00,  1.44s/it]\n100%|██████████| 3/3 [00:01<00:00,  2.51it/s]\n"
        }
      ],
      "execution_count": 15,
      "metadata": {
        "jupyter": {
          "outputs_hidden": true
        },
        "gather": {
          "logged": 1649068553482
        }
      },
      "id": "0e2dcee0"
    },
    {
      "cell_type": "markdown",
      "source": [
        "## Creating Model"
      ],
      "metadata": {},
      "id": "766d4d52"
    },
    {
      "cell_type": "markdown",
      "source": [
        "Load pretrained Bangla GPT2 model from [flax-community/gpt2-bengali](https://huggingface.co/flax-community/gpt2-bengali). Compile the pretrained model with optimizer `adam` with a learning_rate of 0.001, loss `sparse categorical crossentropy` and accuracy metric `sparse categorical accuracy`."
      ],
      "metadata": {},
      "id": "41676607"
    },
    {
      "cell_type": "code",
      "source": [
        "model = TFGPT2LMHeadModel.from_pretrained('flax-community/gpt2-bengali', from_pt=True)\n",
        "# create model parameters\n",
        "adam = tf.keras.optimizers.Adam(learning_rate=0.001)\n",
        "# definining our loss function\n",
        "loss = tf.keras.losses.SparseCategoricalCrossentropy(from_logits=True)\n",
        "# defining our metric which we want to observe\n",
        "metric = tf.keras.metrics.SparseCategoricalAccuracy('accuracy')\n",
        "model.compile(loss=[loss, *[None] * model.config.n_layer], optimizer=adam, metrics=[metric])"
      ],
      "outputs": [
        {
          "output_type": "stream",
          "name": "stderr",
          "text": "2022-04-04 10:32:19.187623: W tensorflow/python/util/util.cc:348] Sets are not currently considered sequences, but this may change in the future, so consider avoiding using them.\n2022-04-04 10:32:19.523735: I tensorflow/stream_executor/platform/default/dso_loader.cc:49] Successfully opened dynamic library libcublas.so.10\nSome weights of the PyTorch model were not used when initializing the TF 2.0 model TFGPT2LMHeadModel: ['transformer.h.6.attn.masked_bias', 'lm_head.weight', 'transformer.h.3.attn.masked_bias', 'transformer.h.8.attn.masked_bias', 'transformer.h.9.attn.masked_bias', 'transformer.h.11.attn.masked_bias', 'transformer.h.7.attn.masked_bias', 'transformer.h.10.attn.masked_bias', 'transformer.h.1.attn.masked_bias', 'transformer.h.4.attn.masked_bias', 'transformer.h.5.attn.masked_bias', 'transformer.h.0.attn.masked_bias', 'transformer.h.2.attn.masked_bias']\n- This IS expected if you are initializing TFGPT2LMHeadModel from a PyTorch model trained on another task or with another architecture (e.g. initializing a TFBertForSequenceClassification model from a BertForPreTraining model).\n- This IS NOT expected if you are initializing TFGPT2LMHeadModel from a PyTorch model that you expect to be exactly identical (e.g. initializing a TFBertForSequenceClassification model from a BertForSequenceClassification model).\nAll the weights of TFGPT2LMHeadModel were initialized from the PyTorch model.\nIf your task is similar to the task the model of the checkpoint was trained on, you can already use TFGPT2LMHeadModel for predictions without further training.\n"
        }
      ],
      "execution_count": 11,
      "metadata": {
        "gather": {
          "logged": 1649068340296
        }
      },
      "id": "7f6fb7ab"
    },
    {
      "cell_type": "markdown",
      "source": [
        "Create a checkpoint to save the best model that has the lowest loss."
      ],
      "metadata": {},
      "id": "36aca902"
    },
    {
      "cell_type": "code",
      "source": [
        "checkpoint = tf.keras.callbacks.ModelCheckpoint(str(model_dir),\n",
        "                                                monitor='loss',\n",
        "                                                verbose=1,\n",
        "                                                save_best_only=True,\n",
        "                                                mode='min')"
      ],
      "outputs": [],
      "execution_count": 12,
      "metadata": {
        "gather": {
          "logged": 1649068344173
        }
      },
      "id": "34b0056e"
    },
    {
      "cell_type": "markdown",
      "source": [
        "Train on `train_dataset` for some epochs."
      ],
      "metadata": {},
      "id": "1014abb8"
    },
    {
      "cell_type": "code",
      "source": [
        "history = model.fit(train_dataset, validation_data=validation_dataset,\n",
        "                    epochs=10, batch_size=1024, callbacks=[checkpoint])"
      ],
      "outputs": [
        {
          "output_type": "stream",
          "name": "stdout",
          "text": "Epoch 1/10\nWARNING:tensorflow:AutoGraph could not transform <bound method TFGPT2LMHeadModel.call of <transformers.models.gpt2.modeling_tf_gpt2.TFGPT2LMHeadModel object at 0x7faefd290af0>> and will run it as-is.\nPlease report this to the TensorFlow team. When filing the bug, set the verbosity to 10 (on Linux, `export AUTOGRAPH_VERBOSITY=10`) and attach the full output.\nCause: module 'gast' has no attribute 'Index'\nTo silence this warning, decorate the function with @tf.autograph.experimental.do_not_convert\nWARNING: AutoGraph could not transform <bound method TFGPT2LMHeadModel.call of <transformers.models.gpt2.modeling_tf_gpt2.TFGPT2LMHeadModel object at 0x7faefd290af0>> and will run it as-is.\nPlease report this to the TensorFlow team. When filing the bug, set the verbosity to 10 (on Linux, `export AUTOGRAPH_VERBOSITY=10`) and attach the full output.\nCause: module 'gast' has no attribute 'Index'\nTo silence this warning, decorate the function with @tf.autograph.experimental.do_not_convert\nWARNING:tensorflow:AutoGraph could not transform <bound method TFGPT2MainLayer.call of <transformers.models.gpt2.modeling_tf_gpt2.TFGPT2MainLayer object at 0x7faefd293c40>> and will run it as-is.\nPlease report this to the TensorFlow team. When filing the bug, set the verbosity to 10 (on Linux, `export AUTOGRAPH_VERBOSITY=10`) and attach the full output.\nCause: module 'gast' has no attribute 'Index'\nTo silence this warning, decorate the function with @tf.autograph.experimental.do_not_convert\nWARNING: AutoGraph could not transform <bound method TFGPT2MainLayer.call of <transformers.models.gpt2.modeling_tf_gpt2.TFGPT2MainLayer object at 0x7faefd293c40>> and will run it as-is.\nPlease report this to the TensorFlow team. When filing the bug, set the verbosity to 10 (on Linux, `export AUTOGRAPH_VERBOSITY=10`) and attach the full output.\nCause: module 'gast' has no attribute 'Index'\nTo silence this warning, decorate the function with @tf.autograph.experimental.do_not_convert\nWARNING:tensorflow:AutoGraph could not transform <bound method TFBlock.call of <transformers.models.gpt2.modeling_tf_gpt2.TFBlock object at 0x7faf2eb127c0>> and will run it as-is.\nPlease report this to the TensorFlow team. When filing the bug, set the verbosity to 10 (on Linux, `export AUTOGRAPH_VERBOSITY=10`) and attach the full output.\nCause: module 'gast' has no attribute 'Index'\nTo silence this warning, decorate the function with @tf.autograph.experimental.do_not_convert\nWARNING: AutoGraph could not transform <bound method TFBlock.call of <transformers.models.gpt2.modeling_tf_gpt2.TFBlock object at 0x7faf2eb127c0>> and will run it as-is.\nPlease report this to the TensorFlow team. When filing the bug, set the verbosity to 10 (on Linux, `export AUTOGRAPH_VERBOSITY=10`) and attach the full output.\nCause: module 'gast' has no attribute 'Index'\nTo silence this warning, decorate the function with @tf.autograph.experimental.do_not_convert\nWARNING:tensorflow:AutoGraph could not transform <bound method TFAttention.call of <transformers.models.gpt2.modeling_tf_gpt2.TFAttention object at 0x7faf1c89aa30>> and will run it as-is.\nPlease report this to the TensorFlow team. When filing the bug, set the verbosity to 10 (on Linux, `export AUTOGRAPH_VERBOSITY=10`) and attach the full output.\nCause: module 'gast' has no attribute 'Index'\nTo silence this warning, decorate the function with @tf.autograph.experimental.do_not_convert\nWARNING: AutoGraph could not transform <bound method TFAttention.call of <transformers.models.gpt2.modeling_tf_gpt2.TFAttention object at 0x7faf1c89aa30>> and will run it as-is.\nPlease report this to the TensorFlow team. When filing the bug, set the verbosity to 10 (on Linux, `export AUTOGRAPH_VERBOSITY=10`) and attach the full output.\nCause: module 'gast' has no attribute 'Index'\nTo silence this warning, decorate the function with @tf.autograph.experimental.do_not_convert\nWARNING:tensorflow:AutoGraph could not transform <bound method TFConv1D.call of <transformers.modeling_tf_utils.TFConv1D object at 0x7faf1c868df0>> and will run it as-is.\nPlease report this to the TensorFlow team. When filing the bug, set the verbosity to 10 (on Linux, `export AUTOGRAPH_VERBOSITY=10`) and attach the full output.\nCause: module 'gast' has no attribute 'Index'\nTo silence this warning, decorate the function with @tf.autograph.experimental.do_not_convert\nWARNING: AutoGraph could not transform <bound method TFConv1D.call of <transformers.modeling_tf_utils.TFConv1D object at 0x7faf1c868df0>> and will run it as-is.\nPlease report this to the TensorFlow team. When filing the bug, set the verbosity to 10 (on Linux, `export AUTOGRAPH_VERBOSITY=10`) and attach the full output.\nCause: module 'gast' has no attribute 'Index'\nTo silence this warning, decorate the function with @tf.autograph.experimental.do_not_convert\nWARNING:tensorflow:AutoGraph could not transform <bound method TFSharedEmbeddings._linear of <transformers.modeling_tf_utils.TFSharedEmbeddings object at 0x7faf1c6f2f40>> and will run it as-is.\nPlease report this to the TensorFlow team. When filing the bug, set the verbosity to 10 (on Linux, `export AUTOGRAPH_VERBOSITY=10`) and attach the full output.\nCause: module 'gast' has no attribute 'Index'\nTo silence this warning, decorate the function with @tf.autograph.experimental.do_not_convert\nWARNING: AutoGraph could not transform <bound method TFSharedEmbeddings._linear of <transformers.modeling_tf_utils.TFSharedEmbeddings object at 0x7faf1c6f2f40>> and will run it as-is.\nPlease report this to the TensorFlow team. When filing the bug, set the verbosity to 10 (on Linux, `export AUTOGRAPH_VERBOSITY=10`) and attach the full output.\nCause: module 'gast' has no attribute 'Index'\nTo silence this warning, decorate the function with @tf.autograph.experimental.do_not_convert\n1720/1720 [==============================] - 2097s 1s/step - loss: 1.2896 - logits_loss: 1.2896 - logits_accuracy: 0.6902 - past_key_values_1_accuracy: 1.3797e-04 - past_key_values_2_accuracy: 1.2119e-04 - past_key_values_3_accuracy: 3.7796e-05 - past_key_values_4_accuracy: 2.7542e-04 - past_key_values_5_accuracy: 1.6193e-04 - past_key_values_6_accuracy: 1.9038e-04 - past_key_values_7_accuracy: 1.1813e-04 - past_key_values_8_accuracy: 1.1158e-04 - past_key_values_9_accuracy: 1.1098e-04 - past_key_values_10_accuracy: 2.8327e-04 - past_key_values_11_accuracy: 1.0607e-04 - past_key_values_12_accuracy: 1.6837e-04 - val_loss: 2.9532 - val_logits_loss: 2.9532 - val_logits_accuracy: 0.4941 - val_past_key_values_1_accuracy: 1.7025e-04 - val_past_key_values_2_accuracy: 1.8667e-04 - val_past_key_values_3_accuracy: 2.2711e-05 - val_past_key_values_4_accuracy: 3.1842e-04 - val_past_key_values_5_accuracy: 2.4370e-04 - val_past_key_values_6_accuracy: 3.8918e-04 - val_past_key_values_7_accuracy: 1.9805e-04 - val_past_key_values_8_accuracy: 2.1253e-04 - val_past_key_values_9_accuracy: 1.6344e-04 - val_past_key_values_10_accuracy: 4.9073e-04 - val_past_key_values_11_accuracy: 1.5824e-04 - val_past_key_values_12_accuracy: 2.3100e-04\n\nEpoch 00001: loss improved from inf to 1.12494, saving model to /mnt/batch/tasks/shared/LS_root/mounts/clusters/mlmachine/code/Users/mahbub.shafquat/bangla-next-word-prediction/models/bn_gpt2\nEpoch 2/10\n 370/1720 [=====>........................] - ETA: 25:21 - loss: 0.9805 - logits_loss: 0.9805 - logits_accuracy: 0.7500 - past_key_values_1_accuracy: 1.0668e-04 - past_key_values_2_accuracy: 9.4463e-05 - past_key_values_3_accuracy: 2.5651e-05 - past_key_values_4_accuracy: 1.9153e-04 - past_key_values_5_accuracy: 1.5470e-04 - past_key_values_6_accuracy: 2.1727e-04 - past_key_values_7_accuracy: 1.1560e-04 - past_key_values_8_accuracy: 9.8240e-05 - past_key_values_9_accuracy: 1.0919e-04 - past_key_values_10_accuracy: 2.5904e-04 - past_key_values_11_accuracy: 9.0298e-05 - past_key_values_12_accuracy: 1.2697e-04\b\b\b\b\b\b\b\b\b\b\b\b\b\b\b\b\b\b\b\b\b\b\b\b\b\b\b\b\b\b\b\b\b\b\b\b\b\b\b\b\b\b\b\b\b\b\b\b\b\b\b\b\b\b\b\b\b\b\b\b\b\b\b\b\b\b\b\b\b\b\b\b\b\b\b\b\b\b\b\b\b\b\b\b\b\b\b\b\b\b\b\b\b\b\b\b\b\b\b\b\b\b\b\b\b\b\b\b\b\b\b\b\b\b\b\b\b\b\b\b\b\b\b\b\b\b\b\b\b\b\b\b\b\b\b\b\b\b\b\b\b\b\b\b\b\b\b\b\b\b\b\b\b\b\b\b\b\b\b\b\b\b\b\b\b\b\b\b\b\b\b\b\b\b\b\b\b\b\b\b\b\b\b\b\b\b\b\b\b\b\b\b\b\b\b\b\b\b\b\b\b\b\b\b\b\b\b\b\b\b\b\b\b\b\b\b\b\b\b\b\b\b\b\b\b\b\b\b\b\b\b\b\b\b\b\b\b\b\b\b\b\b\b\b\b\b\b\b\b\b\b\b\b\b\b\b\b\b\b\b\b\b\b\b\b\b\b\b\b\b\b\b\b\b\b\b\b\b\b\b\b\b\b\b\b\b\b\b\b\b\b\b\b\b\b\b\b\b\b\b\b\b\b\b\b\b\b\b\b\b\b\b\b\b\b\b\b\b\b\b\b\b\b\b\b\b\b\b\b\b\b\b\b\b\b\b\b\b\b\b\b\b\b\b\b\b\b\b\b\b\b\b\b\b\b\b\b\b\b\b\b\b\b\b\b\b\b\b\b\b\b\b\b\b\b\b\b\b\b\b\b\b\b\b\b\b\b\b\b\b\b\b\b\b\b\b\b\b\b\b\b\b\b\b\b\b\b\b\b\b\b\b\b\b\b\b\b\b\b\b\b\b\b\b\b\b\b\b\b\b\b\b\b\b\b\b\b\b\b\b\b\b\b\b\b\b\b\b\b\b\b\b\b\b\b\b\b\b\b\b\b\b\b\b\b\b\b\b\b\b\b\b\b\b\b\b\b\b\b\b\b\b\b\b\b\b\b\b\b\b\b\b\b\b\b\b\b\b\b\b\b\b\b\b\b\b\b\b\b\b\b\b\b\b\b\b\b\b\b\b\b\b\b\b\b\b\b\b\b\b\b\b\b\b\b\b\b\b\b\b\b\b\b\b\b\b\b\b\b\b\b\b\b\b\b\b\b\b\b\b\b\b\b\b\b\b\b\b\b\b\b\b\b\b\b\b\b\b\b\b\b\b\b\b\b\b\b\b\b\b\b\b\b\b\b\b\b\b\b\b\b\b\b\b\b\b\b\b\b\b\b\b\b\r 371/1720 [=====>........................] - ETA: 25:20 - loss: 0.9799 - logits_loss: 0.9799 - logits_accuracy: 0.7502 - past_key_values_1_accuracy: 1.0680e-04 - past_key_values_2_accuracy: 9.4499e-05 - past_key_values_3_accuracy: 2.5686e-05 - past_key_values_4_accuracy: 1.9165e-04 - past_key_values_5_accuracy: 1.5479e-04 - past_key_values_6_accuracy: 2.1730e-04 - past_key_values_7_accuracy: 1.1565e-04 - past_key_values_8_accuracy: 9.8280e-05 - past_key_values_9_accuracy: 1.0922e-04 - past_key_values_10_accuracy: 2.5907e-04 - past_key_values_11_accuracy: 9.0379e-05 - past_key_values_12_accuracy: 1.2704e-04"
        },
        {
          "output_type": "stream",
          "name": "stderr",
          "text": "2022-04-04 10:36:11.858706: I tensorflow/compiler/mlir/mlir_graph_optimization_pass.cc:116] None of the MLIR optimization passes are enabled (registered 2)\n2022-04-04 10:36:11.914345: I tensorflow/core/platform/profile_utils/cpu_utils.cc:112] CPU Frequency: 2596990000 Hz\n"
        }
      ],
      "execution_count": 17,
      "metadata": {},
      "id": "19aeda02"
    },
    {
      "cell_type": "markdown",
      "source": [
        "Training each epoch took around 30 minutes. Now we save the history for later use."
      ],
      "metadata": {},
      "id": "ea11d63d"
    },
    {
      "cell_type": "code",
      "source": [
        "with open(str(model_dir / 'history'), 'wb') as file_pi:\n",
        "    pickle.dump(history, file_pi)"
      ],
      "outputs": [
        {
          "output_type": "stream",
          "name": "stderr",
          "text": "WARNING:absl:Found untraced functions such as wte_layer_call_fn, wte_layer_call_and_return_conditional_losses, dropout_layer_call_fn, dropout_layer_call_and_return_conditional_losses, ln_f_layer_call_fn while saving (showing 5 of 294). These functions will not be directly callable after loading.\n"
        },
        {
          "output_type": "stream",
          "name": "stdout",
          "text": "INFO:tensorflow:Assets written to: ram://4025ca08-0081-4f7c-9472-1e172ec12420/assets\n"
        },
        {
          "output_type": "stream",
          "name": "stderr",
          "text": "INFO:tensorflow:Assets written to: ram://4025ca08-0081-4f7c-9472-1e172ec12420/assets\n"
        }
      ],
      "execution_count": 17,
      "metadata": {},
      "id": "92eda952"
    },
    {
      "cell_type": "markdown",
      "source": [
        "And also save the model and tokenizer."
      ],
      "metadata": {},
      "id": "5b5c18eb"
    },
    {
      "cell_type": "code",
      "source": [
        "model_to_save = model.module if hasattr(model, 'module') else model\n",
        "output_model_file = os.path.join(model_dir, WEIGHTS_NAME)\n",
        "output_config_file = os.path.join(model_dir, CONFIG_NAME)\n",
        "# save model and model configs\n",
        "model.save_pretrained(model_dir)\n",
        "model_to_save.config.to_json_file(output_config_file)\n",
        "# save tokenizer\n",
        "tokenizer.save_pretrained(model_dir)"
      ],
      "outputs": [
        {
          "output_type": "execute_result",
          "execution_count": 18,
          "data": {
            "text/plain": "('/home/shafquat/bangla-next-word-prediction/models/bn_gpt2/tokenizer_config.json',\n '/home/shafquat/bangla-next-word-prediction/models/bn_gpt2/special_tokens_map.json',\n '/home/shafquat/bangla-next-word-prediction/models/bn_gpt2/vocab.json',\n '/home/shafquat/bangla-next-word-prediction/models/bn_gpt2/merges.txt',\n '/home/shafquat/bangla-next-word-prediction/models/bn_gpt2/added_tokens.json',\n '/home/shafquat/bangla-next-word-prediction/models/bn_gpt2/tokenizer.json')"
          },
          "metadata": {}
        }
      ],
      "execution_count": 18,
      "metadata": {},
      "id": "7931e775"
    },
    {
      "cell_type": "markdown",
      "source": [
        "Finally we evaluate the model on `test_dataset`"
      ],
      "metadata": {},
      "id": "12ae5227"
    },
    {
      "cell_type": "code",
      "source": [
        "model.evaluate(test_dataset, batch_size=1024)"
      ],
      "outputs": [
        {
          "output_type": "stream",
          "name": "stdout",
          "text": "457/457 [==============================] - 118s 256ms/step - loss: 1.8501 - logits_loss: 1.8501 - logits_accuracy: 0.5748 - past_key_values_1_accuracy: 1.1145e-04 - past_key_values_2_accuracy: 1.1756e-04 - past_key_values_3_accuracy: 1.6876e-05 - past_key_values_4_accuracy: 1.8300e-04 - past_key_values_5_accuracy: 1.4879e-04 - past_key_values_6_accuracy: 2.2984e-04 - past_key_values_7_accuracy: 1.1786e-04 - past_key_values_8_accuracy: 1.2130e-04 - past_key_values_9_accuracy: 8.9380e-05 - past_key_values_10_accuracy: 2.5103e-04 - past_key_values_11_accuracy: 9.1518e-05 - past_key_values_12_accuracy: 1.5982e-04\n"
        },
        {
          "output_type": "execute_result",
          "execution_count": 19,
          "data": {
            "text/plain": "[1.8500999212265015,\n 1.8500999212265015,\n 0.5748472213745117,\n 0.00011144801101181656,\n 0.00011755684681702405,\n 1.6875650544534437e-05,\n 0.00018299771181773394,\n 0.00014878825459163636,\n 0.0002298448234796524,\n 0.00011786228424170986,\n 0.00012129850802011788,\n 8.937985694501549e-05,\n 0.00025103482767008245,\n 9.151794802164659e-05,\n 0.0001598223316250369]"
          },
          "metadata": {}
        }
      ],
      "execution_count": 19,
      "metadata": {},
      "id": "3d7d774d"
    },
    {
      "cell_type": "markdown",
      "source": [
        "The first value in the list is the loss, and the 3rd one is the accuracy."
      ],
      "metadata": {},
      "id": "4e004dbf"
    },
    {
      "cell_type": "markdown",
      "source": [
        "## Plotting the training accuracy and loss"
      ],
      "metadata": {},
      "id": "3a3fb80e"
    },
    {
      "cell_type": "code",
      "source": [
        "fig = plt.figure(figsize=(10, 6))\n",
        "plt.plot(history.history['logits_accuracy'])\n",
        "plt.title('Model Accuracy')\n",
        "plt.ylabel('accuracy')\n",
        "plt.xlabel('epoch')\n",
        "fig.savefig(str(model_dir / 'logits_accuracy.png'), dpi=fig.dpi)\n",
        "\n",
        "fig = plt.figure(figsize=(10, 6))\n",
        "plt.plot(history.history['logits_loss'])\n",
        "plt.title('Model Loss')\n",
        "plt.ylabel('loss')\n",
        "plt.xlabel('epoch')\n",
        "fig.savefig(str(model_dir / 'logits_loss.png'), dpi=fig.dpi)"
      ],
      "outputs": [
        {
          "output_type": "display_data",
          "data": {
            "image/png": "[encoded data removed]",
            "text/plain": "<Figure size 720x432 with 1 Axes>"
          },
          "metadata": {
            "needs_background": "light"
          }
        },
        {
          "output_type": "display_data",
          "data": {
            "image/png": "[encoded data removed]",
            "text/plain": "<Figure size 720x432 with 1 Axes>"
          },
          "metadata": {
            "needs_background": "light"
          }
        }
      ],
      "execution_count": 20,
      "metadata": {},
      "id": "0fd8a9ff"
    },
    {
      "cell_type": "markdown",
      "source": [
        "## Testing the model with actual data"
      ],
      "metadata": {},
      "id": "4da9caf2"
    },
    {
      "cell_type": "markdown",
      "source": [
        "Load the tokenizer and the model first if not already loaded"
      ],
      "metadata": {},
      "id": "a70e88b4"
    },
    {
      "cell_type": "code",
      "source": [
        "tokenizer2 = AutoTokenizer.from_pretrained(model_dir)\n",
        "model2 = TFGPT2LMHeadModel.from_pretrained(str(model_dir))"
      ],
      "outputs": [
        {
          "output_type": "stream",
          "name": "stderr",
          "text": "All model checkpoint layers were used when initializing TFGPT2LMHeadModel.\n\nAll the layers of TFGPT2LMHeadModel were initialized from the model checkpoint at /home/shafquat/bangla-next-word-prediction/models/bn_gpt2.\nIf your task is similar to the task the model of the checkpoint was trained on, you can already use TFGPT2LMHeadModel for predictions without further training.\n"
        }
      ],
      "execution_count": 21,
      "metadata": {},
      "id": "e3a9241b"
    },
    {
      "cell_type": "markdown",
      "source": [
        "The function `generate_text` takes as input text, model, and tokenizer and generates top 5 texts with sampling `top_k` of 50 and `top_p` of 0.95. More on these sampling can be found on this [blog post](https://huggingface.co/blog/how-to-generate)."
      ],
      "metadata": {},
      "id": "d666b5c9"
    },
    {
      "cell_type": "code",
      "source": [
        "def generate_text(text, model, tokenizer):\n",
        "    input_ids = tokenizer.encode(text, return_tensors='tf')\n",
        "    outputs = model.predict(input_ids).logits\n",
        "\n",
        "    print(\"Next most probable tokens:\\n\" + 100 * '-')\n",
        "    for i in range(outputs.shape[1]):\n",
        "        pred_id = np.argmax(outputs[:, i, :]).item()\n",
        "        print(tokenizer.decode(pred_id))\n",
        "    \n",
        "    beam_outputs = model.generate(\n",
        "        input_ids,\n",
        "        max_length=100,\n",
        "        num_beams=5,\n",
        "        no_repeat_ngram_size=2,\n",
        "        num_return_sequences=5,\n",
        "        early_stopping=True,\n",
        "        do_sample=True,\n",
        "        top_k=50,\n",
        "        top_p=0.95,\n",
        "    )\n",
        "\n",
        "    print(\"Beam Output:\\n\" + 100 * '-')\n",
        "    for i, beam_output in enumerate(beam_outputs):\n",
        "        print(\"{}: {}\".format(i, tokenizer.decode(\n",
        "            beam_output, skip_special_tokens=True)))"
      ],
      "outputs": [],
      "execution_count": 78,
      "metadata": {},
      "id": "15d937c4"
    },
    {
      "cell_type": "markdown",
      "source": [
        "Let's test our model for different texts using this function"
      ],
      "metadata": {},
      "id": "3ab42530"
    },
    {
      "cell_type": "code",
      "source": [
        "text = input(\"Enter text: \")\n",
        "generate_text(text, model, tokenizer)"
      ],
      "outputs": [
        {
          "output_type": "stream",
          "name": "stdout",
          "text": "Enter text: কী অবস্থা\n"
        },
        {
          "output_type": "stream",
          "name": "stderr",
          "text": "Setting `pad_token_id` to 50256 (first `eos_token_id`) to generate sequence\n"
        },
        {
          "output_type": "stream",
          "name": "stdout",
          "text": "Next most probable tokens\n:----------------------------------------------------------------------------------------------------\nে\nর\n্\nথ\nা\nয\nBeam Output:\n----------------------------------------------------------------------------------------------------\n0: কী অবস্থায় মারা গিয়েছিলেন সে সম্পর্কে কোনও বিশেষ কিছুই লেখেননি তিনি। অর্জুন জিজ্ঞেস করল, আপনি কী করে বেঁচে থাকা ব্যক্তিদের কথা লিখতে শুরু কর\n1: কী অবস্থায় তিনি মৃত্যুবরণ করেছিলেন, তার সঠিক ইতিহাস কীভাবে জানা সম্ভব? কেউ কোনো কথা বলতে পারবে না। রিরা একটু অবাক হয়ে বলল, কিছুক্ষণ আগে তুমি আমাদের\n2: কী অবস্থায় তিনি মৃত্যুবরণ করেছিলেন তার সঠিক ইতিহাস কীভাবে জানা সম্ভব? কেউ কি বলতে পারবে না যে তাঁর জীবনের সবচেয়ে বড় কৌতূহল কাকে দেখাতে চাচ্ছ\n3: কী অবস্থায় তিনি মৃত্যুবরণ করেছিলেন তার সঠিক ইতিহাস কীভাবে জানা সম্ভব? কেউ কোনো কথা বলতে পারবে না। কাজেই আমি মনে করি আমাদের বাংলা ভাষাকে বাঁচিয়ে\n4: কী অবস্থায় তিনি মৃত্যুবরণ করেছিলেন তার সঠিক ইতিহাস কীভাবে জানা সম্ভব? তাঁর জীবনের সবচেয়ে বড় অর্জন হচ্ছে কবিতা লেখা। পৃথিবীর যে কোনো ভাষাতেই\n"
        }
      ],
      "execution_count": 77,
      "metadata": {},
      "id": "85103091"
    },
    {
      "cell_type": "markdown",
      "source": [
        "## Converting tensorflow model to tflite format"
      ],
      "metadata": {},
      "id": "00b60bd4"
    },
    {
      "cell_type": "markdown",
      "source": [
        "Set converter parameters to convert the model with FP16 quantization"
      ],
      "metadata": {},
      "id": "0ecbabe1"
    },
    {
      "cell_type": "code",
      "source": [
        "converter = tf.lite.TFLiteConverter.from_keras_model(model)\n",
        "converter.target_spec.supported_ops = [tf.lite.OpsSet.TFLITE_BUILTINS, tf.lite.OpsSet.SELECT_TF_OPS]\n",
        "converter.target_spec.supported_types = [tf.float16]\n",
        "converter.optimizations = [tf.lite.Optimize.DEFAULT]"
      ],
      "outputs": [],
      "execution_count": 80,
      "metadata": {},
      "id": "fbe3c1f0"
    },
    {
      "cell_type": "markdown",
      "source": [
        "Now convert the model and save as `.tflite` file"
      ],
      "metadata": {},
      "id": "e5b78b3e"
    },
    {
      "cell_type": "code",
      "source": [
        "tflite_model = converter.convert()\n",
        "# Save the model.\n",
        "with open(model_dir / 'bn_gpt2_model.tflite', 'wb') as f:\n",
        "  f.write(tflite_model)"
      ],
      "outputs": [
        {
          "output_type": "stream",
          "name": "stderr",
          "text": "WARNING:absl:Found untraced functions such as wte_layer_call_fn, wte_layer_call_and_return_conditional_losses, dropout_layer_call_fn, dropout_layer_call_and_return_conditional_losses, ln_f_layer_call_fn while saving (showing 5 of 294). These functions will not be directly callable after loading.\n"
        },
        {
          "output_type": "stream",
          "name": "stdout",
          "text": "INFO:tensorflow:Assets written to: /tmp/tmp15gzj6_v/assets\n"
        },
        {
          "output_type": "stream",
          "name": "stderr",
          "text": "INFO:tensorflow:Assets written to: /tmp/tmp15gzj6_v/assets\n2022-04-02 16:36:19.172880: W tensorflow/compiler/mlir/lite/python/tf_tfl_flatbuffer_helpers.cc:357] Ignored output_format.\n2022-04-02 16:36:19.172903: W tensorflow/compiler/mlir/lite/python/tf_tfl_flatbuffer_helpers.cc:360] Ignored drop_control_dependency.\n2022-04-02 16:36:19.173094: I tensorflow/cc/saved_model/reader.cc:43] Reading SavedModel from: /tmp/tmp15gzj6_v\n2022-04-02 16:36:19.225957: I tensorflow/cc/saved_model/reader.cc:78] Reading meta graph with tags { serve }\n2022-04-02 16:36:19.225987: I tensorflow/cc/saved_model/reader.cc:119] Reading SavedModel debug info (if present) from: /tmp/tmp15gzj6_v\n2022-04-02 16:36:19.402393: I tensorflow/cc/saved_model/loader.cc:228] Restoring SavedModel bundle.\n2022-04-02 16:36:20.635837: I tensorflow/cc/saved_model/loader.cc:212] Running initialization op on SavedModel bundle at path: /tmp/tmp15gzj6_v\n2022-04-02 16:36:21.010214: I tensorflow/cc/saved_model/loader.cc:301] SavedModel load for tags { serve }; Status: success: OK. Took 1837121 microseconds.\nWARNING:absl:Buffer deduplication procedure will be skipped when flatbuffer library is not properly loaded\n"
        }
      ],
      "execution_count": 81,
      "metadata": {},
      "id": "6f642750"
    },
    {
      "cell_type": "markdown",
      "source": [
        "This model can be used with android applications"
      ],
      "metadata": {},
      "id": "49225595"
    }
  ],
  "metadata": {
    "kernelspec": {
      "name": "project",
      "language": "python",
      "display_name": "Project Setup"
    },
    "language_info": {
      "name": "python",
      "version": "3.9.11",
      "mimetype": "text/x-python",
      "codemirror_mode": {
        "name": "ipython",
        "version": 3
      },
      "pygments_lexer": "ipython3",
      "nbconvert_exporter": "python",
      "file_extension": ".py"
    },
    "kernel_info": {
      "name": "project"
    },
    "nteract": {
      "version": "nteract-front-end@1.0.0"
    }
  },
  "nbformat": 4,
  "nbformat_minor": 5
}